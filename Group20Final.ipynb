{
 "cells": [
  {
   "cell_type": "markdown",
   "metadata": {},
   "source": [
    "# Group 20 \n",
    "# Responsibilities of Members\n",
    "Mario - Feature engineering (label encoded features, transforming target into binary value, feature selection using pca) oversampled using ADASYN, created and fitted models for Logistic regression, LDA, MLP, and SVM.\n",
    "<br><br>Lucy - Feature engineering (label encoded features, transforming target into binary value, feature selection pvalues and), created data visualization, oversampled using resampling and smote,created and fitted models for KNN, Decision Tree, and Random Forest, and chose thresholds for all the models. \n",
    "<br><br>Akshay - merged the portuguese and math dataset, features selection using RFE,created and fitted model for Extreme Gradient Boosting, recall precison curve"
   ]
  },
  {
   "cell_type": "code",
   "execution_count": 6,
   "metadata": {
    "colab": {},
    "colab_type": "code",
    "id": "6TK44JFWPkDD"
   },
   "outputs": [],
   "source": [
    "#Importing Libraries\n",
    "\n",
    "# linear algebra\n",
    "import numpy as np \n",
    "import math\n",
    "\n",
    "# data processing\n",
    "import pandas as pd \n",
    "\n",
    "# data visualization\n",
    "import seaborn as sns\n",
    "%matplotlib inline\n",
    "from matplotlib import pyplot as plt\n",
    "from matplotlib import style\n",
    "\n",
    "# Algorithms/Models\n",
    "import statsmodels.formula.api as smf\n",
    "from sklearn import preprocessing\n",
    "from sklearn.model_selection import cross_val_score\n",
    "from sklearn.metrics import confusion_matrix, precision_score, recall_score, accuracy_score\n",
    "from sklearn.model_selection import train_test_split\n",
    "from sklearn import neighbors\n",
    "from sklearn.neighbors import KNeighborsClassifier\n",
    "import warnings;\n",
    "warnings.filterwarnings('ignore');\n",
    "from sklearn.linear_model import LogisticRegression\n",
    "from sklearn.linear_model import Ridge\n",
    "from sklearn.discriminant_analysis import LinearDiscriminantAnalysis\n",
    "from sklearn.neural_network import MLPClassifier\n",
    "from sklearn.discriminant_analysis import QuadraticDiscriminantAnalysis\n",
    "from xgboost import XGBClassifier\n",
    "from sklearn.tree import DecisionTreeClassifier\n",
    "from sklearn.ensemble import RandomForestClassifier\n",
    "from sklearn.ensemble import AdaBoostClassifier\n",
    "from sklearn.metrics import make_scorer, accuracy_score, precision_score, recall_score, f1_score\n",
    "from sklearn.ensemble import BaggingClassifier\n",
    "from sklearn.metrics import confusion_matrix\n"
   ]
  },
  {
   "cell_type": "markdown",
   "metadata": {},
   "source": [
    "## Separate Dataset"
   ]
  },
  {
   "cell_type": "code",
   "execution_count": 7,
   "metadata": {
    "colab": {},
    "colab_type": "code",
    "id": "gDTwYcYYPleX"
   },
   "outputs": [],
   "source": [
    "#Importing Data\n",
    "mat_df = pd.read_csv(\"student-mat.csv\")\n",
    "por_df = pd.read_csv(\"student-por.csv\")\n",
    "\n",
    "# por_df.info()\n",
    "# mat_df.info()\n",
    "\n"
   ]
  },
  {
   "cell_type": "code",
   "execution_count": 8,
   "metadata": {
    "colab": {},
    "colab_type": "code",
    "id": "vNwiBEL1JRL1"
   },
   "outputs": [],
   "source": [
    "#Merging Data\n",
    "# list1 = list(range(11))\n",
    "# list1.append(19)\n",
    "# list1.append(21)\n",
    "# hashes_mat = []\n",
    "# for row in range(np.shape(mat_df)[0]):\n",
    "#     record = \"\"\n",
    "#     for col in list1:\n",
    "#         record = record + str(mat_df.iloc[row, col])\n",
    "#     hashes_mat.append(hash(record))\n",
    "# mat_df['hash'] = hashes_mat\n",
    "# hashes_por = []\n",
    "# for row in range(np.shape(por_df)[0]):\n",
    "#     record = \"\"\n",
    "#     for col in list1:\n",
    "#         record = record + str(por_df.iloc[row, col])\n",
    "#     hashes_por.append(hash(record))\n",
    "# por_df['hash'] = hashes_por\n",
    "# mat_df['in_Math'] = 1\n",
    "# mat_df['in_Portuguese'] = 0\n",
    "# por_df['in_Portuguese'] = 1\n",
    "# por_df['in_Math'] = 0\n",
    "# mat_df = mat_df.rename(index=str, columns={\"G1\": \"G1_mat\", \"G2\": \"G2_mat\", \"G3\": \"G3_mat\"})\n",
    "# por_df = por_df.rename(index=str, columns={\"G1\": \"G1_por\", \"G2\": \"G2_por\", \"G3\": \"G3_por\"})\n",
    "# intersection = list(set(hashes_por) & set(hashes_mat))\n",
    "\n",
    "# merged = por_df.copy(deep = True)\n",
    "\n",
    "# extra_math = pd.DataFrame()\n",
    "# for row in range(np.shape(mat_df)[0]):\n",
    "#     try:\n",
    "#         intersection.index(mat_df.hash[row])\n",
    "#     except:\n",
    "#         extra_math = extra_math.append(mat_df.iloc[[row]])\n",
    "\n",
    "# # print(np.shape(mat_df))\n",
    "# # print(np.shape(extra_math))\n",
    "# # print(np.shape(intersection))\n",
    "\n",
    "# merged = merged.append(extra_math, ignore_index = True)\n",
    "# i = 0\n",
    "# for row in range(np.shape(merged)[0]):\n",
    "#     try:\n",
    "# #         print(row)\n",
    "#         hash_i = merged.hash[row]\n",
    "#         intersection.index(hash_i)\n",
    "#         i+=1\n",
    "#         merged.in_Math[row] = 1\n",
    "#         index_math = list(mat_df.hash).index(hash_i)\n",
    "#         merged.G1_mat[row] = mat_df.G1_mat[index_math]\n",
    "#         merged.G2_mat[row] = mat_df.G2_mat[index_math]\n",
    "#         merged.G3_mat[row] = mat_df.G3_mat[index_math]\n",
    "#     except:\n",
    "#         continue\n",
    "        \n",
    "        \n",
    "\n",
    "        "
   ]
  },
  {
   "cell_type": "code",
   "execution_count": 9,
   "metadata": {
    "colab": {},
    "colab_type": "code",
    "id": "wpYYNxK1R7fb"
   },
   "outputs": [],
   "source": [
    "#por_df.describe(include='all')\n",
    "#mat_df.describe(include='all')\n"
   ]
  },
  {
   "cell_type": "code",
   "execution_count": 10,
   "metadata": {
    "colab": {},
    "colab_type": "code",
    "id": "VrQZ7bBTSFsz"
   },
   "outputs": [],
   "source": [
    "# summing weekend and weekday alcohol consumption \n",
    "# por_df['SumAlc'] = ((por_df['Dalc']*5 + por_df['Walc']*2)/7).astype(int)\n",
    "# mat_df['SumAlc'] = ((mat_df['Dalc']*5 + mat_df['Walc']*2)/7).astype(int)\n",
    "\n",
    "# # converting alcohol consumption rate into two classes: Non drinkers and drinkers\n",
    "# threshold = 3\n",
    "\n",
    "# por_df.loc[por_df['SumAlc'] < threshold, 'SumAlc'] = 0 #non drinkers\n",
    "# por_df.loc[por_df['SumAlc'] >= threshold, 'SumAlc'] = 1 #drinkers\n",
    "\n",
    "# mat_df.loc[mat_df['SumAlc'] < threshold, 'SumAlc'] = 0\n",
    "# mat_df.loc[mat_df['SumAlc'] >= threshold, 'SumAlc'] = 1\n",
    "\n",
    "\n"
   ]
  },
  {
   "cell_type": "code",
   "execution_count": 11,
   "metadata": {
    "colab": {},
    "colab_type": "code",
    "id": "F8KMgHM-K4Ew"
   },
   "outputs": [],
   "source": [
    "#Drinker vs health for Portuguese\n",
    "#plt.figure(figsize=(10,6))\n",
    "#sns.set(font_scale=2)\n",
    "#sns.countplot(x=por_df.health,hue=por_df.SumAlc);"
   ]
  },
  {
   "cell_type": "code",
   "execution_count": 12,
   "metadata": {
    "colab": {},
    "colab_type": "code",
    "id": "nN4ZWBHYaFgk"
   },
   "outputs": [],
   "source": [
    "#drinker distribution by absences for Math\n",
    "# target_0 = mat_df[mat_df['SumAlc'] == 0]\n",
    "# target_1 = mat_df[mat_df['SumAlc'] == 1]\n",
    "\n",
    "#plt.figure(figsize=(10,6))\n",
    "#sns.distplot(target_0['absences'], hist = False, kde = True, kde_kws = {'linewidth': 3}, label = \"Non drinkers\")\n",
    "#sns.distplot(target_1['absences'], hist = False, kde = True, kde_kws = {'linewidth': 3}, label = \"Drinkers\")\n"
   ]
  },
  {
   "cell_type": "code",
   "execution_count": 13,
   "metadata": {
    "colab": {},
    "colab_type": "code",
    "id": "Bajo4ksaaSim"
   },
   "outputs": [],
   "source": [
    "#drinker distribution by absences \n",
    "#plt.figure(figsize=(10,6))\n",
    "#sns.set(font_scale=2)\n",
    "#sns.countplot(x=por_df.goout,hue=por_df.SumAlc);\n",
    "\n",
    "#plt.figure(figsize=(10,6))\n",
    "#sns.set(font_scale=2)\n",
    "#sns.countplot(x=mat_df.goout,hue=mat_df.SumAlc);"
   ]
  },
  {
   "cell_type": "code",
   "execution_count": 14,
   "metadata": {
    "colab": {},
    "colab_type": "code",
    "id": "cZLOu8RgXeOG"
   },
   "outputs": [],
   "source": [
    "# Converting qualitative values to numerical values\n",
    "# School = {'GP':1, 'MS':0}\n",
    "# por_df['school'] = por_df['school'].map(School)\n",
    "\n",
    "# gender = {'M':1, 'F':0}\n",
    "# por_df['sex'] = por_df['sex'].map(gender)\n",
    "\n",
    "# addressmap = {'U':1, 'R':0}\n",
    "# por_df['address'] = por_df['address'].map(addressmap)\n",
    "\n",
    "# familysize = {'GT3':1, 'LE3':0}\n",
    "# por_df['famsize'] = por_df['famsize'].map(familysize)\n",
    "\n",
    "# ParentStatus = {'A':1, 'T':0}\n",
    "# por_df['Pstatus'] = por_df['Pstatus'].map(ParentStatus)\n",
    "\n",
    "# Jobs = {'at_home':0,'health':1,'other':2,'services':3,'teacher':4}\n",
    "# por_df['Mjob'] = por_df['Mjob'].map(Jobs)\n",
    "# por_df['Fjob'] = por_df['Fjob'].map(Jobs)\n",
    "# por_df['reason'].unique()\n",
    "# reasons = {'course':0,'other':1,'home':2,'reputation':3}\n",
    "# por_df['reason'] = por_df['reason'].map(reasons)\n",
    "# guardians = {'mother':0,'father':1,'other':2}\n",
    "# por_df['guardian'] = por_df['guardian'].map(guardians)\n",
    "\n",
    "# BinaryValue = {'yes':1, 'no':0}\n",
    "# por_df['schoolsup'] = por_df['schoolsup'].map(BinaryValue)\n",
    "# por_df['famsup'] = por_df['famsup'].map(BinaryValue)\n",
    "# por_df['paid'] = por_df['paid'].map(BinaryValue)\n",
    "# por_df['activities'] = por_df['activities'].map(BinaryValue)\n",
    "# por_df['nursery'] = por_df['nursery'].map(BinaryValue)\n",
    "# por_df['higher'] = por_df['higher'].map(BinaryValue)\n",
    "# por_df['internet'] = por_df['internet'].map(BinaryValue)\n",
    "# por_df['romantic'] = por_df['romantic'].map(BinaryValue)\n",
    "\n"
   ]
  },
  {
   "cell_type": "code",
   "execution_count": 15,
   "metadata": {
    "colab": {},
    "colab_type": "code",
    "id": "Aa5sMegAFQ5p"
   },
   "outputs": [],
   "source": [
    "# School = {'GP':1, 'MS':0}\n",
    "# mat_df['school'] =mat_df['school'].map(School)\n",
    "\n",
    "# gender = {'M':1, 'F':0}\n",
    "# mat_df['sex'] = mat_df['sex'].map(gender)\n",
    "\n",
    "# addressmap = {'U':1, 'R':0}\n",
    "# mat_df['address'] = mat_df['address'].map(addressmap)\n",
    "\n",
    "# familysize = {'GT3':1, 'LE3':0}\n",
    "# mat_df['famsize'] = mat_df['famsize'].map(familysize)\n",
    "\n",
    "# ParentStatus = {'A':1, 'T':0}\n",
    "# mat_df['Pstatus'] = mat_df['Pstatus'].map(ParentStatus)\n",
    "\n",
    "# Jobs = {'at_home':0,'health':1,'other':2,'services':3,'teacher':4}\n",
    "# mat_df['Mjob'] = mat_df['Mjob'].map(Jobs)\n",
    "# mat_df['Fjob'] = mat_df['Fjob'].map(Jobs)\n",
    "# mat_df['reason'].unique()\n",
    "# reasons = {'course':0,'other':1,'home':2,'reputation':3}\n",
    "# mat_df['reason'] = mat_df['reason'].map(reasons)\n",
    "# guardians = {'mother':0,'father':1,'other':2}\n",
    "# mat_df['guardian'] = mat_df['guardian'].map(guardians)\n",
    "\n",
    "# BinaryValue = {'yes':1, 'no':0}\n",
    "# mat_df['schoolsup'] = mat_df['schoolsup'].map(BinaryValue)\n",
    "# mat_df['famsup'] = mat_df['famsup'].map(BinaryValue)\n",
    "# mat_df['paid'] = mat_df['paid'].map(BinaryValue)\n",
    "# mat_df['activities'] = mat_df['activities'].map(BinaryValue)\n",
    "# mat_df['nursery'] = mat_df['nursery'].map(BinaryValue)\n",
    "# mat_df['higher'] = mat_df['higher'].map(BinaryValue)\n",
    "# mat_df['internet'] = mat_df['internet'].map(BinaryValue)\n",
    "# mat_df['romantic'] = mat_df['romantic'].map(BinaryValue)\n",
    "\n"
   ]
  },
  {
   "cell_type": "code",
   "execution_count": 16,
   "metadata": {
    "colab": {},
    "colab_type": "code",
    "id": "keS023zV4P3v"
   },
   "outputs": [],
   "source": [
    "#por_df\n",
    "# corr = por_df.corr()\n",
    "# corr.style.background_gradient()\n",
    "\n",
    "#plt.figure(figsize=(15,15))\n",
    "#sns.heatmap(corr, xticklabels=corr.columns.values,yticklabels=corr.columns.values, annot = True, annot_kws={\"size\": 10}, fmt = \".2f\",cbar = True)"
   ]
  },
  {
   "cell_type": "code",
   "execution_count": 17,
   "metadata": {
    "colab": {},
    "colab_type": "code",
    "id": "0D8-BvgyTvP0"
   },
   "outputs": [],
   "source": [
    "# mat_df\n",
    "#corrmat =mat_df.corr()\n",
    "#corrmat.style.background_gradient()\n",
    "#plt.figure(figsize=(15,15))\n",
    "#sns.heatmap(corrmat, xticklabels=corrmat.columns.values,yticklabels=corrmat.columns.values, annot = True, annot_kws={\"size\": 10}, fmt = \".2f\",cbar = True)"
   ]
  },
  {
   "cell_type": "code",
   "execution_count": 18,
   "metadata": {
    "colab": {},
    "colab_type": "code",
    "id": "2XMNBHO44bUD"
   },
   "outputs": [],
   "source": [
    "# FINDING P_VALUES FOR PORTUGUESE DATA SET\n",
    "# model=smf.ols('SumAlc~school+sex+age+address+famsize+Pstatus+Medu+Fedu+Mjob+Fjob+reason+guardian+traveltime+studytime+failures+schoolsup+famsup+paid+activities+nursery+higher+internet+romantic+famrel+freetime+goout+health+absences+G1+G2+G3', por_df)\n",
    "# Fitting_results=model.fit()\n",
    "# print('p-values are: \\n',Fitting_results.pvalues)\n",
    "\n",
    "# FINDING P_VALUES FOR MATH DATA SET\n",
    "# model=smf.ols('SumAlc~school+sex+age+address+famsize+Pstatus+Medu+Fedu+Mjob+Fjob+reason+guardian+traveltime+studytime+failures+schoolsup+famsup+paid+activities+nursery+higher+internet+romantic+famrel+freetime+goout+health+absences+G1+G2+G3', mat_df)\n",
    "# Fitting_results=model.fit()\n",
    "# print('math p-values are: \\n',Fitting_results.pvalues)\n",
    "\n"
   ]
  },
  {
   "cell_type": "code",
   "execution_count": 19,
   "metadata": {
    "colab": {},
    "colab_type": "code",
    "id": "2xDS4OyscDlu"
   },
   "outputs": [],
   "source": [
    "# X_features = por_df.drop(columns=['Dalc', 'Walc','SumAlc'])\n",
    "# Y_targetClass=por_df['SumAlc']\n",
    "# X_features.describe()\n",
    "# X_train, X_test, Y_train, Y_test= train_test_split(X_features, Y_targetClass, random_state= 0)\n",
    "\n",
    "# scaler=preprocessing.MinMaxScaler().fit(X_train)\n",
    "# X_train_transformed=scaler.transform(X_train) \n",
    "# X_test_transformed=scaler.transform(X_test)\n",
    "\n",
    "# X_Selected = X_features.drop(['school','Fedu','reason','failures','guardian','traveltime','studytime','failures','famsup','activities','higher','freetime'],axis = 'columns')\n",
    "# X_train_selected, X_test_selected, Y_train_selected, Y_test_selected = train_test_split(X_Selected,Y_targetClass,random_state = 0)\n",
    "# scaler=preprocessing.MinMaxScaler().fit(X_train_selected)\n",
    "# X_train_selected_transformed=scaler.transform(X_train_selected) \n",
    "# X_test_selected_transformed=scaler.transform(X_test_selected)"
   ]
  },
  {
   "cell_type": "code",
   "execution_count": 20,
   "metadata": {
    "colab": {},
    "colab_type": "code",
    "id": "md5HEXVZmTDO"
   },
   "outputs": [],
   "source": [
    "# #FOR PORTUGUESE\n",
    "# #KNN with All\n",
    "# # por_df.append(por_df.loc[(por_df['SumAlc'] == 1)])\n",
    "\n",
    "# best_score = 0;\n",
    "# K = [1,5,10, 20, 30 , 40 , 50 , 60 , 70 , 80 , 90, 100]\n",
    "# for k in K:\n",
    "#     knn=KNeighborsClassifier(n_neighbors=k)\n",
    "#     scores = cross_val_score(knn, X_train_transformed,Y_train, cv=10)\n",
    "#     score=np.mean(scores)\n",
    "#     if score > best_score:\n",
    "#       best_score = score\n",
    "#       best_k = k\n",
    "        \n",
    "# Bestknn=KNeighborsClassifier(n_neighbors=best_k)\n",
    "# Bestknn.fit(X_train_transformed, Y_train)\n",
    "# KNN_predict = Bestknn.predict(X_test_transformed)\n",
    "# accuracy_KNN=accuracy_score(Y_test, KNN_predict)\n",
    "# precision_KNN = precision_score(Y_test,KNN_predict)\n",
    "# recall_KNN = recall_score(Y_test,KNN_predict)\n",
    "# print('Best K:', best_k)\n",
    "# print('accuracy:',accuracy_KNN)\n",
    "# print(\"The precision score is \", precision_KNN)\n",
    "# print(\"The recall score is \", recall_KNN)\n",
    "\n",
    "\n",
    "# #KNN with selected features from p-values and optimal neighbors\n",
    "# best_score = 0;\n",
    "# K = [1,5,10, 20, 30 , 40 , 50 , 60 , 70 , 80 , 90, 100]\n",
    "# for k in K:\n",
    "#     knn=KNeighborsClassifier(n_neighbors=k)\n",
    "#     scores = cross_val_score(knn, X_train_selected_transformed,Y_train_selected, cv=10)\n",
    "#     score=np.mean(scores)\n",
    "#     if score > best_score:\n",
    "#       best_score = score\n",
    "#       best_k = k\n",
    "        \n",
    "# Bestknn=KNeighborsClassifier(n_neighbors=best_k)\n",
    "# Bestknn.fit(X_train_selected_transformed, Y_train_selected)\n",
    "# KNN_predict = Bestknn.predict(X_test_selected_transformed)\n",
    "# accuracy_KNN=accuracy_score(Y_test_selected, KNN_predict)\n",
    "# precision_KNN = precision_score(Y_test_selected,KNN_predict)\n",
    "# recall_KNN = recall_score(Y_test_selected,KNN_predict)\n",
    "# print('Best K:', best_k)\n",
    "# print('accuracy:',accuracy_KNN)\n",
    "# print(\"The precision score is \", precision_KNN)\n",
    "# print(\"The recall score is \", recall_KNN)\n"
   ]
  },
  {
   "cell_type": "code",
   "execution_count": 21,
   "metadata": {
    "colab": {},
    "colab_type": "code",
    "id": "xkT4fGg8nM8w"
   },
   "outputs": [],
   "source": [
    "# ## Logistic Regression Lasso \n",
    "# best_score = 0\n",
    "# k_folds = 5\n",
    "# for c in [0.01,.05,0.1,0.5,1,5,10,20]:\n",
    "#     logRegModel = LogisticRegression(C = c, penalty = \"l1\")\n",
    "#     scores = cross_val_score(logRegModel, X_train_transformed,Y_train, cv = k_folds)\n",
    "#     score = np.mean(scores)\n",
    "#     if score > best_score:\n",
    "#         best_score = score\n",
    "#         best_parameter = c\n",
    "    \n",
    "# logRegModel_final = LogisticRegression(C = best_parameter, penalty = \"l1\").fit( X_train_transformed,Y_train)\n",
    "# Y_lasso_predict = logRegModel_final.predict(X_test_transformed)\n",
    "# accuracy_lasso = accuracy_score(Y_test,Y_lasso_predict)\n",
    "# precision_lasso = precision_score(Y_test,Y_lasso_predict)\n",
    "# recall_lasso = recall_score(Y_test,Y_lasso_predict)\n",
    "# test_score_lasso = logRegModel_final.score(X_test_transformed,Y_test)\n",
    "\n",
    "# # test_score\n",
    "# print(best_parameter)\n",
    "# print(\"The final accuracy is\",test_score_lasso)\n",
    "# print(\"\\nThe Coefficients \", logRegModel_final.coef_)\n",
    "# print(\"The accuracy score is \", accuracy_lasso)\n",
    "# print(\"The precision score is \", precision_lasso)\n",
    "# print(\"The recall score is \", recall_lasso)\n",
    "# ## From the list, use all features except 1,8,11,15,16,17,18,19,21,23,25,29\n",
    "# ## Display the exponential values associated with \n",
    "# #\n"
   ]
  },
  {
   "cell_type": "code",
   "execution_count": 22,
   "metadata": {
    "colab": {},
    "colab_type": "code",
    "id": "JotsPOilnSpo"
   },
   "outputs": [],
   "source": [
    "# ## Logistic Regression with scaled data and features dropped\n",
    "# ## Scaled Data performed worse\n",
    "\n",
    "# best_score = 0\n",
    "# k_folds = 5\n",
    "# for c in [0.01,.05,0.1,0.5,1,5,10,20]:\n",
    "#     logRegModel = LogisticRegression(C = c)\n",
    "#     scores = cross_val_score(logRegModel, X_train_selected_transformed,Y_train_selected, cv = k_folds)\n",
    "#     score = np.mean(scores)\n",
    "#     #print(scores)\n",
    "#     if score > best_score:\n",
    "#         best_score = score\n",
    "#         best_parameter = c\n",
    "    \n",
    "# logRegModel_final = LogisticRegression(C = best_parameter, penalty = \"l1\").fit(X_train_selected_transformed,Y_train_selected)\n",
    "# test_score = logRegModel_final.score(X_test_selected_transformed,Y_test_selected)\n",
    "# Y_Ridge_predict = logRegModel_final.predict(X_test_selected_transformed)\n",
    "# accuracy_ridge = accuracy_score(Y_test_selected,Y_Ridge_predict)\n",
    "# precision_ridge = precision_score(Y_test_selected,Y_Ridge_predict)\n",
    "# recall_ridge = recall_score(Y_test_selected,Y_Ridge_predict)\n",
    "# test_score_ridge = logRegModel_final.score(X_test_selected_transformed,Y_test_selected)\n",
    "# test_score\n",
    "# print(best_parameter)\n",
    "# print(\"The final accuracy is\",test_score)\n",
    "# print(\"The accuracy score is \", accuracy_ridge)\n",
    "# print(\"The precision score is \", precision_ridge)\n",
    "# print(\"The recall score is \", recall_ridge)\n",
    "\n"
   ]
  },
  {
   "cell_type": "code",
   "execution_count": 23,
   "metadata": {
    "colab": {},
    "colab_type": "code",
    "id": "6JpJyFKjYL0s"
   },
   "outputs": [],
   "source": [
    "# ## LDA \n",
    "# LDAmodelFitted = LinearDiscriminantAnalysis().fit(X_train_selected_transformed, Y_train_selected)\n",
    "# LDA_score = LDAmodelFitted.score(X_test_selected_transformed,Y_test_selected)\n",
    "# Y_LDA_predict = LDAmodelFitted.predict(X_test_selected_transformed)\n",
    "# accuracy_LDA = accuracy_score(Y_test_selected,Y_LDA_predict)\n",
    "# precision_LDA = precision_score(Y_test_selected,Y_LDA_predict)\n",
    "# recall_LDA = recall_score(Y_test_selected,Y_LDA_predict)\n",
    "# test_score_LDA = logRegModel_final.score(X_test_selected_transformed,Y_test)\n",
    "# print(\"The accuracy score is \", accuracy_LDA)\n",
    "# print(\"The precision score is \", precision_LDA)\n",
    "# print(\"The recall score is \", recall_LDA)\n",
    "\n",
    "# print(\"LDA scores \",LDA_score)\n"
   ]
  },
  {
   "cell_type": "code",
   "execution_count": 24,
   "metadata": {
    "colab": {},
    "colab_type": "code",
    "id": "bO_sw8zDbA-0"
   },
   "outputs": [],
   "source": [
    "# ### Visuals of The scores\n",
    "# ### Visuals of The scores\n",
    "# algorithms = ['Lasso','Ridge','LDA',\"KNN\"]\n",
    "# sns.set()\n",
    "# f, axes = plt.subplots(1,3)\n",
    "# ax_1 = sns.barplot(x = algorithms, y = [accuracy_lasso,accuracy_ridge,accuracy_LDA, accuracy_KNN], ax = axes[0])\n",
    "# ax_1.set_title(\"Accuracy\")\n",
    "# ax_2 = sns.barplot(x = algorithms, y = [precision_lasso,precision_ridge,precision_LDA, precision_KNN], ax = axes[1])\n",
    "# ax_2.set_title(\"Precision\")\n",
    "# ax_3 = sns.barplot(x = algorithms, y = [recall_lasso,recall_ridge,recall_LDA,recall_KNN ], ax = axes[2])\n",
    "# ax_3.set_title(\"Recall\")\n",
    "# plt.tight_layout()"
   ]
  },
  {
   "cell_type": "markdown",
   "metadata": {},
   "source": [
    "## Merged Dataset"
   ]
  },
  {
   "cell_type": "code",
   "execution_count": 25,
   "metadata": {
    "colab": {},
    "colab_type": "code",
    "id": "tV82NV9dZZK-"
   },
   "outputs": [
    {
     "name": "stdout",
     "output_type": "stream",
     "text": [
      "<class 'pandas.core.frame.DataFrame'>\n",
      "RangeIndex: 674 entries, 0 to 673\n",
      "Data columns (total 40 columns):\n",
      "Unnamed: 0       674 non-null int64\n",
      "Dalc             674 non-null int64\n",
      "Fedu             674 non-null int64\n",
      "Fjob             674 non-null object\n",
      "G1_mat           399 non-null float64\n",
      "G1_por           649 non-null float64\n",
      "G2_mat           399 non-null float64\n",
      "G2_por           649 non-null float64\n",
      "G3_mat           399 non-null float64\n",
      "G3_por           649 non-null float64\n",
      "Medu             674 non-null int64\n",
      "Mjob             674 non-null object\n",
      "Pstatus          674 non-null object\n",
      "Walc             674 non-null int64\n",
      "absences         674 non-null int64\n",
      "activities       674 non-null object\n",
      "address          674 non-null object\n",
      "age              674 non-null int64\n",
      "failures         674 non-null int64\n",
      "famrel           674 non-null int64\n",
      "famsize          674 non-null object\n",
      "famsup           674 non-null object\n",
      "freetime         674 non-null int64\n",
      "goout            674 non-null int64\n",
      "guardian         674 non-null object\n",
      "hash             674 non-null int64\n",
      "health           674 non-null int64\n",
      "higher           674 non-null object\n",
      "in_Math          674 non-null int64\n",
      "in_Portuguese    674 non-null int64\n",
      "internet         674 non-null object\n",
      "nursery          674 non-null object\n",
      "paid             674 non-null object\n",
      "reason           674 non-null object\n",
      "romantic         674 non-null object\n",
      "school           674 non-null object\n",
      "schoolsup        674 non-null object\n",
      "sex              674 non-null object\n",
      "studytime        674 non-null int64\n",
      "traveltime       674 non-null int64\n",
      "dtypes: float64(6), int64(17), object(17)\n",
      "memory usage: 210.7+ KB\n"
     ]
    }
   ],
   "source": [
    "# Import Dataset\n",
    "merged = pd.read_csv(\"merged.csv\")\n",
    "merged.info()"
   ]
  },
  {
   "cell_type": "code",
   "execution_count": 26,
   "metadata": {},
   "outputs": [
    {
     "data": {
      "text/html": [
       "<div>\n",
       "<style scoped>\n",
       "    .dataframe tbody tr th:only-of-type {\n",
       "        vertical-align: middle;\n",
       "    }\n",
       "\n",
       "    .dataframe tbody tr th {\n",
       "        vertical-align: top;\n",
       "    }\n",
       "\n",
       "    .dataframe thead th {\n",
       "        text-align: right;\n",
       "    }\n",
       "</style>\n",
       "<table border=\"1\" class=\"dataframe\">\n",
       "  <thead>\n",
       "    <tr style=\"text-align: right;\">\n",
       "      <th></th>\n",
       "      <th>Unnamed: 0</th>\n",
       "      <th>Dalc</th>\n",
       "      <th>Fedu</th>\n",
       "      <th>Fjob</th>\n",
       "      <th>G1_mat</th>\n",
       "      <th>G1_por</th>\n",
       "      <th>G2_mat</th>\n",
       "      <th>G2_por</th>\n",
       "      <th>G3_mat</th>\n",
       "      <th>G3_por</th>\n",
       "      <th>...</th>\n",
       "      <th>internet</th>\n",
       "      <th>nursery</th>\n",
       "      <th>paid</th>\n",
       "      <th>reason</th>\n",
       "      <th>romantic</th>\n",
       "      <th>school</th>\n",
       "      <th>schoolsup</th>\n",
       "      <th>sex</th>\n",
       "      <th>studytime</th>\n",
       "      <th>traveltime</th>\n",
       "    </tr>\n",
       "  </thead>\n",
       "  <tbody>\n",
       "    <tr>\n",
       "      <th>count</th>\n",
       "      <td>674.000000</td>\n",
       "      <td>674.000000</td>\n",
       "      <td>674.000000</td>\n",
       "      <td>674</td>\n",
       "      <td>399.000000</td>\n",
       "      <td>649.000000</td>\n",
       "      <td>399.000000</td>\n",
       "      <td>649.000000</td>\n",
       "      <td>399.000000</td>\n",
       "      <td>649.000000</td>\n",
       "      <td>...</td>\n",
       "      <td>674</td>\n",
       "      <td>674</td>\n",
       "      <td>674</td>\n",
       "      <td>674</td>\n",
       "      <td>674</td>\n",
       "      <td>674</td>\n",
       "      <td>674</td>\n",
       "      <td>674</td>\n",
       "      <td>674.000000</td>\n",
       "      <td>674.000000</td>\n",
       "    </tr>\n",
       "    <tr>\n",
       "      <th>unique</th>\n",
       "      <td>NaN</td>\n",
       "      <td>NaN</td>\n",
       "      <td>NaN</td>\n",
       "      <td>5</td>\n",
       "      <td>NaN</td>\n",
       "      <td>NaN</td>\n",
       "      <td>NaN</td>\n",
       "      <td>NaN</td>\n",
       "      <td>NaN</td>\n",
       "      <td>NaN</td>\n",
       "      <td>...</td>\n",
       "      <td>2</td>\n",
       "      <td>2</td>\n",
       "      <td>2</td>\n",
       "      <td>4</td>\n",
       "      <td>2</td>\n",
       "      <td>2</td>\n",
       "      <td>2</td>\n",
       "      <td>2</td>\n",
       "      <td>NaN</td>\n",
       "      <td>NaN</td>\n",
       "    </tr>\n",
       "    <tr>\n",
       "      <th>top</th>\n",
       "      <td>NaN</td>\n",
       "      <td>NaN</td>\n",
       "      <td>NaN</td>\n",
       "      <td>other</td>\n",
       "      <td>NaN</td>\n",
       "      <td>NaN</td>\n",
       "      <td>NaN</td>\n",
       "      <td>NaN</td>\n",
       "      <td>NaN</td>\n",
       "      <td>NaN</td>\n",
       "      <td>...</td>\n",
       "      <td>yes</td>\n",
       "      <td>yes</td>\n",
       "      <td>no</td>\n",
       "      <td>course</td>\n",
       "      <td>no</td>\n",
       "      <td>GP</td>\n",
       "      <td>no</td>\n",
       "      <td>F</td>\n",
       "      <td>NaN</td>\n",
       "      <td>NaN</td>\n",
       "    </tr>\n",
       "    <tr>\n",
       "      <th>freq</th>\n",
       "      <td>NaN</td>\n",
       "      <td>NaN</td>\n",
       "      <td>NaN</td>\n",
       "      <td>379</td>\n",
       "      <td>NaN</td>\n",
       "      <td>NaN</td>\n",
       "      <td>NaN</td>\n",
       "      <td>NaN</td>\n",
       "      <td>NaN</td>\n",
       "      <td>NaN</td>\n",
       "      <td>...</td>\n",
       "      <td>514</td>\n",
       "      <td>537</td>\n",
       "      <td>628</td>\n",
       "      <td>295</td>\n",
       "      <td>422</td>\n",
       "      <td>441</td>\n",
       "      <td>604</td>\n",
       "      <td>396</td>\n",
       "      <td>NaN</td>\n",
       "      <td>NaN</td>\n",
       "    </tr>\n",
       "    <tr>\n",
       "      <th>mean</th>\n",
       "      <td>336.500000</td>\n",
       "      <td>1.500000</td>\n",
       "      <td>2.295252</td>\n",
       "      <td>NaN</td>\n",
       "      <td>10.927318</td>\n",
       "      <td>11.399076</td>\n",
       "      <td>10.746867</td>\n",
       "      <td>11.570108</td>\n",
       "      <td>10.491228</td>\n",
       "      <td>11.906009</td>\n",
       "      <td>...</td>\n",
       "      <td>NaN</td>\n",
       "      <td>NaN</td>\n",
       "      <td>NaN</td>\n",
       "      <td>NaN</td>\n",
       "      <td>NaN</td>\n",
       "      <td>NaN</td>\n",
       "      <td>NaN</td>\n",
       "      <td>NaN</td>\n",
       "      <td>1.930267</td>\n",
       "      <td>1.565282</td>\n",
       "    </tr>\n",
       "    <tr>\n",
       "      <th>std</th>\n",
       "      <td>194.711325</td>\n",
       "      <td>0.920705</td>\n",
       "      <td>1.097237</td>\n",
       "      <td>NaN</td>\n",
       "      <td>3.317720</td>\n",
       "      <td>2.745265</td>\n",
       "      <td>3.735418</td>\n",
       "      <td>2.913639</td>\n",
       "      <td>4.523451</td>\n",
       "      <td>3.230656</td>\n",
       "      <td>...</td>\n",
       "      <td>NaN</td>\n",
       "      <td>NaN</td>\n",
       "      <td>NaN</td>\n",
       "      <td>NaN</td>\n",
       "      <td>NaN</td>\n",
       "      <td>NaN</td>\n",
       "      <td>NaN</td>\n",
       "      <td>NaN</td>\n",
       "      <td>0.824695</td>\n",
       "      <td>0.745096</td>\n",
       "    </tr>\n",
       "    <tr>\n",
       "      <th>min</th>\n",
       "      <td>0.000000</td>\n",
       "      <td>1.000000</td>\n",
       "      <td>0.000000</td>\n",
       "      <td>NaN</td>\n",
       "      <td>3.000000</td>\n",
       "      <td>0.000000</td>\n",
       "      <td>0.000000</td>\n",
       "      <td>0.000000</td>\n",
       "      <td>0.000000</td>\n",
       "      <td>0.000000</td>\n",
       "      <td>...</td>\n",
       "      <td>NaN</td>\n",
       "      <td>NaN</td>\n",
       "      <td>NaN</td>\n",
       "      <td>NaN</td>\n",
       "      <td>NaN</td>\n",
       "      <td>NaN</td>\n",
       "      <td>NaN</td>\n",
       "      <td>NaN</td>\n",
       "      <td>1.000000</td>\n",
       "      <td>1.000000</td>\n",
       "    </tr>\n",
       "    <tr>\n",
       "      <th>25%</th>\n",
       "      <td>168.250000</td>\n",
       "      <td>1.000000</td>\n",
       "      <td>1.000000</td>\n",
       "      <td>NaN</td>\n",
       "      <td>8.000000</td>\n",
       "      <td>10.000000</td>\n",
       "      <td>9.000000</td>\n",
       "      <td>10.000000</td>\n",
       "      <td>8.500000</td>\n",
       "      <td>10.000000</td>\n",
       "      <td>...</td>\n",
       "      <td>NaN</td>\n",
       "      <td>NaN</td>\n",
       "      <td>NaN</td>\n",
       "      <td>NaN</td>\n",
       "      <td>NaN</td>\n",
       "      <td>NaN</td>\n",
       "      <td>NaN</td>\n",
       "      <td>NaN</td>\n",
       "      <td>1.000000</td>\n",
       "      <td>1.000000</td>\n",
       "    </tr>\n",
       "    <tr>\n",
       "      <th>50%</th>\n",
       "      <td>336.500000</td>\n",
       "      <td>1.000000</td>\n",
       "      <td>2.000000</td>\n",
       "      <td>NaN</td>\n",
       "      <td>11.000000</td>\n",
       "      <td>11.000000</td>\n",
       "      <td>11.000000</td>\n",
       "      <td>11.000000</td>\n",
       "      <td>11.000000</td>\n",
       "      <td>12.000000</td>\n",
       "      <td>...</td>\n",
       "      <td>NaN</td>\n",
       "      <td>NaN</td>\n",
       "      <td>NaN</td>\n",
       "      <td>NaN</td>\n",
       "      <td>NaN</td>\n",
       "      <td>NaN</td>\n",
       "      <td>NaN</td>\n",
       "      <td>NaN</td>\n",
       "      <td>2.000000</td>\n",
       "      <td>1.000000</td>\n",
       "    </tr>\n",
       "    <tr>\n",
       "      <th>75%</th>\n",
       "      <td>504.750000</td>\n",
       "      <td>2.000000</td>\n",
       "      <td>3.000000</td>\n",
       "      <td>NaN</td>\n",
       "      <td>13.000000</td>\n",
       "      <td>13.000000</td>\n",
       "      <td>13.000000</td>\n",
       "      <td>13.000000</td>\n",
       "      <td>14.000000</td>\n",
       "      <td>14.000000</td>\n",
       "      <td>...</td>\n",
       "      <td>NaN</td>\n",
       "      <td>NaN</td>\n",
       "      <td>NaN</td>\n",
       "      <td>NaN</td>\n",
       "      <td>NaN</td>\n",
       "      <td>NaN</td>\n",
       "      <td>NaN</td>\n",
       "      <td>NaN</td>\n",
       "      <td>2.000000</td>\n",
       "      <td>2.000000</td>\n",
       "    </tr>\n",
       "    <tr>\n",
       "      <th>max</th>\n",
       "      <td>673.000000</td>\n",
       "      <td>5.000000</td>\n",
       "      <td>4.000000</td>\n",
       "      <td>NaN</td>\n",
       "      <td>19.000000</td>\n",
       "      <td>19.000000</td>\n",
       "      <td>19.000000</td>\n",
       "      <td>19.000000</td>\n",
       "      <td>20.000000</td>\n",
       "      <td>19.000000</td>\n",
       "      <td>...</td>\n",
       "      <td>NaN</td>\n",
       "      <td>NaN</td>\n",
       "      <td>NaN</td>\n",
       "      <td>NaN</td>\n",
       "      <td>NaN</td>\n",
       "      <td>NaN</td>\n",
       "      <td>NaN</td>\n",
       "      <td>NaN</td>\n",
       "      <td>4.000000</td>\n",
       "      <td>4.000000</td>\n",
       "    </tr>\n",
       "  </tbody>\n",
       "</table>\n",
       "<p>11 rows × 40 columns</p>\n",
       "</div>"
      ],
      "text/plain": [
       "        Unnamed: 0        Dalc        Fedu   Fjob      G1_mat      G1_por  \\\n",
       "count   674.000000  674.000000  674.000000    674  399.000000  649.000000   \n",
       "unique         NaN         NaN         NaN      5         NaN         NaN   \n",
       "top            NaN         NaN         NaN  other         NaN         NaN   \n",
       "freq           NaN         NaN         NaN    379         NaN         NaN   \n",
       "mean    336.500000    1.500000    2.295252    NaN   10.927318   11.399076   \n",
       "std     194.711325    0.920705    1.097237    NaN    3.317720    2.745265   \n",
       "min       0.000000    1.000000    0.000000    NaN    3.000000    0.000000   \n",
       "25%     168.250000    1.000000    1.000000    NaN    8.000000   10.000000   \n",
       "50%     336.500000    1.000000    2.000000    NaN   11.000000   11.000000   \n",
       "75%     504.750000    2.000000    3.000000    NaN   13.000000   13.000000   \n",
       "max     673.000000    5.000000    4.000000    NaN   19.000000   19.000000   \n",
       "\n",
       "            G2_mat      G2_por      G3_mat      G3_por     ...      internet  \\\n",
       "count   399.000000  649.000000  399.000000  649.000000     ...           674   \n",
       "unique         NaN         NaN         NaN         NaN     ...             2   \n",
       "top            NaN         NaN         NaN         NaN     ...           yes   \n",
       "freq           NaN         NaN         NaN         NaN     ...           514   \n",
       "mean     10.746867   11.570108   10.491228   11.906009     ...           NaN   \n",
       "std       3.735418    2.913639    4.523451    3.230656     ...           NaN   \n",
       "min       0.000000    0.000000    0.000000    0.000000     ...           NaN   \n",
       "25%       9.000000   10.000000    8.500000   10.000000     ...           NaN   \n",
       "50%      11.000000   11.000000   11.000000   12.000000     ...           NaN   \n",
       "75%      13.000000   13.000000   14.000000   14.000000     ...           NaN   \n",
       "max      19.000000   19.000000   20.000000   19.000000     ...           NaN   \n",
       "\n",
       "       nursery paid  reason  romantic school schoolsup  sex   studytime  \\\n",
       "count      674  674     674       674    674       674  674  674.000000   \n",
       "unique       2    2       4         2      2         2    2         NaN   \n",
       "top        yes   no  course        no     GP        no    F         NaN   \n",
       "freq       537  628     295       422    441       604  396         NaN   \n",
       "mean       NaN  NaN     NaN       NaN    NaN       NaN  NaN    1.930267   \n",
       "std        NaN  NaN     NaN       NaN    NaN       NaN  NaN    0.824695   \n",
       "min        NaN  NaN     NaN       NaN    NaN       NaN  NaN    1.000000   \n",
       "25%        NaN  NaN     NaN       NaN    NaN       NaN  NaN    1.000000   \n",
       "50%        NaN  NaN     NaN       NaN    NaN       NaN  NaN    2.000000   \n",
       "75%        NaN  NaN     NaN       NaN    NaN       NaN  NaN    2.000000   \n",
       "max        NaN  NaN     NaN       NaN    NaN       NaN  NaN    4.000000   \n",
       "\n",
       "        traveltime  \n",
       "count   674.000000  \n",
       "unique         NaN  \n",
       "top            NaN  \n",
       "freq           NaN  \n",
       "mean      1.565282  \n",
       "std       0.745096  \n",
       "min       1.000000  \n",
       "25%       1.000000  \n",
       "50%       1.000000  \n",
       "75%       2.000000  \n",
       "max       4.000000  \n",
       "\n",
       "[11 rows x 40 columns]"
      ]
     },
     "execution_count": 26,
     "metadata": {},
     "output_type": "execute_result"
    }
   ],
   "source": [
    "merged.describe(include='all')"
   ]
  },
  {
   "cell_type": "code",
   "execution_count": 27,
   "metadata": {
    "colab": {},
    "colab_type": "code",
    "id": "oCPnjuUA3CKC"
   },
   "outputs": [],
   "source": [
    "#Target Variable \n",
    "merged['SumAlc'] = ((merged['Dalc']*5 + merged['Walc']*2)/7).astype(int)\n",
    "merged['SumAlc'] = ((merged['Dalc']*5 + merged['Walc']*2)/7).astype(int)\n",
    "threshold = 3\n",
    "\n",
    "merged.loc[merged['SumAlc'] < threshold, 'SumAlc'] = 0\n",
    "merged.loc[merged['SumAlc'] >= threshold, 'SumAlc'] = 1\n"
   ]
  },
  {
   "cell_type": "code",
   "execution_count": 28,
   "metadata": {
    "colab": {
     "base_uri": "https://localhost:8080/",
     "height": 294
    },
    "colab_type": "code",
    "id": "lXqX-UIC3VmE",
    "outputId": "461be5c1-6d32-4f6b-f9ac-46cef63d6e11"
   },
   "outputs": [
    {
     "data": {
      "image/png": "[encoded data removed]",
      "text/plain": [
       "<Figure size 432x288 with 1 Axes>"
      ]
     },
     "metadata": {
      "needs_background": "light"
     },
     "output_type": "display_data"
    }
   ],
   "source": [
    "#Gender Count\n",
    "plot = sns.countplot(x='SumAlc', hue='sex', data=merged, palette='coolwarm')\n",
    "plot.set(xlabel='SumAlc', ylabel='Count', title='Gender comparison')\n",
    "plt.show()"
   ]
  },
  {
   "cell_type": "code",
   "execution_count": 29,
   "metadata": {
    "colab": {
     "base_uri": "https://localhost:8080/",
     "height": 403
    },
    "colab_type": "code",
    "id": "6xuyab8T36kt",
    "outputId": "95826eef-deef-448c-89e0-66b33153efd7"
   },
   "outputs": [
    {
     "data": {
      "image/png": "[encoded data removed]",
      "text/plain": [
       "<Figure size 720x432 with 1 Axes>"
      ]
     },
     "metadata": {
      "needs_background": "light"
     },
     "output_type": "display_data"
    }
   ],
   "source": [
    "#Goout Count\n",
    "plt.figure(figsize=(10,6))\n",
    "plot = sns.countplot(x='goout', hue='SumAlc', data=merged, palette='coolwarm')\n",
    "plot.set(xlabel='goout', ylabel='Count', title='Go Out')\n",
    "plt.show()"
   ]
  },
  {
   "cell_type": "code",
   "execution_count": 30,
   "metadata": {},
   "outputs": [
    {
     "data": {
      "image/png": "[encoded data removed]",
      "text/plain": [
       "<Figure size 720x432 with 1 Axes>"
      ]
     },
     "metadata": {
      "needs_background": "light"
     },
     "output_type": "display_data"
    }
   ],
   "source": [
    "#Age Count\n",
    "plt.figure(figsize=(10,6))\n",
    "plot = sns.countplot(x='age', hue='SumAlc', data=merged, palette='coolwarm')\n",
    "plot.set(xlabel='age', ylabel='Count', title='Go Out')\n",
    "plt.show()"
   ]
  },
  {
   "cell_type": "code",
   "execution_count": 31,
   "metadata": {},
   "outputs": [
    {
     "data": {
      "image/png": "[encoded data removed]",
      "text/plain": [
       "<Figure size 720x432 with 1 Axes>"
      ]
     },
     "metadata": {
      "needs_background": "light"
     },
     "output_type": "display_data"
    }
   ],
   "source": [
    "#absences\n",
    "plt.figure(figsize=(10,6))\n",
    "plot = sns.countplot(x='absences', data=merged,  palette=\"muted\")\n",
    "plot.set(xlabel='school', ylabel='Count')\n",
    "plt.show()"
   ]
  },
  {
   "cell_type": "code",
   "execution_count": 32,
   "metadata": {},
   "outputs": [
    {
     "data": {
      "image/png": "[encoded data removed]",
      "text/plain": [
       "<Figure size 720x432 with 1 Axes>"
      ]
     },
     "metadata": {
      "needs_background": "light"
     },
     "output_type": "display_data"
    }
   ],
   "source": [
    "#address\n",
    "plt.figure(figsize=(10,6))\n",
    "plot = sns.countplot(x='address', hue='SumAlc', data=merged)\n",
    "plot.set(xlabel='school', ylabel='Count')\n",
    "plt.show()"
   ]
  },
  {
   "cell_type": "code",
   "execution_count": null,
   "metadata": {},
   "outputs": [],
   "source": []
  },
  {
   "cell_type": "code",
   "execution_count": 33,
   "metadata": {
    "colab": {},
    "colab_type": "code",
    "id": "AQNuDSyb5XIP"
   },
   "outputs": [],
   "source": [
    "# # drinker distribution by absences for Math\n",
    "# target_0 = merged[merged['SumAlc'] == 0]\n",
    "# target_1 = merged[merged['SumAlc'] == 1]\n",
    "\n",
    "# plt.figure(figsize=(10,6))\n",
    "# sns.distplot(target_0['absences'], hist = False, kde = True, kde_kws = {'linewidth': 3}, label = \"Non drinkers\")\n",
    "# sns.distplot(target_1['absences'], hist = False, kde = True, kde_kws = {'linewidth': 3}, label = \"Drinkers\")\n"
   ]
  },
  {
   "cell_type": "code",
   "execution_count": 34,
   "metadata": {
    "colab": {},
    "colab_type": "code",
    "id": "vxSBgzmIJqT5"
   },
   "outputs": [],
   "source": [
    "#Feature transformations\n",
    "School = {'GP':1, 'MS':0}\n",
    "merged['school'] = merged['school'].map(School)\n",
    "\n",
    "gender = {'M':1, 'F':0}\n",
    "merged['sex'] = merged['sex'].map(gender)\n",
    "\n",
    "addressmap = {'U':1, 'R':0}\n",
    "merged['address'] = merged['address'].map(addressmap)\n",
    "\n",
    "familysize = {'GT3':1, 'LE3':0}\n",
    "merged['famsize'] = merged['famsize'].map(familysize)\n",
    "\n",
    "ParentStatus = {'A':1, 'T':0}\n",
    "merged['Pstatus'] = merged['Pstatus'].map(ParentStatus)\n",
    "\n",
    "Jobs = {'other':0,'at_home':1,'health':2,'services':3,'teacher':4}\n",
    "merged['Mjob'] = merged['Mjob'].map(Jobs)\n",
    "merged['Fjob'] = merged['Fjob'].map(Jobs)\n",
    "merged['reason'].unique()\n",
    "reasons = {'other':0,'course':1,'home':2,'reputation':3}\n",
    "merged['reason'] = merged['reason'].map(reasons)\n",
    "guardians = {'other':0,'mother':1,'father':2}\n",
    "merged['guardian'] = merged['guardian'].map(guardians)\n",
    "\n",
    "BinaryValue = {'yes':1, 'no':0}\n",
    "merged['schoolsup'] = merged['schoolsup'].map(BinaryValue)\n",
    "merged['famsup'] = merged['famsup'].map(BinaryValue)\n",
    "merged['paid'] = merged['paid'].map(BinaryValue)\n",
    "merged['activities'] = merged['activities'].map(BinaryValue)\n",
    "merged['nursery'] = merged['nursery'].map(BinaryValue)\n",
    "merged['higher'] = merged['higher'].map(BinaryValue)\n",
    "merged['internet'] = merged['internet'].map(BinaryValue)\n",
    "merged['romantic'] = merged['romantic'].map(BinaryValue)\n",
    "\n",
    "#Features transformation tried but did not help \n",
    "# ## Change education level into binary values\n",
    "# merged.loc[merged['Medu'] < 2, 'Medu'] = 0\n",
    "# merged.loc[merged['Medu'] >=2, 'Medu' ] = 1\n",
    "\n",
    "# merged.loc[merged['Fedu'] < 2, 'Fedu'] = 0\n",
    "# merged.loc[merged['Fedu'] >= 2, 'Fedu'] = 1\n",
    "\n",
    "# merged.loc[merged['absences'] < 5, 'absences'] = 0\n",
    "# merged.loc[merged['absences'] >= 5, 'absences'] = 1\n",
    "\n",
    "# #merged.loc[merged['age'] >= 18, 'age'] = 1 #18 is the legal drinking age\n",
    "# #merged.loc[merged['age'] < 18, 'age'] = 0\n",
    "\n",
    "# merged.loc[merged['studytime'] < 2, 'studytime'] = 1\n",
    "# merged.loc[merged['studytime']>=2, 'studytime'] = 0\n",
    "\n",
    "# merged.loc[merged['Fjob'] > 0, 'Fjob'] = 1\n",
    "# merged.loc[merged['Fjob'] <= 0, 'Fjob'] = 0\n",
    "\n",
    "# merged.loc[merged['Mjob'] > 0, 'Mjob'] = 1\n",
    "# merged.loc[merged['Mjob'] <= 0, 'Mjob'] = 0\n",
    "# ## Change father's education level\n",
    "\n",
    "# Grades can be split into 5 level classification - 1(1-4); 2(5-8); 3(9-12); 4(13-16) 5(17-20)\n",
    "# Or binary pass for >=10\n",
    "# col = ['G1_mat','G2_mat','G3_mat','G1_por','G2_por','G3_por']\n",
    "# for c in col:\n",
    "#     merged[c].fillna(merged[c].mean(), inplace=True)\n",
    "# merged.info()\n",
    "\n",
    "# merged['G1_por'].fillna(merged['G1_mat'], inplace=True)\n",
    "# merged['G2_por'].fillna(merged['G2_mat'], inplace=True)\n",
    "# merged['G3_por'].fillna(merged['G3_mat'], inplace=True)\n",
    "# merged['G1_mat'].fillna(merged['G1_por'], inplace=True)\n",
    "# merged['G2_mat'].fillna(merged['G1_por'], inplace=True)\n",
    "# merged['G3_mat'].fillna(merged['G1_por'], inplace=True)\n",
    "# merged.info()\n",
    "# merged.fillna(0, inplace=True)\n",
    "\n",
    "# merged.loc[(merged['in_Math'] == 1) & (merged['in_Portuguese'] == 1), 'Both'] = 1\n",
    "# merged['Both'].fillna(0, inplace=True)\n",
    "\n",
    "# merged.head()\n",
    "# merged.info()\n"
   ]
  },
  {
   "cell_type": "code",
   "execution_count": 35,
   "metadata": {
    "colab": {
     "base_uri": "https://localhost:8080/",
     "height": 388
    },
    "colab_type": "code",
    "id": "4HolQVwFbMxv",
    "outputId": "54853eda-3299-4341-e86c-4a14c5e5bd3b"
   },
   "outputs": [
    {
     "data": {
      "image/png": "[encoded data removed]",
      "text/plain": [
       "<Figure size 720x432 with 1 Axes>"
      ]
     },
     "metadata": {
      "needs_background": "light"
     },
     "output_type": "display_data"
    }
   ],
   "source": [
    "plt.figure(figsize=(10,6))\n",
    "plot = sns.countplot(x='SumAlc', data=merged)\n",
    "plot.set(xlabel='Alc', ylabel='Count')\n",
    "plt.show()"
   ]
  },
  {
   "cell_type": "code",
   "execution_count": 36,
   "metadata": {
    "colab": {
     "base_uri": "https://localhost:8080/",
     "height": 68
    },
    "colab_type": "code",
    "id": "Fsg_2Ow92Zi7",
    "outputId": "72a73d7d-51f1-4a7a-bb7d-b3395c0ed316"
   },
   "outputs": [
    {
     "data": {
      "text/plain": [
       "0    596\n",
       "1     78\n",
       "Name: SumAlc, dtype: int64"
      ]
     },
     "execution_count": 36,
     "metadata": {},
     "output_type": "execute_result"
    }
   ],
   "source": [
    "merged['SumAlc'].value_counts()"
   ]
  },
  {
   "cell_type": "code",
   "execution_count": 37,
   "metadata": {
    "colab": {
     "base_uri": "https://localhost:8080/",
     "height": 935
    },
    "colab_type": "code",
    "id": "MarhanlRJwtc",
    "outputId": "0e1cc8dc-de8f-434d-faee-2f3ab915ef8c"
   },
   "outputs": [
    {
     "data": {
      "text/plain": [
       "<matplotlib.axes._subplots.AxesSubplot at 0x1c78c8a44e0>"
      ]
     },
     "execution_count": 37,
     "metadata": {},
     "output_type": "execute_result"
    },
    {
     "data": {
      "image/png": "[encoded data removed]",
      "text/plain": [
       "<Figure size 1080x1080 with 2 Axes>"
      ]
     },
     "metadata": {
      "needs_background": "light"
     },
     "output_type": "display_data"
    }
   ],
   "source": [
    "merged=merged.drop(columns=['hash','Unnamed: 0','G1_mat','G2_mat','G3_mat','G1_por','G2_por','G3_por','Dalc', 'Walc'])\n",
    "# Correlation Matrix\n",
    "corrmerged =merged.corr()\n",
    "plt.figure(figsize=(15,15))\n",
    "sns.heatmap(corrmerged, xticklabels=corrmerged.columns.values,yticklabels=corrmerged.columns.values, annot = True, annot_kws={\"size\": 10}, fmt = \".1f\",cbar = True)"
   ]
  },
  {
   "cell_type": "code",
   "execution_count": 38,
   "metadata": {
    "colab": {
     "base_uri": "https://localhost:8080/",
     "height": 580
    },
    "colab_type": "code",
    "id": "JAMXi1n4bPgV",
    "outputId": "59e207e3-9e5f-4ca2-96ea-9d427cb55382"
   },
   "outputs": [
    {
     "name": "stdout",
     "output_type": "stream",
     "text": [
      "math p-values are: \n",
      " Intercept        5.314581e-03\n",
      "school           1.574671e-01\n",
      "sex              2.237825e-08\n",
      "age              3.032445e-03\n",
      "address          2.284500e-01\n",
      "famsize          1.458944e-01\n",
      "Pstatus          6.373660e-01\n",
      "Medu             7.388520e-01\n",
      "Fedu             9.887709e-01\n",
      "Mjob             9.220088e-01\n",
      "Fjob             7.428331e-02\n",
      "reason           3.470140e-01\n",
      "guardian         8.635472e-01\n",
      "traveltime       2.874451e-01\n",
      "studytime        3.099765e-01\n",
      "failures         4.258195e-01\n",
      "schoolsup        4.913625e-01\n",
      "famsup           8.451794e-01\n",
      "paid             5.977420e-01\n",
      "activities       8.987825e-01\n",
      "nursery          3.519714e-01\n",
      "higher           8.015416e-01\n",
      "internet         7.482388e-01\n",
      "romantic         9.473049e-01\n",
      "famrel           9.403954e-02\n",
      "freetime         8.923907e-01\n",
      "goout            2.372779e-05\n",
      "health           4.298101e-01\n",
      "absences         8.369099e-03\n",
      "in_Math          3.831958e-01\n",
      "in_Portuguese    6.821741e-02\n",
      "dtype: float64\n"
     ]
    }
   ],
   "source": [
    "#important pvalue\n",
    "import statsmodels.formula.api as smf\n",
    "model=smf.ols('SumAlc~school+sex+age+address+famsize+Pstatus+Medu+Fedu+Mjob+Fjob+reason+guardian+traveltime+studytime+failures+schoolsup+famsup+paid+activities+nursery+higher+internet+romantic+famrel+freetime+goout+health+absences+in_Math+in_Portuguese', merged)\n",
    "Fitting_results=model.fit()\n",
    "print('math p-values are: \\n',Fitting_results.pvalues)"
   ]
  },
  {
   "cell_type": "code",
   "execution_count": 39,
   "metadata": {
    "colab": {},
    "colab_type": "code",
    "id": "tA7-o3Xjh1pg"
   },
   "outputs": [],
   "source": [
    "# ALL FEATURES\n",
    "X_features = merged.drop(columns=['SumAlc'])\n",
    "Y_targetClass=merged['SumAlc']\n",
    "X_train, X_test, Y_train, Y_test = train_test_split(X_features,Y_targetClass,random_state=0)\n",
    "\n",
    "\n",
    "# DATA BALANCING TECNIQUES\n",
    "# RESAMPLING\n",
    "from sklearn.utils import resample\n",
    "\n",
    "X = pd.concat([X_train, Y_train], axis=1)\n",
    "non_drinker = X[X.SumAlc==0]\n",
    "drinker = X[X.SumAlc==1]\n",
    "\n",
    "drinker_upsampled = resample(drinker,replace=True, # sample with replacement\n",
    "                          n_samples=len(non_drinker), \n",
    "                          random_state=0)\n",
    "upsampled = pd.concat([non_drinker, drinker_upsampled])\n",
    "\n",
    "upsampled.SumAlc.value_counts()\n",
    "\n",
    "Y_train = upsampled['SumAlc']\n",
    "X_train = upsampled.drop('SumAlc', axis=1)\n",
    "\n",
    "# from imblearn.over_sampling import SMOTE, ADASYN\n",
    "#SMOTE\n",
    "\n",
    "# sm = SMOTE(random_state=0, ratio=1.0)\n",
    "# X_train, Y_train = sm.fit_sample(X_train, Y_train)\n",
    "# scaler=preprocessing.MinMaxScaler().fit(X_train)\n",
    "\n",
    "# ADASYN\n",
    "# X_train, Y_train = ADASYN().fit_resample(X_train, Y_train)\n",
    "\n",
    "# SCALING\n",
    "scaler=preprocessing.MinMaxScaler().fit(X_train)\n",
    "X_train_transformed=scaler.transform(X_train) \n",
    "X_test_transformed=scaler.transform(X_test)\n"
   ]
  },
  {
   "cell_type": "code",
   "execution_count": 40,
   "metadata": {
    "colab": {
     "base_uri": "https://localhost:8080/",
     "height": 499
    },
    "colab_type": "code",
    "id": "fk30wfs9Aup3",
    "outputId": "b8449eb8-571a-41bd-fd39-792ad5c5c8bf"
   },
   "outputs": [
    {
     "name": "stdout",
     "output_type": "stream",
     "text": [
      "The accuracy score is  0.85798816568\n",
      "The precision score is  0.363636363636\n",
      "The recall score is  0.190476190476\n",
      "[[141   7]\n",
      " [ 17   4]]\n",
      "[ 0.  1.]\n",
      "[ 1.          0.19047619  0.        ]\n",
      "The accuracy score is  0.85798816568\n",
      "The precision score is  0.363636363636\n",
      "The recall score is  0.190476190476\n",
      "[[141   7]\n",
      " [ 17   4]]\n"
     ]
    },
    {
     "data": {
      "image/png": "[encoded data removed]",
      "text/plain": [
       "<Figure size 432x288 with 1 Axes>"
      ]
     },
     "metadata": {
      "needs_background": "light"
     },
     "output_type": "display_data"
    }
   ],
   "source": [
    "from sklearn import neighbors\n",
    "from sklearn.neighbors import KNeighborsClassifier\n",
    "\n",
    "\n",
    "best_score = 0;\n",
    "K = [1,5,10, 20, 30 , 40 , 50 , 60 , 70 , 80 , 90, 100]\n",
    "for k in K:\n",
    "    knn=KNeighborsClassifier(n_neighbors=k)\n",
    "    scores = cross_val_score(knn, X_train_transformed,Y_train, cv=10, scoring=make_scorer(f1_score))\n",
    "    score=np.mean(scores)\n",
    "    if score > best_score:\n",
    "        best_score = score\n",
    "        best_k = k\n",
    "        \n",
    "Bestknn=KNeighborsClassifier(n_neighbors=best_k)\n",
    "Bestknn.fit(X_train_transformed, Y_train)\n",
    "predict_knn = Bestknn.predict(X_test_transformed)\n",
    "accuracy_knn= accuracy_score(Y_test,predict_knn)\n",
    "precision_knn = precision_score(Y_test,predict_knn, pos_label=1)\n",
    "recall_knn = recall_score(Y_test,predict_knn)\n",
    "print(\"The accuracy score is \", accuracy_knn)\n",
    "print(\"The precision score is \", precision_knn)\n",
    "print(\"The recall score is \", recall_knn)\n",
    "\n",
    "print(confusion_matrix(Y_test, predict_knn))\n",
    "\n",
    "\n",
    "from sklearn.metrics import precision_recall_curve\n",
    "import matplotlib.pyplot as plt\n",
    "from sklearn.utils.fixes import signature\n",
    "\n",
    "\n",
    "Y_prob =  Bestknn.predict_proba(X_test_transformed)\n",
    "precision, recall, thresholds = precision_recall_curve(Y_test, (Y_prob[:,1]))\n",
    "step_kwargs = ({'step': 'post'}\n",
    "               if 'step' in signature(plt.fill_between).parameters\n",
    "               else {})\n",
    "plt.step(recall, precision, color='b', alpha=0.2,\n",
    "         where='post')\n",
    "plt.fill_between(recall, precision, alpha=0.2, color='b', **step_kwargs)\n",
    "\n",
    "plt.xlabel('Recall')\n",
    "plt.ylabel('Precision')\n",
    "plt.ylim([0.0, 1.05])\n",
    "plt.xlim([0.0, 1.0])\n",
    "plt.title('2-class Precision-Recall curve: AP={0:0.2f}')\n",
    "print(thresholds)\n",
    "print(recall)\n",
    "\n",
    "\n",
    "threshold = 0.5\n",
    "probs_positive_class = Bestknn.predict_proba(X_test_transformed)[:, 1]\n",
    "predict_tknn = (probs_positive_class >= threshold).astype('int')\n",
    "accuracy_tknn = accuracy_score(Y_test,predict_tknn)\n",
    "precision_tknn = precision_score(Y_test,predict_tknn, pos_label=1)\n",
    "recall_tknn = recall_score(Y_test,predict_tknn)\n",
    "print(\"The accuracy score is \", accuracy_tknn)\n",
    "print(\"The precision score is \", precision_tknn)\n",
    "print(\"The recall score is \", recall_tknn)\n",
    "print(confusion_matrix(Y_test, predict_tknn))"
   ]
  },
  {
   "cell_type": "code",
   "execution_count": 41,
   "metadata": {
    "colab": {
     "base_uri": "https://localhost:8080/",
     "height": 550
    },
    "colab_type": "code",
    "id": "cz8DVcHGQMlr",
    "outputId": "e79daf96-c6d9-458d-cc5a-45a74f91a88c"
   },
   "outputs": [
    {
     "name": "stdout",
     "output_type": "stream",
     "text": [
      "\n",
      "Tree NON SELECTED FEATURES\n",
      "10\n",
      "The accuracy score is  0.804733727811\n",
      "The precision score is  0.125\n",
      "The recall score is  0.0952380952381\n",
      "[[134  14]\n",
      " [ 19   2]]\n",
      "[ 0.03767228  0.04806858  0.00526727  0.03624909  0.00413649  0.06767706\n",
      "  0.01441912  0.03636261  0.05390059  0.01162441  0.          0.00393951\n",
      "  0.01378829  0.05616071  0.09191479  0.09570168  0.04551048  0.00878365\n",
      "  0.          0.02978013  0.          0.0042626   0.01572276  0.07275534\n",
      "  0.02497659  0.          0.          0.12109233  0.08865403  0.01157963]\n",
      "\n",
      "Tree with threshold\n",
      "The accuracy score is  0.804733727811\n",
      "The precision score is  0.125\n",
      "The recall score is  0.0952380952381\n",
      "[[134  14]\n",
      " [ 19   2]]\n"
     ]
    },
    {
     "data": {
      "image/png": "[encoded data removed]",
      "text/plain": [
       "<Figure size 432x288 with 1 Axes>"
      ]
     },
     "metadata": {
      "needs_background": "light"
     },
     "output_type": "display_data"
    }
   ],
   "source": [
    "from sklearn.tree import DecisionTreeClassifier\n",
    "from sklearn.ensemble import RandomForestClassifier\n",
    "from sklearn.ensemble import AdaBoostClassifier\n",
    "from sklearn.metrics import make_scorer, accuracy_score, precision_score, recall_score, f1_score\n",
    "from sklearn.model_selection import GridSearchCV\n",
    "print(\"\\nTree NON SELECTED FEATURES\")\n",
    "best_score = 0\n",
    "X = [1,2,3,4,5,6,7,8,9,10]\n",
    "for x in X:\n",
    "    treeModel=DecisionTreeClassifier(max_depth=x, criterion='gini')\n",
    "    scores = cross_val_score(treeModel, X_train_transformed,Y_train, cv=10, scoring=make_scorer(f1_score))\n",
    "    score=np.mean(scores)\n",
    "    if score > best_score:\n",
    "      best_score = score\n",
    "      best_depth = x\n",
    "print(best_depth)\n",
    "treeModel=DecisionTreeClassifier(max_depth=best_depth, criterion='gini')\n",
    "treeModel.fit(X_train_transformed,Y_train)\n",
    "accuracy = treeModel.score(X_test_transformed, Y_test)\n",
    "predict_tree = treeModel.predict(X_test_transformed)\n",
    "accuracy_tree = accuracy_score(Y_test,predict_tree)\n",
    "precision_tree = precision_score(Y_test,predict_tree, pos_label=1)\n",
    "recall_tree = recall_score(Y_test,predict_tree)\n",
    "\n",
    "print(\"The accuracy score is \", accuracy_tree)\n",
    "print(\"The precision score is \", precision_tree)\n",
    "print(\"The recall score is \", recall_tree)\n",
    "print(confusion_matrix(Y_test, predict_tree))\n",
    "\n",
    "# feat_importances = pd.Series(treeModel.feature_importances_, index=X_features.columns)\n",
    "# feat_importances.nlargest(10).plot(kind='barh')\n",
    "# print(treeModel.feature_importances_)\n",
    "\n",
    "Y_prob =  treeModel.predict_proba(X_test_transformed)\n",
    "precision, recall, thresholds = precision_recall_curve(Y_test, (Y_prob[:,1]))\n",
    "step_kwargs = ({'step': 'post'}\n",
    "               if 'step' in signature(plt.fill_between).parameters\n",
    "               else {})\n",
    "plt.step(recall, precision, color='b', alpha=0.2,\n",
    "         where='post')\n",
    "plt.fill_between(recall, precision, alpha=0.2, color='b', **step_kwargs)\n",
    "\n",
    "plt.xlabel('Recall')\n",
    "plt.ylabel('Precision')\n",
    "plt.ylim([0.0, 1.05])\n",
    "plt.xlim([0.0, 1.0])\n",
    "plt.title('2-class Precision-Recall curve: AP={0:0.2f}')\n",
    "\n",
    "\n",
    "\n",
    "print(\"\\nTree with threshold\")\n",
    "threshold = 0.3\n",
    "probs_positive_class = treeModel.predict_proba(X_test_transformed)[:, 1]\n",
    "prediction = (probs_positive_class >= threshold).astype('int')\n",
    "accuracy_ttree = accuracy_score(Y_test,prediction)\n",
    "precision_ttree = precision_score(Y_test,prediction, pos_label=1)\n",
    "recall_ttree = recall_score(Y_test,prediction)\n",
    "print(\"The accuracy score is \", accuracy_ttree)\n",
    "print(\"The precision score is \", precision_ttree)\n",
    "print(\"The recall score is \", recall_ttree)\n",
    "print(confusion_matrix(Y_test, prediction))\n",
    "\n"
   ]
  },
  {
   "cell_type": "code",
   "execution_count": 42,
   "metadata": {
    "colab": {
     "base_uri": "https://localhost:8080/",
     "height": 1062
    },
    "colab_type": "code",
    "id": "YiNBZYd8fG6p",
    "outputId": "5be5e89b-4b3e-4891-fd1e-99c890b50d98"
   },
   "outputs": [
    {
     "name": "stdout",
     "output_type": "stream",
     "text": [
      "\n",
      "AdaBoostTree\n",
      "The accuracy score is  0.786982248521\n",
      "The precision score is  0.297297297297\n",
      "The recall score is  0.52380952381\n",
      "[[122  26]\n",
      " [ 10  11]]\n",
      "[ 0.03013596  0.03474897  0.37556162  0.40758986  0.40984114  0.41075818\n",
      "  0.41670073  0.42496118  0.43188864  0.43562992  0.43759796  0.44180692\n",
      "  0.44971068  0.45018095  0.45097434  0.45201709  0.45205866  0.45673313\n",
      "  0.45719266  0.46097528  0.46128622  0.46746062  0.46855074  0.46893387\n",
      "  0.46949464  0.47092682  0.47125445  0.47324846  0.4732903   0.47518549\n",
      "  0.47645877  0.47750918  0.47755106  0.48057211  0.48444443  0.48549612\n",
      "  0.48644291  0.4867714   0.49024897  0.49071176  0.49257718  0.49304005\n",
      "  0.49413447  0.49451905  0.49483185  0.49530683  0.49651907  0.49684778\n",
      "  0.49888988  0.50103765  0.50213224  0.50540848  0.50684555  0.5068875\n",
      "  0.50735036  0.50812152  0.51037577  0.51111525  0.5123908   0.51315618\n",
      "  0.51548317  0.51586743  0.51745475  0.51819363  0.5203801   0.52147278\n",
      "  0.52617577  0.52663744  0.53043316  0.53099393  0.5427354   0.54319494\n",
      "  0.54588694  0.55163996  0.55851025  0.5623307   0.57100808]\n",
      "[ 1.          0.95238095  0.95238095  0.95238095  0.95238095  0.95238095\n",
      "  0.9047619   0.85714286  0.85714286  0.85714286  0.85714286  0.85714286\n",
      "  0.85714286  0.85714286  0.85714286  0.85714286  0.80952381  0.80952381\n",
      "  0.76190476  0.71428571  0.71428571  0.71428571  0.71428571  0.71428571\n",
      "  0.71428571  0.71428571  0.71428571  0.61904762  0.57142857  0.57142857\n",
      "  0.57142857  0.57142857  0.57142857  0.57142857  0.57142857  0.57142857\n",
      "  0.57142857  0.52380952  0.52380952  0.52380952  0.52380952  0.52380952\n",
      "  0.52380952  0.52380952  0.52380952  0.52380952  0.52380952  0.52380952\n",
      "  0.52380952  0.52380952  0.52380952  0.52380952  0.52380952  0.47619048\n",
      "  0.47619048  0.47619048  0.47619048  0.47619048  0.38095238  0.38095238\n",
      "  0.38095238  0.33333333  0.33333333  0.33333333  0.33333333  0.33333333\n",
      "  0.28571429  0.28571429  0.28571429  0.23809524  0.23809524  0.19047619\n",
      "  0.19047619  0.0952381   0.04761905  0.04761905  0.04761905  0.        ]\n",
      "\n",
      "AdaBoostTree with threshold\n",
      "The accuracy score is  0.846153846154\n",
      "The precision score is  0.4\n",
      "The recall score is  0.47619047619\n",
      "[[133  15]\n",
      " [ 11  10]]\n"
     ]
    },
    {
     "data": {
      "image/png": "[encoded data removed]",
      "text/plain": [
       "<Figure size 432x288 with 1 Axes>"
      ]
     },
     "metadata": {
      "needs_background": "light"
     },
     "output_type": "display_data"
    }
   ],
   "source": [
    "print(\"\\nAdaBoostTree\")\n",
    "BoostModel= AdaBoostClassifier(n_estimators=10)\n",
    "BoostModel.fit(X_train_transformed,Y_train)\n",
    "predict_adatree = BoostModel.predict(X_test_transformed)\n",
    "accuracy_adatree = accuracy_score(Y_test,predict_adatree)\n",
    "precision_adatree = precision_score(Y_test,predict_adatree, pos_label=1)\n",
    "recall_adatree = recall_score(Y_test,predict_adatree)\n",
    "\n",
    "print(\"The accuracy score is \", accuracy_adatree)\n",
    "print(\"The precision score is \", precision_adatree)\n",
    "print(\"The recall score is \", recall_adatree)\n",
    "print(confusion_matrix(Y_test, predict_adatree))\n",
    "\n",
    "Y_prob =  BoostModel.predict_proba(X_test_transformed)\n",
    "precision, recall, thresholds = precision_recall_curve(Y_test, (Y_prob[:,1]))\n",
    "step_kwargs = ({'step': 'post'}\n",
    "               if 'step' in signature(plt.fill_between).parameters\n",
    "               else {})\n",
    "plt.step(recall, precision, color='b', alpha=0.2,\n",
    "         where='post')\n",
    "plt.fill_between(recall, precision, alpha=0.2, color='b', **step_kwargs)\n",
    "\n",
    "plt.xlabel('Recall')\n",
    "plt.ylabel('Precision')\n",
    "plt.ylim([0.0, 1.05])\n",
    "plt.xlim([0.0, 1.0])\n",
    "plt.title('2-class Precision-Recall curve: AP={0:0.2f}')\n",
    "print(thresholds)\n",
    "print(recall)\n",
    "\n",
    "\n",
    "print(\"\\nAdaBoostTree with threshold\")\n",
    "threshold = 0.51\n",
    "probs_positive_class = BoostModel.predict_proba(X_test_transformed)[:, 1]\n",
    "predict_adattree = (probs_positive_class >= threshold).astype('int')\n",
    "accuracy_adattree = accuracy_score(Y_test,predict_adattree)\n",
    "precision_adattree = precision_score(Y_test,predict_adattree, pos_label=1)\n",
    "recall_adattree = recall_score(Y_test,predict_adattree)\n",
    "print(\"The accuracy score is \", accuracy_adattree)\n",
    "print(\"The precision score is \", precision_adattree)\n",
    "print(\"The recall score is \", recall_adattree)\n",
    "print(confusion_matrix(Y_test, predict_adattree))"
   ]
  },
  {
   "cell_type": "code",
   "execution_count": 43,
   "metadata": {
    "colab": {
     "base_uri": "https://localhost:8080/",
     "height": 1198
    },
    "colab_type": "code",
    "id": "IoMPhivCfH29",
    "outputId": "d563bdcc-ddb3-4cb1-fb77-b731bca64a52"
   },
   "outputs": [
    {
     "name": "stdout",
     "output_type": "stream",
     "text": [
      "\n",
      "Tree with bagging\n",
      "The accuracy score is  0.840236686391\n",
      "The precision score is  0.2\n",
      "The recall score is  0.0952380952381\n",
      "[[140   8]\n",
      " [ 19   2]]\n",
      "[ 0.005       0.00909091  0.01        0.01353039  0.01434783  0.015\n",
      "  0.01800987  0.01952381  0.02        0.02485075  0.025       0.03        0.035\n",
      "  0.03958015  0.04        0.04375     0.04386364  0.049375    0.05        0.0545\n",
      "  0.055       0.05944444  0.06        0.06428571  0.07485075  0.07899097\n",
      "  0.07906672  0.07957627  0.08        0.0839899   0.08488636  0.085\n",
      "  0.08823922  0.09        0.09136028  0.09866172  0.09912793  0.09934783\n",
      "  0.10117971  0.105       0.1095679   0.10958887  0.11        0.11359524\n",
      "  0.11864469  0.1190625   0.12        0.12201172  0.125       0.1282197\n",
      "  0.12958333  0.13        0.13203977  0.1323428   0.135       0.13908291\n",
      "  0.1490625   0.14932597  0.15        0.15963415  0.16        0.16098052\n",
      "  0.165       0.17333163  0.17454545  0.17501286  0.18433981  0.18452381\n",
      "  0.18523628  0.19271203  0.19473684  0.19648186  0.19995455  0.2\n",
      "  0.20286237  0.20293548  0.20307683  0.20435897  0.204375    0.21206901\n",
      "  0.219375    0.22833356  0.23386028  0.24375     0.25122016  0.25463294\n",
      "  0.265       0.27451552  0.28017196  0.28932616  0.2911254   0.3015697\n",
      "  0.315       0.32221435  0.32978384  0.35476918  0.35722846  0.36361111\n",
      "  0.37421042  0.38988678  0.44823828  0.44952594  0.465       0.47056375\n",
      "  0.48515447  0.51159669  0.52296241  0.53296104  0.54383004  0.54883112\n",
      "  0.55275032  0.5596924   0.59289982  0.66684897  0.67081257]\n",
      "[ 1.          0.95238095  0.9047619   0.9047619   0.9047619   0.9047619\n",
      "  0.80952381  0.80952381  0.80952381  0.76190476  0.76190476  0.76190476\n",
      "  0.76190476  0.76190476  0.76190476  0.76190476  0.76190476  0.76190476\n",
      "  0.76190476  0.76190476  0.76190476  0.76190476  0.76190476  0.76190476\n",
      "  0.76190476  0.76190476  0.76190476  0.76190476  0.76190476  0.71428571\n",
      "  0.71428571  0.71428571  0.71428571  0.66666667  0.66666667  0.66666667\n",
      "  0.66666667  0.66666667  0.66666667  0.66666667  0.66666667  0.66666667\n",
      "  0.66666667  0.66666667  0.66666667  0.66666667  0.66666667  0.66666667\n",
      "  0.66666667  0.66666667  0.66666667  0.66666667  0.66666667  0.66666667\n",
      "  0.66666667  0.66666667  0.61904762  0.61904762  0.61904762  0.61904762\n",
      "  0.61904762  0.57142857  0.57142857  0.57142857  0.57142857  0.57142857\n",
      "  0.57142857  0.57142857  0.52380952  0.52380952  0.52380952  0.52380952\n",
      "  0.47619048  0.47619048  0.47619048  0.47619048  0.47619048  0.47619048\n",
      "  0.47619048  0.47619048  0.42857143  0.42857143  0.42857143  0.42857143\n",
      "  0.42857143  0.42857143  0.42857143  0.42857143  0.42857143  0.38095238\n",
      "  0.38095238  0.38095238  0.38095238  0.33333333  0.28571429  0.23809524\n",
      "  0.19047619  0.14285714  0.0952381   0.0952381   0.0952381   0.0952381\n",
      "  0.0952381   0.0952381   0.0952381   0.0952381   0.0952381   0.0952381\n",
      "  0.0952381   0.0952381   0.04761905  0.04761905  0.04761905  0.04761905\n",
      "  0.          0.        ]\n",
      "\n",
      "Tree with bagging with threshold\n",
      "The accuracy score is  0.786982248521\n",
      "The precision score is  0.272727272727\n",
      "The recall score is  0.428571428571\n",
      "[[124  24]\n",
      " [ 12   9]]\n"
     ]
    },
    {
     "data": {
      "image/png": "[encoded data removed]",
      "text/plain": [
       "<Figure size 432x288 with 1 Axes>"
      ]
     },
     "metadata": {
      "needs_background": "light"
     },
     "output_type": "display_data"
    }
   ],
   "source": [
    "print(\"\\nTree with bagging\")\n",
    "# TREE with Bagging\n",
    "Bagmodel = BaggingClassifier(base_estimator=treeModel, n_estimators=200, random_state=0)\n",
    "Bagmodel.fit(X_train_transformed,Y_train)\n",
    "predict_tree_bag =Bagmodel.predict(X_test_transformed)\n",
    "accuracy_tree_bag = accuracy_score(Y_test,predict_tree_bag)\n",
    "precision_tree_bag = precision_score(Y_test,predict_tree_bag, pos_label=1)\n",
    "recall_tree_bag = recall_score(Y_test,predict_tree_bag)\n",
    "\n",
    "print(\"The accuracy score is \", accuracy_tree_bag)\n",
    "print(\"The precision score is \", precision_tree_bag)\n",
    "print(\"The recall score is \", recall_tree_bag)\n",
    "print(confusion_matrix(Y_test, predict_tree_bag))\n",
    "\n",
    "Y_prob =  Bagmodel.predict_proba(X_test_transformed)\n",
    "precision, recall, thresholds = precision_recall_curve(Y_test, (Y_prob[:,1]))\n",
    "step_kwargs = ({'step': 'post'}\n",
    "               if 'step' in signature(plt.fill_between).parameters\n",
    "               else {})\n",
    "plt.step(recall, precision, color='b', alpha=0.2,\n",
    "         where='post')\n",
    "plt.fill_between(recall, precision, alpha=0.2, color='b', **step_kwargs)\n",
    "\n",
    "plt.xlabel('Recall')\n",
    "plt.ylabel('Precision')\n",
    "plt.ylim([0.0, 1.05])\n",
    "plt.xlim([0.0, 1.0])\n",
    "plt.title('2-class Precision-Recall curve: AP={0:0.2f}')\n",
    "print(thresholds)\n",
    "print(recall)\n",
    "\n",
    "print(\"\\nTree with bagging with threshold\")\n",
    "threshold = 0.23\n",
    "probs_positive_class = Bagmodel.predict_proba(X_test_transformed)[:, 1]\n",
    "predict_ttree_bag = (probs_positive_class >= threshold).astype('int')\n",
    "accuracy_ttree_bag = accuracy_score(Y_test,predict_ttree_bag)\n",
    "precision_ttree_bag = precision_score(Y_test,predict_ttree_bag, pos_label=1)\n",
    "recall_ttree_bag = recall_score(Y_test,predict_ttree_bag)\n",
    "print(\"The accuracy score is \", accuracy_ttree_bag)\n",
    "print(\"The precision score is \", precision_ttree_bag)\n",
    "print(\"The recall score is \", recall_ttree_bag)\n",
    "print(confusion_matrix(Y_test, predict_ttree_bag))"
   ]
  },
  {
   "cell_type": "code",
   "execution_count": 44,
   "metadata": {
    "colab": {
     "base_uri": "https://localhost:8080/",
     "height": 550
    },
    "colab_type": "code",
    "id": "gMlUqbvbQwuc",
    "outputId": "4593c940-0814-4597-ec97-0eae486d9be3"
   },
   "outputs": [
    {
     "name": "stdout",
     "output_type": "stream",
     "text": [
      "\n",
      " Random Forest\n",
      "10\n",
      "The accuracy score is  0.869822485207\n",
      "The precision score is  0.333333333333\n",
      "The recall score is  0.047619047619\n",
      "[ 0.03275994  0.03943429  0.03728028  0.03399292  0.01123237  0.09879397\n",
      "  0.01851934  0.02261069  0.06500049  0.03331346  0.03558466  0.01393976\n",
      "  0.01925883  0.05831028  0.08585089  0.03123489  0.04176416  0.01441135\n",
      "  0.01489088  0.00635798  0.01171283  0.01440398  0.0125636   0.04997961\n",
      "  0.01369088  0.0146834   0.00560734  0.07931935  0.06091185  0.02258573]\n",
      "[[146   2]\n",
      " [ 20   1]]\n",
      "\n",
      " Random Forest w threshold\n",
      "The accuracy score is  0.816568047337\n",
      "The precision score is  0.291666666667\n",
      "The recall score is  0.333333333333\n",
      "[[131  17]\n",
      " [ 14   7]]\n"
     ]
    },
    {
     "data": {
      "image/png": "[encoded data removed]",
      "text/plain": [
       "<Figure size 432x288 with 1 Axes>"
      ]
     },
     "metadata": {
      "needs_background": "light"
     },
     "output_type": "display_data"
    }
   ],
   "source": [
    "# RANDOM FOREST NO FEATURE SELECTION\n",
    "print(\"\\n Random Forest\")\n",
    "best_score = 0\n",
    "X = [1,2,3,4,5,6,7,8,9,10]\n",
    "for x in X:\n",
    "    forestModel= RandomForestClassifier (n_estimators=200,max_depth=x, random_state=0)\n",
    "    scores = cross_val_score(forestModel, X_train_transformed,Y_train, cv=10, scoring=make_scorer(f1_score))\n",
    "    score=np.mean(scores)\n",
    "    if score > best_score:\n",
    "      best_score = score\n",
    "      best_depth = x\n",
    "print(best_depth)\n",
    "\n",
    "forestModel= RandomForestClassifier (n_estimators=200,max_depth=best_depth, random_state=0)\n",
    "forestModel.fit(X_train_transformed,Y_train)\n",
    "predict_rtree = forestModel.predict(X_test_transformed)\n",
    "accuracy_randomforest= accuracy_score(Y_test,predict_rtree)\n",
    "precision_randomforest = precision_score(Y_test,predict_rtree, pos_label=1)\n",
    "recall_randomforest = recall_score(Y_test,predict_rtree)\n",
    "\n",
    "print(\"The accuracy score is \", accuracy_randomforest)\n",
    "print(\"The precision score is \", precision_randomforest)\n",
    "print(\"The recall score is \", recall_randomforest)\n",
    "\n",
    "# feat_importances = pd.Series(forestModel.feature_importances_, index=X_features.columns)\n",
    "# feat_importances.nlargest(10).plot(kind='barh')\n",
    "# print(forestModel.feature_importances_)\n",
    "\n",
    "print(confusion_matrix(Y_test, predict_rtree))\n",
    "\n",
    "Y_prob = forestModel.predict_proba(X_test_transformed)\n",
    "precision, recall, thresholds = precision_recall_curve(Y_test, (Y_prob[:,1]))\n",
    "step_kwargs = ({'step': 'post'}\n",
    "               if 'step' in signature(plt.fill_between).parameters\n",
    "               else {})\n",
    "plt.step(recall, precision, color='b', alpha=0.2,\n",
    "         where='post')\n",
    "plt.fill_between(recall, precision, alpha=0.2, color='b', **step_kwargs)\n",
    "\n",
    "plt.xlabel('Recall')\n",
    "plt.ylabel('Precision')\n",
    "plt.ylim([0.0, 1.05])\n",
    "plt.xlim([0.0, 1.0])\n",
    "plt.title('2-class Precision-Recall curve: AP={0:0.2f}')\n",
    "# print(thresholds)\n",
    "# print(recall)\n",
    "\n",
    "print(\"\\n Random Forest w threshold\")\n",
    "threshold = 0.28\n",
    "probs_positive_class = forestModel.predict_proba(X_test_transformed)[:, 1]\n",
    "predict_trtree = (probs_positive_class >= threshold).astype('int')\n",
    "accuracy_trtree = accuracy_score(Y_test,predict_trtree)\n",
    "precision_trtree = precision_score(Y_test,predict_trtree, pos_label=1)\n",
    "recall_trtree = recall_score(Y_test,predict_trtree)\n",
    "print(\"The accuracy score is \", accuracy_trtree)\n",
    "print(\"The precision score is \", precision_trtree)\n",
    "print(\"The recall score is \", recall_trtree)\n",
    "print(confusion_matrix(Y_test, predict_trtree))\n",
    "\n"
   ]
  },
  {
   "cell_type": "code",
   "execution_count": 45,
   "metadata": {
    "colab": {
     "base_uri": "https://localhost:8080/",
     "height": 1284
    },
    "colab_type": "code",
    "id": "ndkwPwYPhJYO",
    "outputId": "091c93c8-49c5-4937-f895-87b766d377b9"
   },
   "outputs": [
    {
     "name": "stdout",
     "output_type": "stream",
     "text": [
      "\n",
      " Bagging Random Forest\n",
      "The accuracy score is  0.869822485207\n",
      "The precision score is  0.25\n",
      "The recall score is  0.047619047619\n",
      "[[146   2]\n",
      " [ 20   1]]\n",
      "[ 0.05476492  0.0556892   0.05585577  0.05632197  0.05807073  0.05832546\n",
      "  0.0602407   0.0634775   0.06452567  0.06477834  0.06791694  0.07069278\n",
      "  0.07218334  0.07437306  0.07503332  0.07676639  0.08053011  0.08134922\n",
      "  0.08188276  0.08431481  0.08584282  0.08839618  0.08929261  0.09361733\n",
      "  0.09526602  0.09914957  0.10342764  0.10517055  0.10607663  0.10899085\n",
      "  0.11036811  0.11068791  0.11104328  0.11429907  0.11842414  0.11912137\n",
      "  0.11943927  0.12188248  0.12489455  0.13113326  0.13284441  0.1329051\n",
      "  0.13331796  0.13458143  0.13472108  0.13675307  0.13850671  0.13860057\n",
      "  0.14220042  0.14285562  0.14342846  0.14391548  0.14428535  0.14441012\n",
      "  0.14488064  0.14620324  0.15643021  0.16094148  0.16480834  0.16828694\n",
      "  0.17062657  0.17241802  0.17250394  0.175752    0.17704831  0.17954587\n",
      "  0.1799483   0.18124445  0.18234472  0.1828353   0.18301724  0.18444643\n",
      "  0.18548338  0.18568268  0.1861082   0.18714634  0.18749974  0.18760973\n",
      "  0.18810958  0.18955608  0.19025331  0.19025675  0.19088775  0.19704118\n",
      "  0.19850416  0.19852294  0.19912129  0.20523823  0.207537    0.21125231\n",
      "  0.21364609  0.21367031  0.21388665  0.22424176  0.22740014  0.22907442\n",
      "  0.23369315  0.23458695  0.23594015  0.25139254  0.25232109  0.26057513\n",
      "  0.26813163  0.27259259  0.27261115  0.27585743  0.28036876  0.29313925\n",
      "  0.29471401  0.29472874  0.29876146  0.30130014  0.30210185  0.30795646\n",
      "  0.32173877  0.32803053  0.33173708  0.33263472  0.33786299  0.34163942\n",
      "  0.34847344  0.35182664  0.35606007  0.35624315  0.35864205  0.36003181\n",
      "  0.363199    0.3711756   0.3747346   0.38903813  0.39180926  0.40006377\n",
      "  0.40743051  0.42005717  0.42195818  0.42257741  0.42334032  0.4266439\n",
      "  0.43689864  0.44330073  0.44778335  0.45068358  0.46688495  0.53802246\n",
      "  0.54459344  0.59250937  0.63429286]\n",
      "[ 1.          0.95238095  0.95238095  0.95238095  0.95238095  0.95238095\n",
      "  0.95238095  0.95238095  0.95238095  0.95238095  0.95238095  0.95238095\n",
      "  0.95238095  0.95238095  0.95238095  0.95238095  0.95238095  0.95238095\n",
      "  0.95238095  0.95238095  0.95238095  0.95238095  0.95238095  0.95238095\n",
      "  0.95238095  0.95238095  0.95238095  0.95238095  0.95238095  0.95238095\n",
      "  0.9047619   0.9047619   0.85714286  0.80952381  0.80952381  0.80952381\n",
      "  0.80952381  0.80952381  0.76190476  0.76190476  0.76190476  0.76190476\n",
      "  0.76190476  0.76190476  0.76190476  0.76190476  0.76190476  0.76190476\n",
      "  0.76190476  0.71428571  0.71428571  0.71428571  0.71428571  0.71428571\n",
      "  0.71428571  0.71428571  0.71428571  0.71428571  0.71428571  0.71428571\n",
      "  0.71428571  0.66666667  0.61904762  0.61904762  0.61904762  0.61904762\n",
      "  0.61904762  0.61904762  0.61904762  0.61904762  0.61904762  0.61904762\n",
      "  0.61904762  0.61904762  0.61904762  0.61904762  0.61904762  0.61904762\n",
      "  0.61904762  0.61904762  0.61904762  0.61904762  0.61904762  0.61904762\n",
      "  0.61904762  0.61904762  0.61904762  0.61904762  0.61904762  0.61904762\n",
      "  0.61904762  0.61904762  0.61904762  0.61904762  0.61904762  0.61904762\n",
      "  0.61904762  0.61904762  0.61904762  0.61904762  0.61904762  0.61904762\n",
      "  0.61904762  0.61904762  0.61904762  0.61904762  0.61904762  0.61904762\n",
      "  0.57142857  0.57142857  0.52380952  0.52380952  0.52380952  0.52380952\n",
      "  0.52380952  0.52380952  0.52380952  0.52380952  0.52380952  0.52380952\n",
      "  0.52380952  0.47619048  0.42857143  0.38095238  0.38095238  0.33333333\n",
      "  0.33333333  0.33333333  0.28571429  0.23809524  0.19047619  0.14285714\n",
      "  0.14285714  0.14285714  0.14285714  0.14285714  0.0952381   0.04761905\n",
      "  0.04761905  0.04761905  0.04761905  0.04761905  0.04761905  0.04761905\n",
      "  0.04761905  0.04761905  0.04761905  0.        ]\n",
      "\n",
      " Bagging Random Forest w threshold\n",
      "The accuracy score is  0.792899408284\n",
      "The precision score is  0.305555555556\n",
      "The recall score is  0.52380952381\n",
      "[[123  25]\n",
      " [ 10  11]]\n"
     ]
    },
    {
     "data": {
      "image/png": "[encoded data removed]",
      "text/plain": [
       "<Figure size 432x288 with 1 Axes>"
      ]
     },
     "metadata": {
      "needs_background": "light"
     },
     "output_type": "display_data"
    }
   ],
   "source": [
    "print(\"\\n Bagging Random Forest\")\n",
    "rfbmodel = BaggingClassifier(base_estimator=forestModel, n_estimators=100, random_state=0)\n",
    "predict_rfbtree = rfbmodel.fit(X_train_transformed,Y_train).predict(X_test_transformed)\n",
    "accuracy_rfbtree= accuracy_score(Y_test,predict_rtree)\n",
    "precision_rfbtree = precision_score(Y_test,predict_rfbtree, pos_label=1)\n",
    "recall_rfbtree = recall_score(Y_test,predict_rfbtree)\n",
    "print(\"The accuracy score is \", accuracy_rfbtree)\n",
    "print(\"The precision score is \", precision_rfbtree)\n",
    "print(\"The recall score is \", recall_rfbtree)\n",
    "print(confusion_matrix(Y_test, predict_rtree))\n",
    "\n",
    "\n",
    "Y_prob = rfbmodel.predict_proba(X_test_transformed)\n",
    "precision, recall, thresholds = precision_recall_curve(Y_test, (Y_prob[:,1]))\n",
    "step_kwargs = ({'step': 'post'}\n",
    "               if 'step' in signature(plt.fill_between).parameters\n",
    "               else {})\n",
    "plt.step(recall, precision, color='b', alpha=0.2,\n",
    "         where='post')\n",
    "plt.fill_between(recall, precision, alpha=0.2, color='b', **step_kwargs)\n",
    "\n",
    "plt.xlabel('Recall')\n",
    "plt.ylabel('Precision')\n",
    "plt.ylim([0.0, 1.05])\n",
    "plt.xlim([0.0, 1.0])\n",
    "plt.title('2-class Precision-Recall curve: AP={0:0.2f}')\n",
    "print(thresholds)\n",
    "print(recall)\n",
    "\n",
    "print(\"\\n Bagging Random Forest w threshold\")\n",
    "threshold = 0.3\n",
    "probs_positive_class = rfbmodel.predict_proba(X_test_transformed)[:, 1]\n",
    "predict_trfbtree = (probs_positive_class >= threshold).astype('int')\n",
    "accuracy_trfbtree = accuracy_score(Y_test,predict_trfbtree)\n",
    "precision_trfbtree = precision_score(Y_test,predict_trfbtree, pos_label=1)\n",
    "recall_trfbtree = recall_score(Y_test,predict_trfbtree)\n",
    "print(\"The accuracy score is \", accuracy_trfbtree)\n",
    "print(\"The precision score is \", precision_trfbtree)\n",
    "print(\"The recall score is \", recall_trfbtree)\n",
    "print(confusion_matrix(Y_test, predict_trfbtree))\n",
    "\n"
   ]
  },
  {
   "cell_type": "code",
   "execution_count": 87,
   "metadata": {
    "colab": {
     "base_uri": "https://localhost:8080/",
     "height": 499
    },
    "colab_type": "code",
    "id": "tXMv5Q-zO6KR",
    "outputId": "460c2245-363b-4749-c95e-6a97d83416d7"
   },
   "outputs": [
    {
     "name": "stdout",
     "output_type": "stream",
     "text": [
      "20\n",
      "The accuracy score is  0.769230769231\n",
      "The precision score is  0.295454545455\n",
      "The recall score is  0.619047619048\n",
      "[[117  31]\n",
      " [  8  13]]\n",
      "20\n",
      "The accuracy score is  0.85798816568\n",
      "The precision score is  0.428571428571\n",
      "The recall score is  0.428571428571\n",
      "[[136  12]\n",
      " [ 12   9]]\n"
     ]
    },
    {
     "data": {
      "image/png": "[encoded data removed]",
      "text/plain": [
       "<Figure size 432x288 with 1 Axes>"
      ]
     },
     "metadata": {
      "needs_background": "light"
     },
     "output_type": "display_data"
    }
   ],
   "source": [
    "best_score = 0\n",
    "k_folds = 10\n",
    "for c in [0.01,.05,0.1,0.5,1,5,10,20,50]:\n",
    "    logRegModel = LogisticRegression(C = c)\n",
    "    scores = cross_val_score(logRegModel, X_train_transformed,Y_train, cv = k_folds,scoring=make_scorer(f1_score))\n",
    "    score = np.mean(scores)\n",
    "    #print(scores)\n",
    "    if score > best_score:\n",
    "        best_score = score\n",
    "        best_parameter = c\n",
    "    \n",
    "logRegModel_final = LogisticRegression(C = best_parameter).fit(X_train_transformed,Y_train)\n",
    "Y_Ridge_predict = logRegModel_final.predict(X_test_transformed)\n",
    "precision_ridge = precision_score(Y_test,Y_Ridge_predict)\n",
    "recall_ridge = recall_score(Y_test,Y_Ridge_predict)\n",
    "accuracy_ridge = accuracy_score(Y_test,Y_Ridge_predict)\n",
    "print(best_parameter)\n",
    "print(\"The accuracy score is \", accuracy_ridge)\n",
    "print(\"The precision score is \", precision_ridge)\n",
    "print(\"The recall score is \", recall_ridge)\n",
    "print(confusion_matrix(Y_test, Y_Ridge_predict))\n",
    "\n",
    "\n",
    "Y_prob = logRegModel_final.predict_proba(X_test_transformed)\n",
    "precision, recall, thresholds = precision_recall_curve(Y_test, (Y_prob[:,1]))\n",
    "step_kwargs = ({'step': 'post'}\n",
    "               if 'step' in signature(plt.fill_between).parameters\n",
    "               else {})\n",
    "plt.step(recall, precision, color='b', alpha=0.2,\n",
    "         where='post')\n",
    "plt.fill_between(recall, precision, alpha=0.2, color='b', **step_kwargs)\n",
    "\n",
    "plt.xlabel('Recall')\n",
    "plt.ylabel('Precision')\n",
    "plt.ylim([0.0, 1.05])\n",
    "plt.xlim([0.0, 1.0])\n",
    "plt.title('2-class Precision-Recall curve: AP={0:0.2f}')\n",
    "# print(thresholds)\n",
    "# print(recall)\n",
    "\n",
    "\n",
    "threshold = 0.71\n",
    "probs_positive_class = logRegModel_final.predict_proba(X_test_transformed)[:, 1]\n",
    "Y_Ridge_predict = (probs_positive_class >= threshold).astype('int')\n",
    "precision_tridge = precision_score(Y_test,Y_Ridge_predict)\n",
    "recall_tridge = recall_score(Y_test,Y_Ridge_predict)\n",
    "accuracy_tridge = accuracy_score(Y_test,Y_Ridge_predict)\n",
    "\n",
    "\n",
    "print(best_parameter)\n",
    "print(\"The accuracy score is \", accuracy_tridge)\n",
    "print(\"The precision score is \", precision_tridge)\n",
    "print(\"The recall score is \", recall_tridge)\n",
    "print(confusion_matrix(Y_test, Y_Ridge_predict))"
   ]
  },
  {
   "cell_type": "code",
   "execution_count": 85,
   "metadata": {
    "colab": {
     "base_uri": "https://localhost:8080/",
     "height": 601
    },
    "colab_type": "code",
    "id": "L7WrOHCwRJ9V",
    "outputId": "4a9f48d1-688e-42e8-d933-76acb26d6073"
   },
   "outputs": [
    {
     "name": "stdout",
     "output_type": "stream",
     "text": [
      "0.5\n",
      "\n",
      "The Coefficients  [[-0.25157177  0.94421208 -0.17882525  0.          0.24119423  2.01950412\n",
      "   0.         -0.34810891  1.67720797  0.41702711 -1.25605671 -0.37562129\n",
      "   0.         -0.08590647  2.56918254 -0.01515978  0.63996904 -0.0595813\n",
      "  -0.10454963  0.08722254  0.07868904 -0.18806354  0.74589233 -0.81810187\n",
      "   0.         -0.11154113  0.          1.38357288 -1.13427931  0.43408423]]\n",
      "The accuracy score is  0.745562130178\n",
      "The precision score is  0.270833333333\n",
      "The recall score is  0.619047619048\n",
      "[[113  35]\n",
      " [  8  13]]\n",
      "0.5\n",
      "The accuracy score is  0.863905325444\n",
      "The precision score is  0.454545454545\n",
      "The recall score is  0.47619047619\n",
      "[[136  12]\n",
      " [ 11  10]]\n"
     ]
    },
    {
     "data": {
      "image/png": "[encoded data removed]",
      "text/plain": [
       "<Figure size 432x288 with 1 Axes>"
      ]
     },
     "metadata": {
      "needs_background": "light"
     },
     "output_type": "display_data"
    }
   ],
   "source": [
    "best_score = 0\n",
    "k_folds = 10\n",
    "for c in [0.01,.05,0.1,0.5,1,5,10,20,50]:\n",
    "    logRegModel = LogisticRegression(C = c, penalty = \"l1\")\n",
    "    scores = cross_val_score(logRegModel, X_train_transformed,Y_train, cv = k_folds, scoring=make_scorer(f1_score))\n",
    "    score = np.mean(scores)\n",
    "    #print(scores)\n",
    "    if score > best_score:\n",
    "        best_score = score\n",
    "        best_parameter = c\n",
    "    \n",
    "logRegModel_final = LogisticRegression(C = best_parameter, penalty = \"l1\").fit(X_train_transformed,Y_train)\n",
    "Y_lasso_predict = logRegModel_final.predict(X_test_transformed)\n",
    "precision_lasso = precision_score(Y_test,Y_lasso_predict)\n",
    "recall_lasso = recall_score(Y_test,Y_lasso_predict)\n",
    "accuracy_lasso = accuracy_score(Y_test,Y_lasso_predict)\n",
    "print(best_parameter)\n",
    "print(\"\\nThe Coefficients \", logRegModel_final.coef_)\n",
    "print(\"The accuracy score is \", accuracy_lasso)\n",
    "print(\"The precision score is \", precision_lasso)\n",
    "print(\"The recall score is \", recall_lasso)\n",
    "print(confusion_matrix(Y_test, Y_lasso_predict))\n",
    "\n",
    "Y_prob = logRegModel_final.predict_proba(X_test_transformed)\n",
    "precision, recall, thresholds = precision_recall_curve(Y_test, (Y_prob[:,1]))\n",
    "step_kwargs = ({'step': 'post'}\n",
    "               if 'step' in signature(plt.fill_between).parameters\n",
    "               else {})\n",
    "plt.step(recall, precision, color='b', alpha=0.2,\n",
    "         where='post')\n",
    "plt.fill_between(recall, precision, alpha=0.2, color='b', **step_kwargs)\n",
    "\n",
    "plt.xlabel('Recall')\n",
    "plt.ylabel('Precision')\n",
    "plt.ylim([0.0, 1.05])\n",
    "plt.xlim([0.0, 1.0])\n",
    "plt.title('2-class Precision-Recall curve: AP={0:0.2f}')\n",
    "# print(thresholds)\n",
    "# print(recall)\n",
    "threshold = .68\n",
    "probs_positive_class = logRegModel_final.predict_proba(X_test_transformed)[:, 1]\n",
    "Y_lasso_predict = (probs_positive_class >= threshold).astype('int')\n",
    "precision_tlasso = precision_score(Y_test,Y_lasso_predict)\n",
    "recall_tlasso = recall_score(Y_test,Y_lasso_predict)\n",
    "accuracy_tlasso = accuracy_score(Y_test,Y_lasso_predict)\n",
    "print(best_parameter)\n",
    "print(\"The accuracy score is \", accuracy_tlasso)\n",
    "print(\"The precision score is \", precision_tlasso)\n",
    "print(\"The recall score is \", recall_tlasso)\n",
    "print(confusion_matrix(Y_test, Y_lasso_predict))"
   ]
  },
  {
   "cell_type": "code",
   "execution_count": 81,
   "metadata": {
    "colab": {
     "base_uri": "https://localhost:8080/",
     "height": 499
    },
    "colab_type": "code",
    "id": "MdfclLhrHGod",
    "outputId": "866d59d3-3626-4422-8411-562fa508b478"
   },
   "outputs": [
    {
     "name": "stdout",
     "output_type": "stream",
     "text": [
      "Test Score: 0.751479289941\n",
      "The accuracy score is  0.751479289941\n",
      "The precision score is  0.285714285714\n",
      "The recall score is  0.666666666667\n",
      "[[113  35]\n",
      " [  7  14]]\n",
      "Test Score: 0.751479289941\n",
      "The accuracy score is  0.852071005917\n",
      "The precision score is  0.409090909091\n",
      "The recall score is  0.428571428571\n",
      "[[135  13]\n",
      " [ 12   9]]\n"
     ]
    },
    {
     "data": {
      "image/png": "[encoded data removed]",
      "text/plain": [
       "<Figure size 432x288 with 1 Axes>"
      ]
     },
     "metadata": {
      "needs_background": "light"
     },
     "output_type": "display_data"
    }
   ],
   "source": [
    "LDAmodelFitted = LinearDiscriminantAnalysis().fit(X_train_transformed, Y_train)\n",
    "Y_LDA_predict = LDAmodelFitted.predict(X_test_transformed)\n",
    "accuracy_LDA = accuracy_score(Y_test,Y_LDA_predict)\n",
    "precision_LDA = precision_score(Y_test,Y_LDA_predict)\n",
    "recall_LDA = recall_score(Y_test,Y_LDA_predict)\n",
    "test_score_LDA = LDAmodelFitted.score(X_test_transformed,Y_test)\n",
    "print(\"Test Score:\", test_score_LDA)\n",
    "print(\"The accuracy score is \", accuracy_LDA)\n",
    "print(\"The precision score is \", precision_LDA)\n",
    "print(\"The recall score is \", recall_LDA)\n",
    "print(confusion_matrix(Y_test, Y_LDA_predict))\n",
    "\n",
    "\n",
    "Y_prob = LDAmodelFitted.predict_proba(X_test_transformed)\n",
    "precision, recall, thresholds = precision_recall_curve(Y_test, (Y_prob[:,1]))\n",
    "step_kwargs = ({'step': 'post'}\n",
    "               if 'step' in signature(plt.fill_between).parameters\n",
    "               else {})\n",
    "plt.step(recall, precision, color='b', alpha=0.2,\n",
    "         where='post')\n",
    "plt.fill_between(recall, precision, alpha=0.2, color='b', **step_kwargs)\n",
    "\n",
    "plt.xlabel('Recall')\n",
    "plt.ylabel('Precision')\n",
    "plt.ylim([0.0, 1.05])\n",
    "plt.xlim([0.0, 1.0])\n",
    "plt.title('2-class Precision-Recall curve: AP={0:0.2f}')\n",
    "# print(thresholds)\n",
    "# print(recall)\n",
    "\n",
    "## Threshold found through separate cross validation\n",
    "threshold = 0.71\n",
    "probs_positive_class = LDAmodelFitted.predict_proba(X_test_transformed)[:, 1]\n",
    "LDA_predicted= (probs_positive_class >= threshold).astype('int')\n",
    "accuracy_tLDA = accuracy_score(Y_test,LDA_predicted)\n",
    "precision_tLDA = precision_score(Y_test,LDA_predicted)\n",
    "recall_tLDA = recall_score(Y_test,LDA_predicted)\n",
    "test_score_tLDA = LDAmodelFitted.score(X_test,Y_test)\n",
    "print(\"Test Score:\", test_score_LDA)\n",
    "print(\"The accuracy score is \", accuracy_tLDA)\n",
    "print(\"The precision score is \", precision_tLDA)\n",
    "print(\"The recall score is \", recall_tLDA)\n",
    "print(confusion_matrix(Y_test, LDA_predicted))"
   ]
  },
  {
   "cell_type": "code",
   "execution_count": 49,
   "metadata": {
    "colab": {
     "base_uri": "https://localhost:8080/",
     "height": 1642
    },
    "colab_type": "code",
    "id": "N4_06J8uOCpg",
    "outputId": "bf4090a6-dce6-4602-e81f-918100185cf7"
   },
   "outputs": [
    {
     "name": "stdout",
     "output_type": "stream",
     "text": [
      "lbfgs\n",
      "tanh\n",
      "The recall is: 0.333333333333\n",
      "The precision is: 0.388888888889\n",
      "The accuracy is : 0.852071005917\n",
      "[[137  11]\n",
      " [ 14   7]]\n",
      "[  2.04634453e-06   2.46647519e-06   2.51751444e-06   2.61313304e-06\n",
      "   2.65590423e-06   3.15572721e-06   3.20452766e-06   3.24399142e-06\n",
      "   3.50801692e-06   3.57362973e-06   4.15938594e-06   4.42188812e-06\n",
      "   4.75044186e-06   4.76657018e-06   6.23760029e-06   6.32186874e-06\n",
      "   6.80639655e-06   7.74127191e-06   8.16282514e-06   8.17794310e-06\n",
      "   8.30250498e-06   8.32018441e-06   8.64082019e-06   8.90418211e-06\n",
      "   9.03638139e-06   9.36455265e-06   9.39392883e-06   9.75291961e-06\n",
      "   1.01519836e-05   1.02897140e-05   1.07847365e-05   1.12348636e-05\n",
      "   1.16172477e-05   1.22958837e-05   1.28176637e-05   1.30376105e-05\n",
      "   1.32494319e-05   1.41736457e-05   1.47669765e-05   1.51282747e-05\n",
      "   1.56125013e-05   1.59837134e-05   1.66065024e-05   1.73772201e-05\n",
      "   1.84032815e-05   1.99059530e-05   1.99311138e-05   2.22067938e-05\n",
      "   2.22923786e-05   2.61327075e-05   2.68577887e-05   2.95926374e-05\n",
      "   3.00504716e-05   3.19290279e-05   3.35928002e-05   4.08802047e-05\n",
      "   4.09634569e-05   4.14301731e-05   4.31701874e-05   4.64603586e-05\n",
      "   4.96251827e-05   5.00504723e-05   5.15813009e-05   6.76877804e-05\n",
      "   7.53023179e-05   7.62424159e-05   1.03119595e-04   1.10177989e-04\n",
      "   1.29987417e-04   1.34802104e-04   1.37213693e-04   1.47862256e-04\n",
      "   1.64593320e-04   1.72647626e-04   1.89686240e-04   1.98770005e-04\n",
      "   2.08999372e-04   2.12785408e-04   2.16234346e-04   2.32978965e-04\n",
      "   2.38198096e-04   2.54589420e-04   2.64102371e-04   2.97198966e-04\n",
      "   3.47629810e-04   3.49975416e-04   3.73002542e-04   3.77508161e-04\n",
      "   4.69259620e-04   4.71178079e-04   5.18445690e-04   6.74105815e-04\n",
      "   6.82528364e-04   6.99890499e-04   7.45521069e-04   7.59658970e-04\n",
      "   8.57960305e-04   8.64407036e-04   8.89130412e-04   9.87432448e-04\n",
      "   1.21973585e-03   1.32680210e-03   1.32951256e-03   1.42588689e-03\n",
      "   1.45449426e-03   1.57169666e-03   2.11549119e-03   2.37349614e-03\n",
      "   2.57748892e-03   2.58588290e-03   2.85728318e-03   3.40587346e-03\n",
      "   3.65377650e-03   3.74632828e-03   4.18107756e-03   4.58953470e-03\n",
      "   5.31003644e-03   5.32548539e-03   6.12614931e-03   6.34872600e-03\n",
      "   6.67993170e-03   7.95647394e-03   8.21678727e-03   8.74906312e-03\n",
      "   1.02205923e-02   1.43411756e-02   1.59769349e-02   1.65228205e-02\n",
      "   1.67460645e-02   1.72030876e-02   1.83395609e-02   2.04285415e-02\n",
      "   2.48604891e-02   2.88489128e-02   3.93824175e-02   4.59066911e-02\n",
      "   5.11908665e-02   6.96924551e-02   9.97446014e-02   1.26636202e-01\n",
      "   1.52173687e-01   2.11270255e-01   2.71431186e-01   4.16740809e-01\n",
      "   4.18676111e-01   4.48720511e-01   5.22522774e-01   7.69811083e-01\n",
      "   8.35299030e-01   8.36648515e-01   9.53588715e-01   9.54687033e-01\n",
      "   9.55229577e-01   9.66822483e-01   9.68538382e-01   9.88017816e-01\n",
      "   9.89198773e-01   9.89386095e-01   9.93239326e-01   9.96997688e-01\n",
      "   9.97446920e-01   9.98842853e-01   9.99829128e-01   9.99977479e-01]\n",
      "[ 1.          0.95238095  0.95238095  0.95238095  0.9047619   0.9047619\n",
      "  0.9047619   0.85714286  0.85714286  0.85714286  0.85714286  0.85714286\n",
      "  0.85714286  0.85714286  0.85714286  0.85714286  0.85714286  0.85714286\n",
      "  0.85714286  0.85714286  0.85714286  0.85714286  0.85714286  0.85714286\n",
      "  0.85714286  0.85714286  0.85714286  0.85714286  0.85714286  0.85714286\n",
      "  0.80952381  0.80952381  0.80952381  0.80952381  0.80952381  0.80952381\n",
      "  0.80952381  0.80952381  0.80952381  0.80952381  0.80952381  0.80952381\n",
      "  0.80952381  0.80952381  0.80952381  0.80952381  0.80952381  0.76190476\n",
      "  0.76190476  0.76190476  0.76190476  0.76190476  0.76190476  0.76190476\n",
      "  0.76190476  0.76190476  0.76190476  0.76190476  0.76190476  0.76190476\n",
      "  0.76190476  0.76190476  0.71428571  0.71428571  0.71428571  0.71428571\n",
      "  0.71428571  0.71428571  0.71428571  0.71428571  0.71428571  0.71428571\n",
      "  0.71428571  0.71428571  0.71428571  0.71428571  0.71428571  0.71428571\n",
      "  0.71428571  0.71428571  0.66666667  0.61904762  0.61904762  0.61904762\n",
      "  0.61904762  0.61904762  0.61904762  0.61904762  0.61904762  0.57142857\n",
      "  0.57142857  0.57142857  0.57142857  0.57142857  0.57142857  0.57142857\n",
      "  0.57142857  0.57142857  0.57142857  0.57142857  0.52380952  0.52380952\n",
      "  0.52380952  0.52380952  0.52380952  0.52380952  0.52380952  0.47619048\n",
      "  0.47619048  0.47619048  0.47619048  0.47619048  0.47619048  0.47619048\n",
      "  0.42857143  0.42857143  0.42857143  0.42857143  0.42857143  0.42857143\n",
      "  0.42857143  0.42857143  0.42857143  0.42857143  0.42857143  0.38095238\n",
      "  0.38095238  0.38095238  0.38095238  0.38095238  0.38095238  0.38095238\n",
      "  0.38095238  0.38095238  0.38095238  0.38095238  0.33333333  0.33333333\n",
      "  0.33333333  0.33333333  0.33333333  0.33333333  0.33333333  0.33333333\n",
      "  0.33333333  0.33333333  0.33333333  0.33333333  0.28571429  0.28571429\n",
      "  0.28571429  0.28571429  0.28571429  0.23809524  0.23809524  0.19047619\n",
      "  0.14285714  0.14285714  0.14285714  0.14285714  0.14285714  0.0952381\n",
      "  0.04761905  0.04761905  0.        ]\n",
      "The recall is: 0.333333333333\n",
      "The precision is: 0.388888888889\n",
      "The accuracy is : 0.852071005917\n",
      "[[137  11]\n",
      " [ 14   7]]\n"
     ]
    },
    {
     "data": {
      "image/png": "[encoded data removed]",
      "text/plain": [
       "<Figure size 432x288 with 1 Axes>"
      ]
     },
     "metadata": {
      "needs_background": "light"
     },
     "output_type": "display_data"
    }
   ],
   "source": [
    "from sklearn.model_selection import cross_validate\n",
    "def neuralFunctionCV(max_iter_,X_train,Y_train):\n",
    "    recall = 0\n",
    "    precision = 0\n",
    "    best_solver = ''\n",
    "    best_activation = ''\n",
    "    best_average = 0\n",
    "    scoring = ['precision_macro', 'recall_macro']\n",
    "    solv = ['lbfgs', 'sgd']\n",
    "    activation = ['logistic','relu','tanh','identity']\n",
    "    for i in solv:\n",
    "#         print(i)\n",
    "        for j in activation:\n",
    "#             print(j)\n",
    "            mlp = MLPClassifier(solver = i, activation = j, \n",
    "                       random_state = 0,hidden_layer_sizes = (10,8), alpha = 0.5, max_iter = max_iter_,)\n",
    "            scores = cross_validate(mlp, X_train,Y_train, scoring = 'f1_macro', cv = 10, return_train_score = False,)\n",
    "            #print(scores)\n",
    "            #recall_vals = np.mean(scores['test_recall_macro'])\n",
    "            #precision_vals = np.mean(scores['test_precision_macro'])\n",
    "            f_score = np.mean(scores['test_score'])\n",
    "            #print(f_score)\n",
    "            #print(precision_vals)\n",
    "            if (f_score > best_average):\n",
    "                best_solver = i\n",
    "                best_activation = j\n",
    "                best_average = f_score\n",
    "    return [best_solver,best_activation]\n",
    "\n",
    "  \n",
    "vals = []\n",
    "vals = neuralFunctionCV(9000, X_train_transformed, Y_train)\n",
    "print(vals[0])\n",
    "print(vals[1])\n",
    "mlpModel = MLPClassifier(solver = vals[0], activation = vals[1], random_state = 0, alpha = 0.5, \n",
    "                        hidden_layer_sizes = (10,8), max_iter = 5000).fit(X_train_transformed,Y_train)\n",
    "prediction_mlp=mlpModel.predict(X_test_transformed)\n",
    "recall_mlp = recall_score(Y_test,prediction_mlp)\n",
    "precision_mlp = precision_score(Y_test,prediction_mlp)\n",
    "accuracy_mlp = accuracy_score(Y_test,prediction_mlp)\n",
    "print(\"The recall is:\",recall_mlp)\n",
    "print(\"The precision is:\",precision_mlp)\n",
    "print(\"The accuracy is :\", accuracy_mlp)\n",
    "print(confusion_matrix(Y_test, prediction_mlp))\n",
    "\n",
    "Y_prob = mlpModel.predict_proba(X_test_transformed)\n",
    "precision, recall, thresholds = precision_recall_curve(Y_test, (Y_prob[:,1]))\n",
    "step_kwargs = ({'step': 'post'}\n",
    "               if 'step' in signature(plt.fill_between).parameters\n",
    "               else {})\n",
    "plt.step(recall, precision, color='b', alpha=0.2,\n",
    "         where='post')\n",
    "plt.fill_between(recall, precision, alpha=0.2, color='b', **step_kwargs)\n",
    "\n",
    "plt.xlabel('Recall')\n",
    "plt.ylabel('Precision')\n",
    "plt.ylim([0.0, 1.05])\n",
    "plt.xlim([0.0, 1.0])\n",
    "plt.title('2-class Precision-Recall curve: AP={0:0.2f}')\n",
    "print(thresholds)\n",
    "print(recall)\n",
    "\n",
    "threshold = 0.4\n",
    "probs_positive_class = mlpModel.predict_proba(X_test_transformed)[:, 1]\n",
    "prediction_tmlp = (probs_positive_class >= threshold).astype('int')\n",
    "recall_tmlp = recall_score(Y_test,prediction_mlp)\n",
    "precision_tmlp = precision_score(Y_test,prediction_mlp)\n",
    "accuracy_tmlp = accuracy_score(Y_test,prediction_mlp)\n",
    "print(\"The recall is:\",recall_tmlp)\n",
    "print(\"The precision is:\",precision_tmlp)\n",
    "print(\"The accuracy is :\", accuracy_tmlp)\n",
    "print(confusion_matrix(Y_test, prediction_mlp))"
   ]
  },
  {
   "cell_type": "code",
   "execution_count": 52,
   "metadata": {
    "colab": {
     "base_uri": "https://localhost:8080/",
     "height": 119
    },
    "colab_type": "code",
    "id": "STLM_GZNN3yd",
    "outputId": "9f5844e3-900d-4b28-ee4a-30a6f9f80bbc"
   },
   "outputs": [],
   "source": [
    "\n",
    "for max_depth_mat in [1, 2, 3, 4, 5]:\n",
    "    for min_child_weight_mat in [1, 2, 3, 4, 5]:\n",
    "    #     print(\"Min Child Weight is \" + str(min_child_weight_mat))\n",
    "        for scale_pos_weight_mat in [1, 2, 3, 4, 5]:\n",
    "    #         print(\"Scale Positive Weight is \" + str(min_child_weight_mat))\n",
    "            model = XGBClassifier(scale_pos_weight = scale_pos_weight_mat, min_child_weight = min_child_weight_mat, max_depth=max_depth_mat)\n",
    "            model.fit(X_train_transformed, Y_train)\n",
    "    #         print('---------------------------------------------------------------')\n",
    "    #         print('Train')\n",
    "            y_pred = model.predict(X_train_transformed)\n",
    "            predictions = [round(value) for value in y_pred]\n",
    "            train_acc = accuracy_score(Y_train, predictions)\n",
    "            cm = confusion_matrix(Y_train, predictions)\n",
    "#             print(cm)\n",
    "    #         print(\"Accuracy: %.2f%%\" % (accuracy * 100.0))\n",
    "            train_prec = precision_score(Y_train, predictions)\n",
    "    #         print(\"The precision score is \", precision_lasso)\n",
    "            train_recall = recall_score(Y_train, predictions)\n",
    "    #         print(\"The recall score is \", recall_lasso)\n",
    "    #         print(\"--------------------------------------------------\")\n",
    "    #         print('Test')\n",
    "            y_pred = model.predict(X_test_transformed)\n",
    "            predictions = [round(value) for value in y_pred]\n",
    "            accuracy_xgboost = accuracy_score(Y_test, predictions)\n",
    "    #         cm = confusion_matrix(Y_test, predictions)\n",
    "    #         print(cm)\n",
    "    #         print(\"Accuracy: %.2f%%\" % (accuracy * 100.0))\n",
    "            precision_xgboost = precision_score(Y_test, predictions)\n",
    "    #         print(\"The precision score is \", precision_lasso)\n",
    "            recall_xgboost = recall_score(Y_test, predictions)\n",
    "    #         print(\"The recall score is \", recall_lasso)\n",
    "    #         print(\"--------------------------------------------------\")\n",
    "    #         print('---------------------------------------------------------------')\n",
    "\n",
    "result_df = pd.DataFrame()\n",
    "print(\"Train Accuracy = \" + str(train_acc))\n",
    "print(\"Test Accuracy = \" + str(accuracy_xgboost))\n",
    "print(\"Train Recall = \" + str(train_recall))\n",
    "print(\"Test Recall = \" + str( precision_xgboost))\n",
    "print(\"Train Precision = \" + str(train_prec))\n",
    "print(\"Test Precision = \" + str(precision_xgboost))"
   ]
  },
  {
   "cell_type": "code",
   "execution_count": 53,
   "metadata": {
    "colab": {
     "base_uri": "https://localhost:8080/",
     "height": 519
    },
    "colab_type": "code",
    "id": "ufuIMfjfvm1o",
    "outputId": "65c4e14d-e9fe-4451-d762-1fde5a335c3d"
   },
   "outputs": [
    {
     "name": "stdout",
     "output_type": "stream",
     "text": [
      "0.712143670994\n",
      "Recall: 0.714285714286\n",
      "Precision: 0.272727272727\n",
      "Accuracy: 0.727810650888\n",
      "[[108  40]\n",
      " [  6  15]]\n",
      "['sex', 'goout', 'studytime', 'age', 'traveltime', 'absences', 'failures', 'health', 'famrel', 'Fjob', 'higher', 'school', 'Medu', 'reason', 'paid', 'guardian', 'schoolsup', 'famsize', 'activities', 'freetime', 'in_Math', 'Fedu', 'address', 'in_Portuguese', 'famsup', 'internet', 'Mjob', 'Pstatus', 'nursery', 'romantic']\n",
      "Recall: 0.47619047619\n",
      "Precision: 0.5\n",
      "Accuracy: 0.87573964497\n",
      "[[138  10]\n",
      " [ 11  10]]\n"
     ]
    },
    {
     "data": {
      "image/png": "[encoded data removed]",
      "text/plain": [
       "<Figure size 432x288 with 1 Axes>"
      ]
     },
     "metadata": {
      "needs_background": "light"
     },
     "output_type": "display_data"
    }
   ],
   "source": [
    "from sklearn.svm import SVC\n",
    "from sklearn.svm import SVR\n",
    "from sklearn.feature_selection import RFE\n",
    "\n",
    "svmModel = SVC(kernel = \"linear\")\n",
    "\n",
    "\n",
    "def svmFunction(X_train,X_test,Y_train,Y_test,kernel_type):\n",
    "    best_val = 0\n",
    "    best_c = 0\n",
    "    for c in [0.01,0.1,1,10,50,100]:\n",
    "        \n",
    "        model = SVC(kernel = kernel_type,C = c)\n",
    "        #scoring = ['precision_macro', 'recall_macro']\n",
    "        scores = cross_validate(model, X_train,Y_train, scoring = 'f1_macro', cv = 5, return_train_score = False)\n",
    "        f_val = np.mean(scores['test_score'])\n",
    "        print(f_val)\n",
    "        if f_val > best_val:\n",
    "            best_val = f_val\n",
    "            best_c = c\n",
    "\n",
    "        svm = SVC(kernel = kernel_type, C = best_c, probability = True).fit(X_train,Y_train)\n",
    "        \n",
    "        y_predict = svm.predict(X_test)\n",
    "        recall_svm = recall_score(Y_test,y_predict)\n",
    "        precision_svm = precision_score(Y_test,y_predict)\n",
    "        accuracy_svm = accuracy_score(Y_test,y_predict)\n",
    "        print(\"Recall:\",recall_svm)\n",
    "        print(\"Precision:\",precision_svm)\n",
    "        print(\"Accuracy:\", accuracy_svm)\n",
    "        print(confusion_matrix(Y_test, y_predict))\n",
    "        \n",
    "        selector = RFE(svm, 1, step=1)\n",
    "        selector = selector.fit(X_train, Y_train)\n",
    "        list1 = selector.ranking_\n",
    "        list2 = list(X_features)\n",
    "\n",
    "        sorted = ['0'] * len(list2)\n",
    "        for i in range(len(list2)):\n",
    "            sorted[list1[i] - 1] = list2[i]\n",
    "\n",
    "        print(sorted)\n",
    "\n",
    "\n",
    "        \n",
    "        Y_prob = svm.predict_proba(X_test)\n",
    "        precision, recall, thresholds = precision_recall_curve(Y_test, (Y_prob[:,1]))\n",
    "        step_kwargs = ({'step': 'post'}\n",
    "                       if 'step' in signature(plt.fill_between).parameters\n",
    "                       else {})\n",
    "        plt.step(recall, precision, color='b', alpha=0.2,\n",
    "                 where='post')\n",
    "        plt.fill_between(recall, precision, alpha=0.2, color='b', **step_kwargs)\n",
    "\n",
    "        plt.xlabel('Recall')\n",
    "        plt.ylabel('Precision')\n",
    "        plt.ylim([0.0, 1.05])\n",
    "        plt.xlim([0.0, 1.0])\n",
    "        plt.title('2-class Precision-Recall curve: AP={0:0.2f}')\n",
    "#         print(thresholds)\n",
    "#         print(recall)\n",
    "\n",
    "        #y_predict =  svm.predict(X_test)\n",
    "        threshold = 0.74\n",
    "        probs_positive_class = svm.predict_proba(X_test)[:,1]\n",
    "        y_predict = (probs_positive_class >= threshold).astype('int')\n",
    "        recall_tsvm = recall_score(Y_test,y_predict)\n",
    "        precision_tsvm = precision_score(Y_test,y_predict)\n",
    "        accuracy_tsvm = accuracy_score(Y_test,y_predict)\n",
    "        print(\"Recall:\",recall_tsvm)\n",
    "        print(\"Precision:\",precision_tsvm)\n",
    "        print(\"Accuracy:\", accuracy_tsvm)\n",
    "        print(confusion_matrix(Y_test, y_predict))\n",
    "        return [svm,accuracy_tsvm,precision_tsvm,recall_tsvm,accuracy_svm,precision_svm,recall_svm]\n",
    "\n",
    "vals2 = []\n",
    "vals2 = svmFunction(X_train_transformed,X_test_transformed,Y_train,Y_test,'linear')"
   ]
  },
  {
   "cell_type": "code",
   "execution_count": 54,
   "metadata": {
    "colab": {
     "base_uri": "https://localhost:8080/",
     "height": 88
    },
    "colab_type": "code",
    "id": "qrf6sJcavu98",
    "outputId": "bf052f46-4ec1-42e1-a404-7655d5f61264"
   },
   "outputs": [
    {
     "name": "stdout",
     "output_type": "stream",
     "text": [
      "[17  9 21 29 18  2 20 16  3  8  5 24 27 22  1 19 10 28 30 12 25 23 15 13 14\n",
      " 11 26  4  6  7]\n",
      "['goout', 'absences', 'age', 'sex', 'famrel', 'studytime', 'traveltime', 'failures', 'Fjob', 'health', 'school', 'in_Portuguese', 'reason', 'romantic', 'paid', 'address', 'Fedu', 'Pstatus', 'guardian', 'activities', 'Medu', 'freetime', 'nursery', 'famsize', 'internet', 'schoolsup', 'famsup', 'higher', 'Mjob', 'in_Math']\n"
     ]
    }
   ],
   "source": [
    "svm = SVC(kernel='linear')\n",
    "selector = RFE(svmModel, 1, step=1)\n",
    "selector1 = selector.fit(X_train_transformed, Y_train)\n",
    "print(selector1.ranking_)\n",
    "list1 = selector.ranking_\n",
    "list2 = list(X_features)\n",
    "sorted = ['0'] * len(list2)\n",
    "for i in range(len(list2)):\n",
    "    sorted[list1[i] - 1] = list2[i]\n",
    "\n",
    "print(sorted)\n",
    "\n"
   ]
  },
  {
   "cell_type": "code",
   "execution_count": 56,
   "metadata": {
    "colab": {
     "base_uri": "https://localhost:8080/",
     "height": 734
    },
    "colab_type": "code",
    "id": "fw-va9P0NyCK",
    "outputId": "3a85e424-1ec2-4121-81f1-bbc85d76663f"
   },
   "outputs": [
    {
     "ename": "NameError",
     "evalue": "name 'accuracy_xgboost' is not defined",
     "output_type": "error",
     "traceback": [
      "\u001b[1;31m---------------------------------------------------------------------------\u001b[0m",
      "\u001b[1;31mNameError\u001b[0m                                 Traceback (most recent call last)",
      "\u001b[1;32m<ipython-input-56-b19ad626d13f>\u001b[0m in \u001b[0;36m<module>\u001b[1;34m()\u001b[0m\n\u001b[0;32m     21\u001b[0m \u001b[0mtsvm_vals\u001b[0m \u001b[1;33m=\u001b[0m \u001b[1;33m[\u001b[0m\u001b[0mvals2\u001b[0m\u001b[1;33m[\u001b[0m\u001b[1;36m1\u001b[0m\u001b[1;33m]\u001b[0m\u001b[1;33m,\u001b[0m\u001b[0mvals2\u001b[0m\u001b[1;33m[\u001b[0m\u001b[1;36m2\u001b[0m\u001b[1;33m]\u001b[0m\u001b[1;33m,\u001b[0m\u001b[0mvals2\u001b[0m\u001b[1;33m[\u001b[0m\u001b[1;36m3\u001b[0m\u001b[1;33m]\u001b[0m\u001b[1;33m]\u001b[0m\u001b[1;33m\u001b[0m\u001b[0m\n\u001b[0;32m     22\u001b[0m \u001b[0m__svm_vals\u001b[0m \u001b[1;33m=\u001b[0m \u001b[1;33m[\u001b[0m\u001b[0mvals2\u001b[0m\u001b[1;33m[\u001b[0m\u001b[1;36m4\u001b[0m\u001b[1;33m]\u001b[0m\u001b[1;33m,\u001b[0m\u001b[0mvals2\u001b[0m\u001b[1;33m[\u001b[0m\u001b[1;36m5\u001b[0m\u001b[1;33m]\u001b[0m\u001b[1;33m,\u001b[0m\u001b[0mvals2\u001b[0m\u001b[1;33m[\u001b[0m\u001b[1;36m6\u001b[0m\u001b[1;33m]\u001b[0m\u001b[1;33m]\u001b[0m\u001b[1;33m\u001b[0m\u001b[0m\n\u001b[1;32m---> 23\u001b[1;33m \u001b[0mxgboost_vals\u001b[0m \u001b[1;33m=\u001b[0m \u001b[1;33m[\u001b[0m\u001b[0maccuracy_xgboost\u001b[0m\u001b[1;33m,\u001b[0m\u001b[0mprecision_xgboost\u001b[0m\u001b[1;33m,\u001b[0m\u001b[0mrecall_xgboost\u001b[0m\u001b[1;33m]\u001b[0m\u001b[1;33m\u001b[0m\u001b[0m\n\u001b[0m\u001b[0;32m     24\u001b[0m \u001b[1;33m\u001b[0m\u001b[0m\n\u001b[0;32m     25\u001b[0m \u001b[1;31m# print(\"Random Forest Vals \",rf_vals)\u001b[0m\u001b[1;33m\u001b[0m\u001b[1;33m\u001b[0m\u001b[0m\n",
      "\u001b[1;31mNameError\u001b[0m: name 'accuracy_xgboost' is not defined"
     ]
    }
   ],
   "source": [
    "rf_vals =[accuracy_randomforest,precision_randomforest,recall_randomforest]\n",
    "trf_vals =[accuracy_trtree,precision_trtree,recall_trtree]\n",
    "rfb_vals =[accuracy_rfbtree,precision_rfbtree,recall_rfbtree]\n",
    "trfb_vals =[accuracy_trfbtree,precision_trfbtree,recall_trfbtree]\n",
    "tree_vals =[accuracy_tree,precision_tree,recall_tree]\n",
    "ttree_vals =[accuracy_ttree,precision_ttree,recall_ttree]\n",
    "adatree_vals =[accuracy_adatree,precision_adatree,recall_adatree]\n",
    "adattree_vals =[accuracy_adattree,precision_adattree,recall_adattree]\n",
    "btree_vals =[accuracy_tree_bag,precision_tree_bag,recall_tree_bag]\n",
    "tbtree_vals =[accuracy_ttree_bag,precision_ttree_bag,recall_ttree_bag]\n",
    "knn_vals = [accuracy_knn,precision_knn,recall_knn]\n",
    "tknn_vals = [accuracy_tknn,precision_tknn,recall_tknn]\n",
    "rid_vals = [accuracy_ridge,precision_ridge,recall_ridge]\n",
    "trid_vals = [accuracy_tridge,precision_tridge,recall_tridge]\n",
    "las_vals = [accuracy_lasso,precision_lasso,recall_lasso]\n",
    "tlas_vals = [accuracy_tlasso,precision_tlasso,recall_tlasso]\n",
    "lda_vals = [accuracy_LDA,precision_LDA,recall_LDA]\n",
    "tlda_vals = [accuracy_tLDA,precision_tLDA,recall_tLDA]\n",
    "mlp_vals = [accuracy_mlp,precision_mlp,recall_mlp]\n",
    "tmlp_vals = [accuracy_tmlp,precision_tmlp,recall_tmlp]\n",
    "tsvm_vals = [vals2[1],vals2[2],vals2[3]]\n",
    "svm_vals = [vals2[4],vals2[5],vals2[6]]\n",
    "xgboost_vals = [accuracy_xgboost,precision_xgboost,recall_xgboost]\n",
    "\n",
    "# print(\"Random Forest Vals \",rf_vals)\n",
    "# print(\"Bagging Random Forest Vals \",rfb_vals)\n",
    "# print(\"Decision Tree\", tree_vals)\n",
    "# print(\"Bagging Decision Tree\", btree_vals)\n",
    "# print(\"Knn values \",knn_vals)\n",
    "# print(\"Ridge values \",rid_vals)\n",
    "# print(\"Lasso values \",las_vals)\n",
    "# print(\"LDA Vals \",lda_vals)\n",
    "# print(\"Neural Network vals\" , mlp_vals)\n",
    "# print(\"Gradient Boosting vals\", xgboost_vals)\n",
    "\n",
    "#accuracy = [accuracy_rfbtree,accuracy_tree, accuracy_knn, accuracy_QDA, accuracy_mlp, test_acc]\n",
    "#precision = [precision_rfbtree,precision_tree, precision_knn,precision_QDA, precision_mlp, test_prec]\n",
    "#recall = [recall_rfbtree, recall_tree, recall_knn, recall_QDA, recall_mlp, test_recall]\n",
    "\n",
    "totals = np.array([rf_vals,trf_vals,rfb_vals,trfb_vals,tree_vals,ttree_vals,adatree_vals, adattree_vals,btree_vals,tbtree_vals, knn_vals,tknn_vals, rid_vals,trid_vals, las_vals,tlas_vals, lda_vals,tlda_vals, mlp_vals, tmlp_vals,svm_vals,tsvm_vals,xgboost_vals])\n",
    "model_types = ['Random Forest','Random Forest w. threshold','Random Forest Bagging','Random Forest Bagging w. threshold','Decision Tree','Decision Tree w. threshold','Adaboost','Adaboost w. threshold','Decision Tree Bagging','Decision Tree Bagging w. threshold',\"K-Nearest Neighbor\",'K-Nearest Neighbor w. threshold','Logistic Reg Ridge','Logistic Reg Ridge w. threshold','Logistic Reg Lasso','Logistic Reg Lasso w. threshold', \"LDA\",'LDA w. threshold', \"MLP\",'MLP w. threshold','Support Vector Machine','Support Vector Machine w. threshold', \"XgBoost\" ]\n",
    "metrics = [\"Accuracy\",\"Precision\", \"Recall\"]\n",
    "\n",
    "result_measurements = pd.DataFrame(totals.reshape(len(model_types),3),index = model_types, columns = metrics)\n",
    "result_measurements"
   ]
  },
  {
   "cell_type": "code",
   "execution_count": 58,
   "metadata": {
    "colab": {},
    "colab_type": "code",
    "id": "Ks1kaoVa5sar"
   },
   "outputs": [],
   "source": [
    "#FOR P-value selected features\n",
    "X_selected_features = merged[['sex','absences','goout','age']]\n",
    "\n",
    "#FOR RFE selected features\n",
    "#X_selected_features = merged[['goout', 'absences', 'age', 'sex', 'traveltime', 'studytime', 'health', 'famrel', 'in_Portuguese', 'school', 'guardian']]\n",
    " \n",
    "Y_targetClass=merged['SumAlc']\n",
    "X_selected_train, X_selected_test, Y_selected_train, Y_selected_test = train_test_split(X_selected_features,Y_targetClass,random_state=0)\n",
    "\n",
    "\n",
    "#RESAMPLING\n",
    "\n",
    "from sklearn.utils import resample\n",
    "\n",
    "X = pd.concat([X_selected_train, Y_selected_train], axis=1)\n",
    "non_drinker = X[X.SumAlc==0]\n",
    "drinker = X[X.SumAlc==1]\n",
    "\n",
    "# upsample minority\n",
    "drinker_upsampled = resample(drinker,replace=True, # sample with replacement\n",
    "                          n_samples=len(non_drinker), \n",
    "                          random_state=0) \n",
    "\n",
    "upsampled = pd.concat([non_drinker, drinker_upsampled])\n",
    "\n",
    "upsampled.SumAlc.value_counts()\n",
    "\n",
    "Y_selected_train = upsampled['SumAlc']\n",
    "X_selected_train = upsampled.drop('SumAlc', axis=1)\n",
    "\n",
    "from imblearn.over_sampling import SMOTE\n",
    "\n",
    "# sm = SMOTE(random_state=0, ratio=1.0)\n",
    "# X_selected_train, Y_selected_train = sm.fit_sample(X_selected_train, Y_selected_train)\n",
    "\n",
    "# X_selected_train, Y_selected_train = ADASYN().fit_resample(X_selected_train, Y_selected_train)\n",
    "\n",
    "#SCALING\n",
    "\n",
    "scaler=preprocessing.MinMaxScaler().fit(X_selected_train)\n",
    "X_selected_train_transformed=scaler.transform(X_selected_train) \n",
    "X_selected_test_transformed=scaler.transform(X_selected_test)\n",
    "\n",
    "\n"
   ]
  },
  {
   "cell_type": "code",
   "execution_count": 59,
   "metadata": {
    "colab": {
     "base_uri": "https://localhost:8080/",
     "height": 465
    },
    "colab_type": "code",
    "id": "EW-f9XGfQ3TO",
    "outputId": "ea2fe840-dd2d-4b82-87c7-c710d47661e2"
   },
   "outputs": [
    {
     "name": "stdout",
     "output_type": "stream",
     "text": [
      "The accuracy score is  0.757396449704\n",
      "The precision score is  0.25\n",
      "The recall score is  0.47619047619\n",
      "[[118  30]\n",
      " [ 11  10]]\n",
      "The accuracy score is  0.810650887574\n",
      "The precision score is  0.310344827586\n",
      "The recall score is  0.428571428571\n",
      "[[128  20]\n",
      " [ 12   9]]\n"
     ]
    },
    {
     "data": {
      "image/png": "[encoded data removed]",
      "text/plain": [
       "<Figure size 432x288 with 1 Axes>"
      ]
     },
     "metadata": {
      "needs_background": "light"
     },
     "output_type": "display_data"
    }
   ],
   "source": [
    "from sklearn import neighbors\n",
    "from sklearn.neighbors import KNeighborsClassifier\n",
    "\n",
    "\n",
    "best_score = 0;\n",
    "K = [1,5,10, 20, 30 , 40 , 50 , 60 , 70 , 80 , 90, 100]\n",
    "for k in K:\n",
    "    knn=KNeighborsClassifier(n_neighbors=k)\n",
    "    scores = cross_val_score(knn, X_selected_train_transformed,Y_selected_train, cv=10, scoring=make_scorer(recall_score))\n",
    "    score=np.mean(scores)\n",
    "    if score > best_score:\n",
    "        best_score = score\n",
    "        best_k = k\n",
    "        \n",
    "Bestknn=KNeighborsClassifier(n_neighbors=best_k)\n",
    "Bestknn.fit(X_selected_train_transformed, Y_selected_train)\n",
    "predict_knn = Bestknn.predict(X_selected_test_transformed)\n",
    "accuracy_knn= accuracy_score(Y_selected_test,predict_knn)\n",
    "precision_knn = precision_score(Y_selected_test,predict_knn, pos_label=1)\n",
    "recall_knn = recall_score(Y_selected_test,predict_knn)\n",
    "print(\"The accuracy score is \", accuracy_knn)\n",
    "print(\"The precision score is \", precision_knn)\n",
    "print(\"The recall score is \", recall_knn)\n",
    "\n",
    "print(confusion_matrix(Y_selected_test, predict_knn))\n",
    "\n",
    "Y_prob = Bestknn.predict_proba(X_selected_test_transformed)\n",
    "precision, recall, thresholds = precision_recall_curve(Y_test, (Y_prob[:,1]))\n",
    "step_kwargs = ({'step': 'post'}\n",
    "               if 'step' in signature(plt.fill_between).parameters\n",
    "               else {})\n",
    "plt.step(recall, precision, color='b', alpha=0.2,\n",
    "         where='post')\n",
    "plt.fill_between(recall, precision, alpha=0.2, color='b', **step_kwargs)\n",
    "\n",
    "plt.xlabel('Recall')\n",
    "plt.ylabel('Precision')\n",
    "plt.ylim([0.0, 1.05])\n",
    "plt.xlim([0.0, 1.0])\n",
    "plt.title('2-class Precision-Recall curve: AP={0:0.2f}')\n",
    "# print(thresholds)\n",
    "# print(recall)\n",
    "\n",
    "threshold = 0.65\n",
    "probs_positive_class = Bestknn.predict_proba(X_selected_test_transformed)[:, 1]\n",
    "predict_tknn = (probs_positive_class >= threshold).astype('int')\n",
    "accuracy_tknn = accuracy_score(Y_selected_test,predict_tknn)\n",
    "precision_tknn = precision_score(Y_selected_test,predict_tknn, pos_label=1)\n",
    "recall_tknn = recall_score(Y_selected_test,predict_tknn)\n",
    "print(\"The accuracy score is \", accuracy_tknn)\n",
    "print(\"The precision score is \", precision_tknn)\n",
    "print(\"The recall score is \", recall_tknn)\n",
    "print(confusion_matrix(Y_selected_test, predict_tknn))"
   ]
  },
  {
   "cell_type": "code",
   "execution_count": 60,
   "metadata": {
    "colab": {
     "base_uri": "https://localhost:8080/",
     "height": 550
    },
    "colab_type": "code",
    "id": "qyUKPFIl-7d9",
    "outputId": "f8486e23-ab11-4138-f397-fb7b1cf63b5f"
   },
   "outputs": [
    {
     "name": "stdout",
     "output_type": "stream",
     "text": [
      "\n",
      "Tree SELECTED FEATURES\n",
      "5\n",
      "The accuracy score is  0.810650887574\n",
      "The precision score is  0.310344827586\n",
      "The recall score is  0.428571428571\n",
      "[[128  20]\n",
      " [ 12   9]]\n",
      "\n",
      "Tree with threshold\n",
      "The accuracy score is  0.828402366864\n",
      "The precision score is  0.346153846154\n",
      "The recall score is  0.428571428571\n",
      "[[131  17]\n",
      " [ 12   9]]\n"
     ]
    },
    {
     "data": {
      "image/png": "[encoded data removed]",
      "text/plain": [
       "<Figure size 432x288 with 1 Axes>"
      ]
     },
     "metadata": {
      "needs_background": "light"
     },
     "output_type": "display_data"
    }
   ],
   "source": [
    "from sklearn.tree import DecisionTreeClassifier\n",
    "from sklearn.ensemble import RandomForestClassifier\n",
    "from sklearn.ensemble import AdaBoostClassifier\n",
    "from sklearn.metrics import make_scorer, accuracy_score, precision_score, recall_score, f1_score\n",
    "from sklearn.model_selection import GridSearchCV\n",
    "\n",
    "print(\"\\nTree SELECTED FEATURES\")\n",
    "best_score = 0\n",
    "X = [1,2,3,4,5]\n",
    "for x in X:\n",
    "    treeModel=DecisionTreeClassifier(max_depth=x, criterion='gini')\n",
    "    scores = cross_val_score(treeModel, X_selected_train_transformed,Y_selected_train, cv=10, scoring=make_scorer(recall_score))\n",
    "    score=np.mean(scores)\n",
    "    if score > best_score:\n",
    "      best_score = score\n",
    "      best_depth = x\n",
    "print(best_depth)\n",
    "treeModel=DecisionTreeClassifier(max_depth=best_depth, criterion='gini')\n",
    "treeModel.fit(X_selected_train_transformed,Y_selected_train)\n",
    "accuracy = treeModel.score(X_selected_test_transformed, Y_selected_test)\n",
    "predict_tree = treeModel.predict(X_selected_test_transformed)\n",
    "accuracy_tree = accuracy_score(Y_selected_test,predict_tree)\n",
    "precision_tree = precision_score(Y_selected_test,predict_tree, pos_label=1)\n",
    "recall_tree = recall_score(Y_selected_test,predict_tree)\n",
    "\n",
    "print(\"The accuracy score is \", accuracy_tree)\n",
    "print(\"The precision score is \", precision_tree)\n",
    "print(\"The recall score is \", recall_tree)\n",
    "print(confusion_matrix(Y_selected_test, predict_tree))\n",
    "\n",
    "# feat_importances = pd.Series(treeModel.feature_importances_, index=X_selected_features.columns)\n",
    "# feat_importances.nlargest(5).plot(kind='barh')\n",
    "# print(treeModel.feature_importances_)\n",
    "\n",
    "\n",
    "Y_prob = treeModel.predict_proba(X_selected_test_transformed)\n",
    "precision, recall, thresholds = precision_recall_curve(Y_test, (Y_prob[:,1]))\n",
    "step_kwargs = ({'step': 'post'}\n",
    "               if 'step' in signature(plt.fill_between).parameters\n",
    "               else {})\n",
    "plt.step(recall, precision, color='b', alpha=0.2,\n",
    "         where='post')\n",
    "plt.fill_between(recall, precision, alpha=0.2, color='b', **step_kwargs)\n",
    "\n",
    "plt.xlabel('Recall')\n",
    "plt.ylabel('Precision')\n",
    "plt.ylim([0.0, 1.05])\n",
    "plt.xlim([0.0, 1.0])\n",
    "plt.title('2-class Precision-Recall curve: AP={0:0.2f}')\n",
    "# print(thresholds)\n",
    "# print(recall)\n",
    "\n",
    "print(\"\\nTree with threshold\")\n",
    "threshold = 0.72\n",
    "probs_positive_class = treeModel.predict_proba(X_selected_test_transformed)[:, 1]\n",
    "prediction = (probs_positive_class >= threshold).astype('int')\n",
    "accuracy_ttree = accuracy_score(Y_selected_test,prediction)\n",
    "precision_ttree = precision_score(Y_selected_test,prediction, pos_label=1)\n",
    "recall_ttree = recall_score(Y_selected_test,prediction)\n",
    "print(\"The accuracy score is \", accuracy_ttree)\n",
    "print(\"The precision score is \", precision_ttree)\n",
    "print(\"The recall score is \", recall_ttree)\n",
    "print(confusion_matrix(Y_selected_test, prediction))"
   ]
  },
  {
   "cell_type": "code",
   "execution_count": 61,
   "metadata": {
    "colab": {
     "base_uri": "https://localhost:8080/",
     "height": 533
    },
    "colab_type": "code",
    "id": "H8V9FAkX-mzC",
    "outputId": "bf682eb3-85f4-4346-d615-657509f02b0b"
   },
   "outputs": [
    {
     "name": "stdout",
     "output_type": "stream",
     "text": [
      "\n",
      "AdaBoostTree\n",
      "The accuracy score is  0.792899408284\n",
      "The precision score is  0.266666666667\n",
      "The recall score is  0.380952380952\n",
      "[[126  22]\n",
      " [ 13   8]]\n",
      "\n",
      "AdaBoostTree with threshold\n",
      "The accuracy score is  0.822485207101\n",
      "The precision score is  0.304347826087\n",
      "The recall score is  0.333333333333\n",
      "[[132  16]\n",
      " [ 14   7]]\n"
     ]
    },
    {
     "data": {
      "image/png": "[encoded data removed]",
      "text/plain": [
       "<Figure size 432x288 with 1 Axes>"
      ]
     },
     "metadata": {
      "needs_background": "light"
     },
     "output_type": "display_data"
    }
   ],
   "source": [
    "print(\"\\nAdaBoostTree\")\n",
    "BoostModel= AdaBoostClassifier(n_estimators=10)\n",
    "BoostModel.fit(X_selected_train_transformed,Y_selected_train)\n",
    "predict_adatree = BoostModel.predict(X_selected_test_transformed)\n",
    "accuracy_adatree = accuracy_score(Y_selected_test,predict_adatree)\n",
    "precision_adatree = precision_score(Y_selected_test,predict_adatree, pos_label=1)\n",
    "recall_adatree = recall_score(Y_selected_test,predict_adatree)\n",
    "\n",
    "print(\"The accuracy score is \", accuracy_adatree)\n",
    "print(\"The precision score is \", precision_adatree)\n",
    "print(\"The recall score is \", recall_adatree)\n",
    "print(confusion_matrix(Y_selected_test, predict_adatree))\n",
    "\n",
    "\n",
    "Y_prob = BoostModel.predict_proba(X_selected_test_transformed)\n",
    "precision, recall, thresholds = precision_recall_curve(Y_test, (Y_prob[:,1]))\n",
    "step_kwargs = ({'step': 'post'}\n",
    "               if 'step' in signature(plt.fill_between).parameters\n",
    "               else {})\n",
    "plt.step(recall, precision, color='b', alpha=0.2,\n",
    "         where='post')\n",
    "plt.fill_between(recall, precision, alpha=0.2, color='b', **step_kwargs)\n",
    "\n",
    "plt.xlabel('Recall')\n",
    "plt.ylabel('Precision')\n",
    "plt.ylim([0.0, 1.05])\n",
    "plt.xlim([0.0, 1.0])\n",
    "plt.title('2-class Precision-Recall curve: AP={0:0.2f}')\n",
    "# print(thresholds)\n",
    "# print(recall)\n",
    "\n",
    "print(\"\\nAdaBoostTree with threshold\")\n",
    "threshold = 0.51\n",
    "probs_positive_class = BoostModel.predict_proba(X_selected_test_transformed)[:, 1]\n",
    "predict_adattree = (probs_positive_class >= threshold).astype('int')\n",
    "accuracy_adattree = accuracy_score(Y_selected_test,predict_adattree)\n",
    "precision_adattree = precision_score(Y_selected_test,predict_adattree, pos_label=1)\n",
    "recall_adattree = recall_score(Y_selected_test,predict_adattree)\n",
    "print(\"The accuracy score is \", accuracy_adattree)\n",
    "print(\"The precision score is \", precision_adattree)\n",
    "print(\"The recall score is \", recall_adattree)\n",
    "print(confusion_matrix(Y_selected_test, predict_adattree))\n"
   ]
  },
  {
   "cell_type": "code",
   "execution_count": 62,
   "metadata": {
    "colab": {
     "base_uri": "https://localhost:8080/",
     "height": 533
    },
    "colab_type": "code",
    "id": "h0gDhAxl-m9C",
    "outputId": "b37e63e5-1bf5-4465-c564-2cf635e2dba6"
   },
   "outputs": [
    {
     "name": "stdout",
     "output_type": "stream",
     "text": [
      "\n",
      "Tree with bagging\n",
      "The accuracy score is  0.810650887574\n",
      "The precision score is  0.310344827586\n",
      "The recall score is  0.428571428571\n",
      "[[128  20]\n",
      " [ 12   9]]\n",
      "\n",
      "Tree with bagging with threshold\n",
      "The accuracy score is  0.816568047337\n",
      "The precision score is  0.321428571429\n",
      "The recall score is  0.428571428571\n",
      "[[129  19]\n",
      " [ 12   9]]\n"
     ]
    },
    {
     "data": {
      "image/png": "[encoded data removed]",
      "text/plain": [
       "<Figure size 432x288 with 1 Axes>"
      ]
     },
     "metadata": {
      "needs_background": "light"
     },
     "output_type": "display_data"
    }
   ],
   "source": [
    "# TREE with Bagging\n",
    "print(\"\\nTree with bagging\")\n",
    "Bagmodel = BaggingClassifier(base_estimator=treeModel, n_estimators=200, random_state=0)\n",
    "Bagmodel.fit(X_selected_train_transformed,Y_selected_train)\n",
    "predict_tree_bag =Bagmodel.predict(X_selected_test_transformed)\n",
    "accuracy_tree_bag = accuracy_score(Y_selected_test,predict_tree_bag)\n",
    "precision_tree_bag = precision_score(Y_selected_test,predict_tree_bag, pos_label=1)\n",
    "recall_tree_bag = recall_score(Y_selected_test,predict_tree_bag)\n",
    "\n",
    "print(\"The accuracy score is \", accuracy_tree_bag)\n",
    "print(\"The precision score is \", precision_tree_bag)\n",
    "print(\"The recall score is \", recall_tree_bag)\n",
    "print(confusion_matrix(Y_selected_test, predict_tree_bag))\n",
    "\n",
    "\n",
    "Y_prob = Bagmodel.predict_proba(X_selected_test_transformed)\n",
    "precision, recall, thresholds = precision_recall_curve(Y_test, (Y_prob[:,1]))\n",
    "step_kwargs = ({'step': 'post'}\n",
    "               if 'step' in signature(plt.fill_between).parameters\n",
    "               else {})\n",
    "plt.step(recall, precision, color='b', alpha=0.2,\n",
    "         where='post')\n",
    "plt.fill_between(recall, precision, alpha=0.2, color='b', **step_kwargs)\n",
    "\n",
    "plt.xlabel('Recall')\n",
    "plt.ylabel('Precision')\n",
    "plt.ylim([0.0, 1.05])\n",
    "plt.xlim([0.0, 1.0])\n",
    "plt.title('2-class Precision-Recall curve: AP={0:0.2f}')\n",
    "# print(thresholds)\n",
    "# print(recall)\n",
    "\n",
    "print(\"\\nTree with bagging with threshold\")\n",
    "threshold = 0.53\n",
    "probs_positive_class = Bagmodel.predict_proba(X_selected_test_transformed)[:, 1]\n",
    "predict_ttree_bag = (probs_positive_class >= threshold).astype('int')\n",
    "accuracy_ttree_bag = accuracy_score(Y_selected_test,predict_ttree_bag)\n",
    "precision_ttree_bag = precision_score(Y_selected_test,predict_ttree_bag, pos_label=1)\n",
    "recall_ttree_bag = recall_score(Y_selected_test,predict_ttree_bag)\n",
    "print(\"The accuracy score is \", accuracy_ttree_bag)\n",
    "print(\"The precision score is \", precision_ttree_bag)\n",
    "print(\"The recall score is \", recall_ttree_bag)\n",
    "print(confusion_matrix(Y_selected_test, predict_ttree_bag))\n"
   ]
  },
  {
   "cell_type": "code",
   "execution_count": 63,
   "metadata": {
    "colab": {
     "base_uri": "https://localhost:8080/",
     "height": 550
    },
    "colab_type": "code",
    "id": "voefQ7GaNPAE",
    "outputId": "712d62cc-c3b0-4656-92ff-4516a090856b"
   },
   "outputs": [
    {
     "name": "stdout",
     "output_type": "stream",
     "text": [
      "\n",
      " Random Forest\n",
      "5\n",
      "The accuracy score is  0.792899408284\n",
      "The precision score is  0.28125\n",
      "The recall score is  0.428571428571\n",
      "[[125  23]\n",
      " [ 12   9]]\n",
      "\n",
      " Random Forest w threshold\n",
      "The accuracy score is  0.834319526627\n",
      "The precision score is  0.36\n",
      "The recall score is  0.428571428571\n",
      "[[132  16]\n",
      " [ 12   9]]\n"
     ]
    },
    {
     "data": {
      "image/png": "[encoded data removed]",
      "text/plain": [
       "<Figure size 432x288 with 1 Axes>"
      ]
     },
     "metadata": {
      "needs_background": "light"
     },
     "output_type": "display_data"
    }
   ],
   "source": [
    "# RANDOM FOREST FEATURE SELECTION\n",
    "print(\"\\n Random Forest\")\n",
    "best_score = 0\n",
    "X = [1,2,3,4,5]\n",
    "for x in X:\n",
    "    forestModel= RandomForestClassifier (n_estimators=200,max_depth=x, random_state=0)\n",
    "    scores = cross_val_score(forestModel, X_selected_train_transformed,Y_selected_train, cv=10, scoring=make_scorer(recall_score))\n",
    "    score=np.mean(scores)\n",
    "    if score > best_score:\n",
    "      best_score = score\n",
    "      best_depth = x\n",
    "print(best_depth)\n",
    "\n",
    "forestModel= RandomForestClassifier (n_estimators=200,max_depth=best_depth, random_state=0)\n",
    "forestModel.fit(X_selected_train_transformed,Y_selected_train)\n",
    "predict_rtree = forestModel.predict(X_selected_test_transformed)\n",
    "accuracy_randomforest= accuracy_score(Y_selected_test,predict_rtree)\n",
    "precision_randomforest = precision_score(Y_selected_test,predict_rtree, pos_label=1)\n",
    "recall_randomforest = recall_score(Y_selected_test,predict_rtree)\n",
    "\n",
    "print(\"The accuracy score is \", accuracy_randomforest)\n",
    "print(\"The precision score is \", precision_randomforest)\n",
    "print(\"The recall score is \", recall_randomforest)\n",
    "\n",
    "# feat_importances = pd.Series(forestModel.feature_importances_, index=X_selected_features.columns)\n",
    "# feat_importances.nlargest(10).plot(kind='barh')\n",
    "# print(forestModel.feature_importances_)\n",
    "\n",
    "print(confusion_matrix(Y_selected_test, predict_rtree))\n",
    "\n",
    "\n",
    "\n",
    "Y_prob = forestModel.predict_proba(X_selected_test_transformed)\n",
    "precision, recall, thresholds = precision_recall_curve(Y_test, (Y_prob[:,1]))\n",
    "step_kwargs = ({'step': 'post'}\n",
    "               if 'step' in signature(plt.fill_between).parameters\n",
    "               else {})\n",
    "plt.step(recall, precision, color='b', alpha=0.2,\n",
    "         where='post')\n",
    "plt.fill_between(recall, precision, alpha=0.2, color='b', **step_kwargs)\n",
    "\n",
    "plt.xlabel('Recall')\n",
    "plt.ylabel('Precision')\n",
    "plt.ylim([0.0, 1.05])\n",
    "plt.xlim([0.0, 1.0])\n",
    "plt.title('2-class Precision-Recall curve: AP={0:0.2f}')\n",
    "# print(thresholds)\n",
    "# print(recall)\n",
    "\n",
    "print(\"\\n Random Forest w threshold\")\n",
    "threshold = 0.55\n",
    "probs_positive_class = forestModel.predict_proba(X_selected_test_transformed)[:, 1]\n",
    "predict_trtree = (probs_positive_class >= threshold).astype('int')\n",
    "accuracy_trtree = accuracy_score(Y_selected_test,predict_trtree)\n",
    "precision_trtree = precision_score(Y_selected_test,predict_trtree, pos_label=1)\n",
    "recall_trtree = recall_score(Y_selected_test,predict_trtree)\n",
    "print(\"The accuracy score is \", accuracy_trtree)\n",
    "print(\"The precision score is \", precision_trtree)\n",
    "print(\"The recall score is \", recall_trtree)\n",
    "print(confusion_matrix(Y_selected_test, predict_trtree))\n",
    "\n"
   ]
  },
  {
   "cell_type": "code",
   "execution_count": 64,
   "metadata": {
    "colab": {
     "base_uri": "https://localhost:8080/",
     "height": 533
    },
    "colab_type": "code",
    "id": "vGMaLN6pASGZ",
    "outputId": "0bb40beb-2800-4720-c88a-4a2932ff319d"
   },
   "outputs": [
    {
     "name": "stdout",
     "output_type": "stream",
     "text": [
      "\n",
      " Bagging Random Forest\n",
      "The accuracy score is  0.792899408284\n",
      "The precision score is  0.25\n",
      "The recall score is  0.428571428571\n",
      "[[125  23]\n",
      " [ 12   9]]\n",
      "\n",
      " Bagging Random Forest w threshold\n",
      "The accuracy score is  0.863905325444\n",
      "The precision score is  0.45\n",
      "The recall score is  0.428571428571\n",
      "[[137  11]\n",
      " [ 12   9]]\n"
     ]
    },
    {
     "data": {
      "image/png": "[encoded data removed]",
      "text/plain": [
       "<Figure size 432x288 with 1 Axes>"
      ]
     },
     "metadata": {
      "needs_background": "light"
     },
     "output_type": "display_data"
    }
   ],
   "source": [
    "\n",
    "print(\"\\n Bagging Random Forest\")\n",
    "rfbmodel = BaggingClassifier(base_estimator=forestModel, n_estimators=100, random_state=0)\n",
    "predict_rfbtree = rfbmodel.fit(X_selected_train_transformed,Y_train).predict(X_selected_test_transformed)\n",
    "accuracy_rfbtree= accuracy_score(Y_selected_test,predict_rtree)\n",
    "precision_rfbtree = precision_score(Y_selected_test,predict_rfbtree, pos_label=1)\n",
    "recall_rfbtree = recall_score(Y_selected_test,predict_rfbtree)\n",
    "print(\"The accuracy score is \", accuracy_rfbtree)\n",
    "print(\"The precision score is \", precision_rfbtree)\n",
    "print(\"The recall score is \", recall_rfbtree)\n",
    "print(confusion_matrix(Y_selected_test, predict_rtree))\n",
    "\n",
    "\n",
    "\n",
    "Y_prob = rfbmodel.predict_proba(X_selected_test_transformed)\n",
    "precision, recall, thresholds = precision_recall_curve(Y_test, (Y_prob[:,1]))\n",
    "step_kwargs = ({'step': 'post'}\n",
    "               if 'step' in signature(plt.fill_between).parameters\n",
    "               else {})\n",
    "plt.step(recall, precision, color='b', alpha=0.2,\n",
    "         where='post')\n",
    "plt.fill_between(recall, precision, alpha=0.2, color='b', **step_kwargs)\n",
    "\n",
    "plt.xlabel('Recall')\n",
    "plt.ylabel('Precision')\n",
    "plt.ylim([0.0, 1.05])\n",
    "plt.xlim([0.0, 1.0])\n",
    "plt.title('2-class Precision-Recall curve: AP={0:0.2f}')\n",
    "# print(thresholds)\n",
    "# print(recall)\n",
    "\n",
    "print(\"\\n Bagging Random Forest w threshold\")\n",
    "threshold = 0.58\n",
    "probs_positive_class = rfbmodel.predict_proba(X_selected_test_transformed)[:, 1]\n",
    "predict_trfbtree = (probs_positive_class >= threshold).astype('int')\n",
    "accuracy_trfbtree = accuracy_score(Y_selected_test,predict_trfbtree)\n",
    "precision_trfbtree = precision_score(Y_selected_test,predict_trfbtree, pos_label=1)\n",
    "recall_trfbtree = recall_score(Y_selected_test,predict_trfbtree)\n",
    "print(\"The accuracy score is \", accuracy_trfbtree)\n",
    "print(\"The precision score is \", precision_trfbtree)\n",
    "print(\"The recall score is \", recall_trfbtree)\n",
    "print(confusion_matrix(Y_selected_test, predict_trfbtree))"
   ]
  },
  {
   "cell_type": "code",
   "execution_count": 90,
   "metadata": {
    "colab": {
     "base_uri": "https://localhost:8080/",
     "height": 499
    },
    "colab_type": "code",
    "id": "LArRjF9XWfyn",
    "outputId": "b8e256e3-403b-4687-b52a-02edb15dc611"
   },
   "outputs": [
    {
     "name": "stdout",
     "output_type": "stream",
     "text": [
      "20\n",
      "The accuracy score is  0.775147928994\n",
      "The precision score is  0.292682926829\n",
      "The recall score is  0.571428571429\n",
      "[[119  29]\n",
      " [  9  12]]\n",
      "20\n",
      "The accuracy score is  0.881656804734\n",
      "The precision score is  0.52380952381\n",
      "The recall score is  0.52380952381\n",
      "[[138  10]\n",
      " [ 10  11]]\n"
     ]
    },
    {
     "data": {
      "image/png": "[encoded data removed]",
      "text/plain": [
       "<Figure size 432x288 with 1 Axes>"
      ]
     },
     "metadata": {
      "needs_background": "light"
     },
     "output_type": "display_data"
    }
   ],
   "source": [
    "best_score = 0\n",
    "k_folds = 10\n",
    "for c in [0.01,.05,0.1,0.5,1,5,10,20,50]:\n",
    "    logRegModel = LogisticRegression(C = c)\n",
    "    scores = cross_val_score(logRegModel, X_selected_train_transformed,Y_selected_train, cv = k_folds)\n",
    "    score = np.mean(scores)\n",
    "    #print(scores)\n",
    "    if score > best_score:\n",
    "        best_score = score\n",
    "        best_parameter = c\n",
    "    \n",
    "logRegModel_final = LogisticRegression(C = best_parameter).fit(X_selected_train_transformed,Y_selected_train)\n",
    "Y_Ridge_predict = logRegModel_final.predict(X_selected_test_transformed)\n",
    "precision_ridge = precision_score(Y_selected_test,Y_Ridge_predict)\n",
    "recall_ridge = recall_score(Y_selected_test,Y_Ridge_predict)\n",
    "accuracy_ridge = accuracy_score(Y_selected_test,Y_Ridge_predict)\n",
    "print(best_parameter)\n",
    "print(\"The accuracy score is \", accuracy_ridge)\n",
    "print(\"The precision score is \", precision_ridge)\n",
    "print(\"The recall score is \", recall_ridge)\n",
    "print(confusion_matrix(Y_selected_test, Y_Ridge_predict))\n",
    "\n",
    "\n",
    "\n",
    "Y_prob = logRegModel_final.predict_proba(X_selected_test_transformed)\n",
    "precision, recall, thresholds = precision_recall_curve(Y_test, (Y_prob[:,1]))\n",
    "step_kwargs = ({'step': 'post'}\n",
    "               if 'step' in signature(plt.fill_between).parameters\n",
    "               else {})\n",
    "plt.step(recall, precision, color='b', alpha=0.2,\n",
    "         where='post')\n",
    "plt.fill_between(recall, precision, alpha=0.2, color='b', **step_kwargs)\n",
    "\n",
    "plt.xlabel('Recall')\n",
    "plt.ylabel('Precision')\n",
    "plt.ylim([0.0, 1.05])\n",
    "plt.xlim([0.0, 1.0])\n",
    "plt.title('2-class Precision-Recall curve: AP={0:0.2f}')\n",
    "# print(thresholds)\n",
    "# print(recall)\n",
    "\n",
    "threshold = 0.69\n",
    "probs_positive_class = logRegModel_final.predict_proba(X_selected_test_transformed)[:, 1]\n",
    "Y_Ridge_predict = (probs_positive_class >= threshold).astype('int')\n",
    "precision_tridge = precision_score(Y_selected_test,Y_Ridge_predict)\n",
    "recall_tridge = recall_score(Y_selected_test,Y_Ridge_predict)\n",
    "accuracy_tridge = accuracy_score(Y_selected_test,Y_Ridge_predict)\n",
    "\n",
    "\n",
    "print(best_parameter)\n",
    "print(\"The accuracy score is \", accuracy_tridge)\n",
    "print(\"The precision score is \", precision_tridge)\n",
    "print(\"The recall score is \", recall_tridge)\n",
    "print(confusion_matrix(Y_selected_test, Y_Ridge_predict))"
   ]
  },
  {
   "cell_type": "code",
   "execution_count": 75,
   "metadata": {
    "colab": {
     "base_uri": "https://localhost:8080/",
     "height": 499
    },
    "colab_type": "code",
    "id": "Fq0LpZwYWhNh",
    "outputId": "41d7374a-5881-4d65-ae04-26ca581680a8"
   },
   "outputs": [
    {
     "name": "stdout",
     "output_type": "stream",
     "text": [
      "10\n",
      "The accuracy score is  0.775147928994\n",
      "The precision score is  0.292682926829\n",
      "The recall score is  0.571428571429\n",
      "[[119  29]\n",
      " [  9  12]]\n",
      "10\n",
      "The accuracy score is  0.881656804734\n",
      "The precision score is  0.52380952381\n",
      "The recall score is  0.52380952381\n",
      "[[138  10]\n",
      " [ 10  11]]\n"
     ]
    },
    {
     "data": {
      "image/png": "[encoded data removed]",
      "text/plain": [
       "<Figure size 432x288 with 1 Axes>"
      ]
     },
     "metadata": {
      "needs_background": "light"
     },
     "output_type": "display_data"
    }
   ],
   "source": [
    "best_score = 0\n",
    "k_folds = 10\n",
    "for c in [0.01,.05,0.1,0.5,1,5,10,20,50]:\n",
    "    logRegModel = LogisticRegression(C = c, penalty = \"l1\")\n",
    "    scores = cross_val_score(logRegModel, X_selected_train_transformed,Y_selected_train, cv = k_folds)\n",
    "    score = np.mean(scores)\n",
    "    #print(scores)\n",
    "    if score > best_score:\n",
    "        best_score = score\n",
    "        best_parameter = c\n",
    "    \n",
    "logRegModel_final = LogisticRegression(C = best_parameter, penalty = \"l1\").fit(X_selected_train_transformed,Y_selected_train)\n",
    "Y_lasso_predict = logRegModel_final.predict(X_selected_test_transformed)\n",
    "precision_lasso = precision_score(Y_selected_test,Y_lasso_predict)\n",
    "recall_lasso = recall_score(Y_selected_test,Y_lasso_predict)\n",
    "accuracy_lasso = accuracy_score(Y_selected_test,Y_lasso_predict)\n",
    "print(best_parameter)\n",
    "print(\"The accuracy score is \", accuracy_lasso)\n",
    "print(\"The precision score is \", precision_lasso)\n",
    "print(\"The recall score is \", recall_lasso)\n",
    "print(confusion_matrix(Y_selected_test, Y_lasso_predict))\n",
    "\n",
    "Y_prob = logRegModel_final.predict_proba(X_selected_test_transformed)\n",
    "precision, recall, thresholds = precision_recall_curve(Y_test, (Y_prob[:,1]))\n",
    "step_kwargs = ({'step': 'post'}\n",
    "               if 'step' in signature(plt.fill_between).parameters\n",
    "               else {})\n",
    "plt.step(recall, precision, color='b', alpha=0.2,\n",
    "         where='post')\n",
    "plt.fill_between(recall, precision, alpha=0.2, color='b', **step_kwargs)\n",
    "\n",
    "plt.xlabel('Recall')\n",
    "plt.ylabel('Precision')\n",
    "plt.ylim([0.0, 1.05])\n",
    "plt.xlim([0.0, 1.0])\n",
    "plt.title('2-class Precision-Recall curve: AP={0:0.2f}')\n",
    "# print(thresholds)\n",
    "# print(recall)\n",
    "\n",
    "\n",
    "threshold = 0.69\n",
    "probs_positive_class = logRegModel_final.predict_proba(X_selected_test_transformed)[:, 1]\n",
    "Y_lasso_predict = (probs_positive_class >= threshold).astype('int')\n",
    "precision_tlasso = precision_score(Y_selected_test,Y_lasso_predict)\n",
    "recall_tlasso = recall_score(Y_selected_test,Y_lasso_predict)\n",
    "accuracy_tlasso = accuracy_score(Y_selected_test,Y_lasso_predict)\n",
    "\n",
    "\n",
    "print(best_parameter)\n",
    "print(\"The accuracy score is \", accuracy_tlasso)\n",
    "print(\"The precision score is \", precision_tlasso)\n",
    "print(\"The recall score is \", recall_tlasso)\n",
    "print(confusion_matrix(Y_selected_test, Y_lasso_predict))"
   ]
  },
  {
   "cell_type": "code",
   "execution_count": 67,
   "metadata": {
    "colab": {
     "base_uri": "https://localhost:8080/",
     "height": 499
    },
    "colab_type": "code",
    "id": "kvEQh2OsTwx-",
    "outputId": "6a018bc4-f28f-4042-e295-31f7570c3ab2"
   },
   "outputs": [
    {
     "name": "stdout",
     "output_type": "stream",
     "text": [
      "Test Score: 0.775147928994\n",
      "The accuracy score is  0.775147928994\n",
      "The precision score is  0.302325581395\n",
      "The recall score is  0.619047619048\n",
      "[[118  30]\n",
      " [  8  13]]\n",
      "Test Score: 0.775147928994\n",
      "The accuracy score is  0.887573964497\n",
      "The precision score is  0.555555555556\n",
      "The recall score is  0.47619047619\n",
      "[[140   8]\n",
      " [ 11  10]]\n"
     ]
    },
    {
     "data": {
      "image/png": "[encoded data removed]",
      "text/plain": [
       "<Figure size 432x288 with 1 Axes>"
      ]
     },
     "metadata": {
      "needs_background": "light"
     },
     "output_type": "display_data"
    }
   ],
   "source": [
    "LDAmodelFitted = LinearDiscriminantAnalysis().fit(X_selected_train_transformed, Y_selected_train)\n",
    "Y_LDA_predict = LDAmodelFitted.predict(X_selected_test_transformed)\n",
    "accuracy_LDA = accuracy_score(Y_selected_test,Y_LDA_predict)\n",
    "precision_LDA = precision_score(Y_selected_test,Y_LDA_predict)\n",
    "recall_LDA = recall_score(Y_selected_test,Y_LDA_predict)\n",
    "test_score_LDA = LDAmodelFitted.score(X_selected_test_transformed,Y_selected_test)\n",
    "print(\"Test Score:\", test_score_LDA)\n",
    "print(\"The accuracy score is \", accuracy_LDA)\n",
    "print(\"The precision score is \", precision_LDA)\n",
    "print(\"The recall score is \", recall_LDA)\n",
    "print(confusion_matrix(Y_selected_test, Y_LDA_predict))\n",
    "\n",
    "Y_prob = LDAmodelFitted.predict_proba(X_selected_test_transformed)\n",
    "precision, recall, thresholds = precision_recall_curve(Y_test, (Y_prob[:,1]))\n",
    "step_kwargs = ({'step': 'post'}\n",
    "               if 'step' in signature(plt.fill_between).parameters\n",
    "               else {})\n",
    "plt.step(recall, precision, color='b', alpha=0.2,\n",
    "         where='post')\n",
    "plt.fill_between(recall, precision, alpha=0.2, color='b', **step_kwargs)\n",
    "\n",
    "plt.xlabel('Recall')\n",
    "plt.ylabel('Precision')\n",
    "plt.ylim([0.0, 1.05])\n",
    "plt.xlim([0.0, 1.0])\n",
    "plt.title('2-class Precision-Recall curve: AP={0:0.2f}')\n",
    "# print(thresholds)\n",
    "# print(recall)\n",
    "## Threshold found through separate cross validation\n",
    "threshold = 0.74 #68\n",
    "probs_positive_class = LDAmodelFitted.predict_proba(X_selected_test_transformed)[:, 1]\n",
    "LDA_predicted= (probs_positive_class >= threshold).astype('int')\n",
    "accuracy_tLDA = accuracy_score(Y_selected_test,LDA_predicted)\n",
    "precision_tLDA = precision_score(Y_selected_test,LDA_predicted)\n",
    "recall_tLDA = recall_score(Y_selected_test,LDA_predicted)\n",
    "test_score_tLDA = LDAmodelFitted.score(X_selected_test,Y_selected_test)\n",
    "print(\"Test Score:\", test_score_LDA)\n",
    "print(\"The accuracy score is \", accuracy_tLDA)\n",
    "print(\"The precision score is \", precision_tLDA)\n",
    "print(\"The recall score is \", recall_tLDA)\n",
    "print(confusion_matrix(Y_selected_test, LDA_predicted))"
   ]
  },
  {
   "cell_type": "code",
   "execution_count": 68,
   "metadata": {
    "colab": {
     "base_uri": "https://localhost:8080/",
     "height": 1437
    },
    "colab_type": "code",
    "id": "Zai1-c7eUS-8",
    "outputId": "363a4246-4fd4-46a6-e965-6717c49913e2"
   },
   "outputs": [
    {
     "name": "stdout",
     "output_type": "stream",
     "text": [
      "lbfgs\n",
      "logistic\n",
      "relu\n",
      "tanh\n",
      "identity\n",
      "sgd\n",
      "logistic\n",
      "relu\n",
      "tanh\n",
      "identity\n",
      "lbfgs\n",
      "tanh\n",
      "The recall is: 0.333333333333\n",
      "The precision is: 0.388888888889\n",
      "The accuracy is : 0.852071005917\n",
      "[[137  11]\n",
      " [ 14   7]]\n",
      "[  2.80380015e-04   3.10234921e-04   3.17233449e-04   4.05193118e-04\n",
      "   4.08613516e-04   4.11163102e-04   5.21894579e-04   6.22210643e-04\n",
      "   7.53027211e-04   8.92552528e-04   9.19573611e-04   1.27276661e-03\n",
      "   1.48708293e-03   1.52333727e-03   1.54734511e-03   1.93049037e-03\n",
      "   2.02303919e-03   2.11944354e-03   2.16382137e-03   2.37706263e-03\n",
      "   2.39043737e-03   2.61423435e-03   3.04901178e-03   3.15394943e-03\n",
      "   3.22860448e-03   3.44397210e-03   3.52201176e-03   3.85657217e-03\n",
      "   3.88629172e-03   4.66485781e-03   5.45055446e-03   5.78115179e-03\n",
      "   5.86960157e-03   6.59052401e-03   6.76814488e-03   6.81316177e-03\n",
      "   6.92585494e-03   6.93112898e-03   7.89144282e-03   8.67854525e-03\n",
      "   9.58133294e-03   9.65636590e-03   1.09660962e-02   1.10005374e-02\n",
      "   1.21960955e-02   1.42711826e-02   1.45565622e-02   1.45714487e-02\n",
      "   1.57565843e-02   1.74841485e-02   2.00706796e-02   2.01905174e-02\n",
      "   2.15602732e-02   2.83173987e-02   2.92398257e-02   3.24625149e-02\n",
      "   3.33294695e-02   3.34321593e-02   3.44632379e-02   3.50368908e-02\n",
      "   4.63666128e-02   5.03429171e-02   5.50291898e-02   7.82487531e-02\n",
      "   8.01220765e-02   9.17125364e-02   1.01164704e-01   1.24757845e-01\n",
      "   1.28381473e-01   1.31386021e-01   1.69149437e-01   1.74310633e-01\n",
      "   1.80138446e-01   1.84624395e-01   2.55894323e-01   2.73103984e-01\n",
      "   2.73194616e-01   2.84939662e-01   3.25778635e-01   3.82549172e-01\n",
      "   3.88376257e-01   4.66675825e-01   4.94403714e-01   5.21928746e-01\n",
      "   5.39096996e-01   5.56160634e-01   5.79593865e-01   5.83931760e-01\n",
      "   6.18729127e-01   6.50124010e-01   6.57635130e-01   6.63606685e-01\n",
      "   6.66450113e-01   6.78054072e-01   7.02634749e-01   7.47278266e-01\n",
      "   8.41050343e-01   8.53957960e-01   8.65177744e-01   8.71504815e-01\n",
      "   8.96386509e-01   9.02043995e-01   9.12628428e-01   9.19987825e-01\n",
      "   9.91818524e-01   9.95278229e-01]\n",
      "[ 1.          0.95238095  0.95238095  0.95238095  0.95238095  0.95238095\n",
      "  0.9047619   0.9047619   0.85714286  0.85714286  0.85714286  0.85714286\n",
      "  0.85714286  0.85714286  0.85714286  0.85714286  0.85714286  0.85714286\n",
      "  0.85714286  0.80952381  0.80952381  0.80952381  0.80952381  0.80952381\n",
      "  0.76190476  0.76190476  0.76190476  0.76190476  0.76190476  0.76190476\n",
      "  0.76190476  0.76190476  0.71428571  0.71428571  0.71428571  0.71428571\n",
      "  0.71428571  0.66666667  0.66666667  0.61904762  0.61904762  0.61904762\n",
      "  0.61904762  0.61904762  0.61904762  0.61904762  0.61904762  0.61904762\n",
      "  0.61904762  0.61904762  0.61904762  0.61904762  0.61904762  0.61904762\n",
      "  0.61904762  0.61904762  0.61904762  0.61904762  0.57142857  0.57142857\n",
      "  0.57142857  0.57142857  0.52380952  0.52380952  0.52380952  0.47619048\n",
      "  0.47619048  0.47619048  0.47619048  0.42857143  0.42857143  0.38095238\n",
      "  0.38095238  0.33333333  0.33333333  0.33333333  0.33333333  0.33333333\n",
      "  0.33333333  0.33333333  0.33333333  0.33333333  0.33333333  0.33333333\n",
      "  0.33333333  0.33333333  0.33333333  0.33333333  0.28571429  0.28571429\n",
      "  0.28571429  0.28571429  0.28571429  0.28571429  0.28571429  0.23809524\n",
      "  0.23809524  0.19047619  0.14285714  0.0952381   0.0952381   0.04761905\n",
      "  0.          0.          0.          0.          0.        ]\n",
      "The recall is: 0.333333333333\n",
      "The precision is: 0.388888888889\n",
      "The accuracy is : 0.852071005917\n",
      "[[137  11]\n",
      " [ 14   7]]\n"
     ]
    },
    {
     "data": {
      "image/png": "[encoded data removed]",
      "text/plain": [
       "<Figure size 432x288 with 1 Axes>"
      ]
     },
     "metadata": {
      "needs_background": "light"
     },
     "output_type": "display_data"
    }
   ],
   "source": [
    "from sklearn.model_selection import cross_validate\n",
    "def neuralFunctionCV(max_iter_,X_train,Y_train):\n",
    "    recall = 0\n",
    "    precision = 0\n",
    "    best_solver = ''\n",
    "    best_activation = ''\n",
    "    best_average = 0\n",
    "    scoring = ['precision_macro', 'recall_macro']\n",
    "    solv = ['lbfgs', 'sgd']\n",
    "    activation = ['logistic','relu','tanh','identity']\n",
    "    for i in solv:\n",
    "        print(i)\n",
    "        for j in activation:\n",
    "            print(j)\n",
    "            mlp = MLPClassifier(solver = i, activation = j, \n",
    "                       random_state = 0,hidden_layer_sizes = (10,8), alpha = 0.5, max_iter = max_iter_,)\n",
    "            scores = cross_validate(mlp, X_train,Y_train, scoring = 'f1_macro', cv = 10, return_train_score = False)\n",
    "            #print(scores)\n",
    "            #recall_vals = np.mean(scores['test_recall_macro'])\n",
    "            #precision_vals = np.mean(scores['test_precision_macro'])\n",
    "            f_score = np.mean(scores['test_score'])\n",
    "            #print(f_score)\n",
    "            #print(precision_vals)\n",
    "            if (f_score > best_average):\n",
    "                best_solver = i\n",
    "                best_activation = j\n",
    "                best_average = f_score\n",
    "    return [best_solver,best_activation]\n",
    "\n",
    "  \n",
    "vals = []\n",
    "vals = neuralFunctionCV(9000, X_selected_train_transformed, Y_selected_train)\n",
    "print(vals[0])\n",
    "print(vals[1])\n",
    "mlpModel = MLPClassifier(solver = vals[0], activation = vals[1], random_state = 0, alpha = 0.5, \n",
    "                        hidden_layer_sizes = (10,8), max_iter = 5000).fit(X_selected_train_transformed,Y_selected_train)\n",
    "recall_mlp = recall_score(Y_selected_test,prediction_mlp)\n",
    "precision_mlp = precision_score(Y_selected_test,prediction_mlp)\n",
    "accuracy_mlp = accuracy_score(Y_selected_test,prediction_mlp)\n",
    "print(\"The recall is:\",recall_mlp)\n",
    "print(\"The precision is:\",precision_mlp)\n",
    "print(\"The accuracy is :\", accuracy_mlp)\n",
    "print(confusion_matrix(Y_selected_test, prediction_mlp))\n",
    "\n",
    "\n",
    "Y_prob = mlpModel.predict_proba(X_selected_test_transformed)\n",
    "precision, recall, thresholds = precision_recall_curve(Y_test, (Y_prob[:,1]))\n",
    "step_kwargs = ({'step': 'post'}\n",
    "               if 'step' in signature(plt.fill_between).parameters\n",
    "               else {})\n",
    "plt.step(recall, precision, color='b', alpha=0.2,\n",
    "         where='post')\n",
    "plt.fill_between(recall, precision, alpha=0.2, color='b', **step_kwargs)\n",
    "\n",
    "plt.xlabel('Recall')\n",
    "plt.ylabel('Precision')\n",
    "plt.ylim([0.0, 1.05])\n",
    "plt.xlim([0.0, 1.0])\n",
    "plt.title('2-class Precision-Recall curve: AP={0:0.2f}')\n",
    "print(thresholds)\n",
    "print(recall)\n",
    "## Threshold found through separate cross validation\n",
    "\n",
    "\n",
    "threshold = 0.5\n",
    "probs_positive_class = mlpModel.predict_proba(X_selected_test_transformed)[:, 1]\n",
    "prediction_tmlp = (probs_positive_class >= threshold).astype('int')\n",
    "recall_tmlp = recall_score(Y_selected_test,prediction_mlp)\n",
    "precision_tmlp = precision_score(Y_selected_test,prediction_mlp)\n",
    "accuracy_tmlp = accuracy_score(Y_selected_test,prediction_mlp)\n",
    "print(\"The recall is:\",recall_tmlp)\n",
    "print(\"The precision is:\",precision_tmlp)\n",
    "print(\"The accuracy is :\", accuracy_tmlp)\n",
    "print(confusion_matrix(Y_selected_test, prediction_mlp))\n"
   ]
  },
  {
   "cell_type": "code",
   "execution_count": 69,
   "metadata": {
    "colab": {
     "base_uri": "https://localhost:8080/",
     "height": 119
    },
    "colab_type": "code",
    "id": "26pmIj5sUjc-",
    "outputId": "85267e84-b3e1-41a1-d892-a7f993012d90"
   },
   "outputs": [
    {
     "ename": "NameError",
     "evalue": "name 'XGBClassifier' is not defined",
     "output_type": "error",
     "traceback": [
      "\u001b[1;31m---------------------------------------------------------------------------\u001b[0m",
      "\u001b[1;31mNameError\u001b[0m                                 Traceback (most recent call last)",
      "\u001b[1;32m<ipython-input-69-3d7183e41143>\u001b[0m in \u001b[0;36m<module>\u001b[1;34m()\u001b[0m\n\u001b[0;32m      5\u001b[0m         \u001b[1;32mfor\u001b[0m \u001b[0mscale_pos_weight_mat\u001b[0m \u001b[1;32min\u001b[0m \u001b[1;33m[\u001b[0m\u001b[1;36m1\u001b[0m\u001b[1;33m,\u001b[0m \u001b[1;36m2\u001b[0m\u001b[1;33m,\u001b[0m \u001b[1;36m3\u001b[0m\u001b[1;33m,\u001b[0m \u001b[1;36m4\u001b[0m\u001b[1;33m,\u001b[0m \u001b[1;36m5\u001b[0m\u001b[1;33m]\u001b[0m\u001b[1;33m:\u001b[0m\u001b[1;33m\u001b[0m\u001b[0m\n\u001b[0;32m      6\u001b[0m     \u001b[1;31m#         print(\"Scale Positive Weight is \" + str(min_child_weight_mat))\u001b[0m\u001b[1;33m\u001b[0m\u001b[1;33m\u001b[0m\u001b[0m\n\u001b[1;32m----> 7\u001b[1;33m             \u001b[0mmodel\u001b[0m \u001b[1;33m=\u001b[0m \u001b[0mXGBClassifier\u001b[0m\u001b[1;33m(\u001b[0m\u001b[0mscale_pos_weight\u001b[0m \u001b[1;33m=\u001b[0m \u001b[0mscale_pos_weight_mat\u001b[0m\u001b[1;33m,\u001b[0m \u001b[0mmin_child_weight\u001b[0m \u001b[1;33m=\u001b[0m \u001b[0mmin_child_weight_mat\u001b[0m\u001b[1;33m,\u001b[0m \u001b[0mmax_depth\u001b[0m\u001b[1;33m=\u001b[0m\u001b[0mmax_depth_mat\u001b[0m\u001b[1;33m)\u001b[0m\u001b[1;33m\u001b[0m\u001b[0m\n\u001b[0m\u001b[0;32m      8\u001b[0m             \u001b[0mmodel\u001b[0m\u001b[1;33m.\u001b[0m\u001b[0mfit\u001b[0m\u001b[1;33m(\u001b[0m\u001b[0mX_selected_train_transformed\u001b[0m\u001b[1;33m,\u001b[0m \u001b[0mY_selected_train\u001b[0m\u001b[1;33m)\u001b[0m\u001b[1;33m\u001b[0m\u001b[0m\n\u001b[0;32m      9\u001b[0m     \u001b[1;31m#         print('---------------------------------------------------------------')\u001b[0m\u001b[1;33m\u001b[0m\u001b[1;33m\u001b[0m\u001b[0m\n",
      "\u001b[1;31mNameError\u001b[0m: name 'XGBClassifier' is not defined"
     ]
    }
   ],
   "source": [
    "\n",
    "for max_depth_mat in [1, 2, 3, 4, 5]:\n",
    "    for min_child_weight_mat in [1, 2, 3, 4, 5]:\n",
    "    #     print(\"Min Child Weight is \" + str(min_child_weight_mat))\n",
    "        for scale_pos_weight_mat in [1, 2, 3, 4, 5]:\n",
    "    #         print(\"Scale Positive Weight is \" + str(min_child_weight_mat))\n",
    "            model = XGBClassifier(scale_pos_weight = scale_pos_weight_mat, min_child_weight = min_child_weight_mat, max_depth=max_depth_mat)\n",
    "            model.fit(X_selected_train_transformed, Y_selected_train)\n",
    "    #         print('---------------------------------------------------------------')\n",
    "    #         print('Train')\n",
    "            y_pred = model.predict(X_selected_train_transformed)\n",
    "            predictions = [round(value) for value in y_pred]\n",
    "            train_acc = accuracy_score(Y_selected_train, predictions)\n",
    "            cm = confusion_matrix(Y_selected_train, predictions)\n",
    "#             print(cm)\n",
    "    #         print(\"Accuracy: %.2f%%\" % (accuracy * 100.0))\n",
    "            train_prec = precision_score(Y_selected_train, predictions)\n",
    "    #         print(\"The precision score is \", precision_lasso)\n",
    "            train_recall = recall_score(Y_selected_train, predictions)\n",
    "    #         print(\"The recall score is \", recall_lasso)\n",
    "    #         print(\"--------------------------------------------------\")\n",
    "    #         print('Test')\n",
    "            y_pred = model.predict(X_selected_test_transformed)\n",
    "            predictions = [round(value) for value in y_pred]\n",
    "            accuracy_xgboost = accuracy_score(Y_selected_test, predictions)\n",
    "    #         cm = confusion_matrix(Y_test, predictions)\n",
    "    #         print(cm)\n",
    "    #         print(\"Accuracy: %.2f%%\" % (accuracy * 100.0))\n",
    "            precision_xgboost = precision_score(Y_selected_test, predictions)\n",
    "    #         print(\"The precision score is \", precision_lasso)\n",
    "            recall_xgboost = recall_score(Y_selected_test, predictions)\n",
    "    #         print(\"The recall score is \", recall_lasso)\n",
    "    #         print(\"--------------------------------------------------\")\n",
    "    #         print('---------------------------------------------------------------')\n",
    "\n",
    "result_df = pd.DataFrame()\n",
    "print(\"Train Accuracy = \" + str(train_acc))\n",
    "print(\"Test Accuracy = \" + str(accuracy_xgboost))\n",
    "print(\"Train Recall = \" + str(train_recall))\n",
    "print(\"Test Recall = \" + str( precision_xgboost))\n",
    "print(\"Train Precision = \" + str(train_prec))\n",
    "print(\"Test Precision = \" + str(precision_xgboost))"
   ]
  },
  {
   "cell_type": "code",
   "execution_count": 70,
   "metadata": {
    "colab": {
     "base_uri": "https://localhost:8080/",
     "height": 482
    },
    "colab_type": "code",
    "id": "zGBPyEOLKzHR",
    "outputId": "f43e04d2-ac13-4d4d-b21b-081206512a1a"
   },
   "outputs": [
    {
     "name": "stdout",
     "output_type": "stream",
     "text": [
      "0.668868454947\n",
      "Recall: 0.761904761905\n",
      "Precision: 0.238805970149\n",
      "Accuracy: 0.668639053254\n",
      "[[97 51]\n",
      " [ 5 16]]\n",
      "Recall: 0.52380952381\n",
      "Precision: 0.52380952381\n",
      "Accuracy: 0.881656804734\n",
      "[[138  10]\n",
      " [ 10  11]]\n"
     ]
    },
    {
     "data": {
      "image/png": "[encoded data removed]",
      "text/plain": [
       "<Figure size 432x288 with 1 Axes>"
      ]
     },
     "metadata": {
      "needs_background": "light"
     },
     "output_type": "display_data"
    }
   ],
   "source": [
    "from sklearn.svm import SVC\n",
    "from sklearn.svm import SVR\n",
    "from sklearn.feature_selection import RFE\n",
    "\n",
    "svmModel = SVC(kernel = \"linear\")\n",
    "\n",
    "\n",
    "def svmFunction(X_train,X_test,Y_train,Y_test,kernel_type):\n",
    "    best_val = 0\n",
    "    best_c = 0\n",
    "    for c in [0.01,0.1,1,10,50,100]:\n",
    "        \n",
    "        model = SVC(kernel = kernel_type,C = c)\n",
    "        #scoring = ['precision_macro', 'recall_macro']\n",
    "        scores = cross_validate(model, X_train,Y_train, scoring = 'f1_macro', cv = 5, return_train_score = False)\n",
    "        f_val = np.mean(scores['test_score'])\n",
    "        print(f_val)\n",
    "        if f_val > best_val:\n",
    "            best_val = f_val\n",
    "            best_c = c\n",
    "\n",
    "        svm = SVC(kernel = kernel_type, C = best_c, probability = True).fit(X_train,Y_train)\n",
    "        \n",
    "        y_predict = svm.predict(X_test)\n",
    "        recall_svm = recall_score(Y_test,y_predict)\n",
    "        precision_svm = precision_score(Y_test,y_predict)\n",
    "        accuracy_svm = accuracy_score(Y_test,y_predict)\n",
    "        print(\"Recall:\",recall_svm)\n",
    "        print(\"Precision:\",precision_svm)\n",
    "        print(\"Accuracy:\", accuracy_svm)\n",
    "        print(confusion_matrix(Y_test, y_predict))\n",
    "\n",
    "\n",
    "        \n",
    "        Y_prob = svm.predict_proba(X_test)\n",
    "        precision, recall, thresholds = precision_recall_curve(Y_test, (Y_prob[:,1]))\n",
    "        step_kwargs = ({'step': 'post'}\n",
    "                       if 'step' in signature(plt.fill_between).parameters\n",
    "                       else {})\n",
    "        plt.step(recall, precision, color='b', alpha=0.2,\n",
    "                 where='post')\n",
    "        plt.fill_between(recall, precision, alpha=0.2, color='b', **step_kwargs)\n",
    "\n",
    "        plt.xlabel('Recall')\n",
    "        plt.ylabel('Precision')\n",
    "        plt.ylim([0.0, 1.05])\n",
    "        plt.xlim([0.0, 1.0])\n",
    "        plt.title('2-class Precision-Recall curve: AP={0:0.2f}')\n",
    "#         print(thresholds)\n",
    "#         print(recall)\n",
    "\n",
    "        #y_predict =  svm.predict(X_test)\n",
    "        threshold = 0.72\n",
    "        probs_positive_class = svm.predict_proba(X_test)[:,1]\n",
    "        y_predict = (probs_positive_class >= threshold).astype('int')\n",
    "        recall_tsvm = recall_score(Y_test,y_predict)\n",
    "        precision_tsvm = precision_score(Y_test,y_predict)\n",
    "        accuracy_tsvm = accuracy_score(Y_test,y_predict)\n",
    "        print(\"Recall:\",recall_tsvm)\n",
    "        print(\"Precision:\",precision_tsvm)\n",
    "        print(\"Accuracy:\", accuracy_tsvm)\n",
    "        print(confusion_matrix(Y_test, y_predict))\n",
    "        return [svm,accuracy_tsvm,precision_tsvm,recall_tsvm,accuracy_svm,precision_svm,recall_svm]\n",
    "\n",
    "vals2 = []\n",
    "vals2 = svmFunction(X_selected_train_transformed,X_selected_test_transformed,Y_selected_train,Y_selected_test,'linear')"
   ]
  },
  {
   "cell_type": "code",
   "execution_count": null,
   "metadata": {
    "colab": {
     "base_uri": "https://localhost:8080/",
     "height": 734
    },
    "colab_type": "code",
    "id": "hxfEYSB7q6hk",
    "outputId": "c3e190a8-2f59-4b57-8b7a-0a0a485caf4b"
   },
   "outputs": [],
   "source": [
    "rf_vals =[accuracy_randomforest,precision_randomforest,recall_randomforest]\n",
    "trf_vals =[accuracy_trtree,precision_trtree,recall_trtree]\n",
    "rfb_vals =[accuracy_rfbtree,precision_rfbtree,recall_rfbtree]\n",
    "trfb_vals =[accuracy_trfbtree,precision_trfbtree,recall_trfbtree]\n",
    "tree_vals =[accuracy_tree,precision_tree,recall_tree]\n",
    "ttree_vals =[accuracy_ttree,precision_ttree,recall_ttree]\n",
    "adatree_vals =[accuracy_adatree,precision_adatree,recall_adatree]\n",
    "adattree_vals =[accuracy_adattree,precision_adattree,recall_adattree]\n",
    "btree_vals =[accuracy_tree_bag,precision_tree_bag,recall_tree_bag]\n",
    "tbtree_vals =[accuracy_ttree_bag,precision_ttree_bag,recall_ttree_bag]\n",
    "knn_vals = [accuracy_knn,precision_knn,recall_knn]\n",
    "tknn_vals = [accuracy_tknn,precision_tknn,recall_tknn]\n",
    "rid_vals = [accuracy_ridge,precision_ridge,recall_ridge]\n",
    "trid_vals = [accuracy_tridge,precision_tridge,recall_tridge]\n",
    "las_vals = [accuracy_lasso,precision_lasso,recall_lasso]\n",
    "tlas_vals = [accuracy_tlasso,precision_tlasso,recall_tlasso]\n",
    "lda_vals = [accuracy_LDA,precision_LDA,recall_LDA]\n",
    "tlda_vals = [accuracy_tLDA,precision_tLDA,recall_tLDA]\n",
    "mlp_vals = [accuracy_mlp,precision_mlp,recall_mlp]\n",
    "tmlp_vals = [accuracy_tmlp,precision_tmlp,recall_tmlp]\n",
    "tsvm_vals = [vals2[1],vals2[2],vals2[3]]\n",
    "svm_vals = [vals2[4],vals2[5],vals2[6]]\n",
    "xgboost_vals = [accuracy_xgboost,precision_xgboost,recall_xgboost]\n",
    "\n",
    "# print(\"Random Forest Vals \",rf_vals)\n",
    "# print(\"Bagging Random Forest Vals \",rfb_vals)\n",
    "# print(\"Decision Tree\", tree_vals)\n",
    "# print(\"Bagging Decision Tree\", btree_vals)\n",
    "# print(\"Knn values \",knn_vals)\n",
    "# print(\"Ridge values \",rid_vals)\n",
    "# print(\"Lasso values \",las_vals)\n",
    "# print(\"LDA Vals \",lda_vals)\n",
    "# print(\"Neural Network vals\" , mlp_vals)\n",
    "# print(\"Gradient Boosting vals\", xgboost_vals)\n",
    "\n",
    "#accuracy = [accuracy_rfbtree,accuracy_tree, accuracy_knn, accuracy_QDA, accuracy_mlp, test_acc]\n",
    "#precision = [precision_rfbtree,precision_tree, precision_knn,precision_QDA, precision_mlp, test_prec]\n",
    "#recall = [recall_rfbtree, recall_tree, recall_knn, recall_QDA, recall_mlp, test_recall]\n",
    "\n",
    "totals = np.array([rf_vals,trf_vals,rfb_vals,trfb_vals,tree_vals,ttree_vals,adatree_vals, adattree_vals,btree_vals,tbtree_vals, knn_vals,tknn_vals, rid_vals,trid_vals, las_vals,tlas_vals, lda_vals,tlda_vals, mlp_vals, tmlp_vals,svm_vals,tsvm_vals,xgboost_vals])\n",
    "model_types = ['Random Forest','Random Forest w. threshold','Random Forest Bagging','Random Forest Bagging w. threshold','Decision Tree','Decision Tree w. threshold','Adaboost','Adaboost w. threshold','Decision Tree Bagging','Decision Tree Bagging w. threshold',\"K-Nearest Neighbor\",'K-Nearest Neighbor w. threshold','Logistic Reg Ridge','Logistic Reg Ridge w. threshold','Logistic Reg Lasso','Logistic Reg Lasso w. threshold', \"LDA\",'LDA w. threshold', \"MLP\",'MLP w. threshold','Support Vector Machine','Support Vector Machine w. threshold', \"XgBoost\" ]\n",
    "metrics = [\"Accuracy\",\"Precision\", \"Recall\"]\n",
    "\n",
    "result_measurements = pd.DataFrame(totals.reshape(len(model_types),3),index = model_types, columns = metrics)\n",
    "result_measurements"
   ]
  },
  {
   "cell_type": "code",
   "execution_count": null,
   "metadata": {
    "colab": {},
    "colab_type": "code",
    "id": "IWXH58HU-cFS"
   },
   "outputs": [],
   "source": [
    "# sns.barplot(x = ['Random Forest threshold','QDA','MLP','XgBoost'],\n",
    "#             y = result_measurements.loc[['Random Forest threshold','QDA','MLP','XgBoost'],'Accuracy'].values).set_title(\"Accuracy Comparisons\")\n",
    "            \n",
    "\n"
   ]
  },
  {
   "cell_type": "code",
   "execution_count": null,
   "metadata": {
    "colab": {},
    "colab_type": "code",
    "id": "h4ZDImRt2hqf"
   },
   "outputs": [],
   "source": [
    "# sns.barplot(x = ['Random Forest threshold','QDA','MLP','XgBoost'],\n",
    "            \n",
    "#             y = result_measurements.loc[['Random Forest threshold','QDA','MLP','XgBoost'],'Precision'].values).set_title(\"Precision Comparisons\")\n",
    "\n",
    "\n"
   ]
  },
  {
   "cell_type": "code",
   "execution_count": null,
   "metadata": {
    "colab": {},
    "colab_type": "code",
    "id": "fFP4XJV22igw"
   },
   "outputs": [],
   "source": [
    "# sns.barplot(x = ['Random Forest threshold','QDA','MLP','XgBoost'],\n",
    "#             y = result_measurements.loc[['Random Forest threshold','QDA','MLP','XgBoost'],'Recall'].values).set_title(\"Recall Comparisons\")"
   ]
  },
  {
   "cell_type": "code",
   "execution_count": null,
   "metadata": {
    "colab": {},
    "colab_type": "code",
    "id": "5djQ1WNJ2jGp"
   },
   "outputs": [],
   "source": [
    "# algorithms = ['Random Forest', 'QDA' ,'Neural Net' ,'Extreme Gradient Boosting']\n",
    "\n",
    "# rfb_vals =[accuracy_rtree,precision_rtree,recall_rtree]\n",
    "# qda_vals = [accuracy_QDA,precision_QDA,recall_QDA]\n",
    "# mlp_vals = [accuracy_mlp,precision_mlp,recall_mlp]\n",
    "# xgboost_vals = [test_acc,test_prec,test_recall]\n",
    "\n",
    "# accuracy = [accuracy_rtree, accuracy_QDA, accuracy_mlp, test_acc]\n",
    "# precision = [precision_rtree, precision_QDA, precision_mlp, test_prec]\n",
    "# recall = [recall_rtree, recall_QDA, recall_mlp, test_recall]\n",
    "\n",
    "# plt.plot( x = algorithms, y=accuracy, marker='', color='blue', linewidth=2, label='Accurcay')\n",
    "# # plt.plot( x = algorithms, y=precision, marker='', color='olive', linewidth=2, label='Precision')\n",
    "# # plt.plot( x = algorithms, y=recall, marker='', color='magenta', linewidth=2, label='Recall')"
   ]
  }
 ],
 "metadata": {
  "colab": {
   "collapsed_sections": [],
   "name": "MLProject.ipynb",
   "provenance": [],
   "version": "0.3.2"
  },
  "kernelspec": {
   "display_name": "Python 3",
   "language": "python",
   "name": "python3"
  },
  "language_info": {
   "codemirror_mode": {
    "name": "ipython",
    "version": 3
   },
   "file_extension": ".py",
   "mimetype": "text/x-python",
   "name": "python",
   "nbconvert_exporter": "python",
   "pygments_lexer": "ipython3",
   "version": "3.7.3"
  }
 },
 "nbformat": 4,
 "nbformat_minor": 1
}
